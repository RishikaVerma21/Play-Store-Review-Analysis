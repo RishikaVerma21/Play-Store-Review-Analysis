{
  "nbformat": 4,
  "nbformat_minor": 0,
  "metadata": {
    "colab": {
      "name": "Play store analysis and sentiment analysis.ipynb",
      "provenance": [],
      "collapsed_sections": [],
      "authorship_tag": "ABX9TyMxCmKJXRfqRUEiylal45zG",
      "include_colab_link": true
    },
    "kernelspec": {
      "name": "python3",
      "display_name": "Python 3"
    },
    "language_info": {
      "name": "python"
    }
  },
  "cells": [
    {
      "cell_type": "markdown",
      "metadata": {
        "id": "view-in-github",
        "colab_type": "text"
      },
      "source": [
        "<a href=\"https://colab.research.google.com/github/RishikaVerma21/Play-Store-Review-Analysis/blob/main/Play_store_analysis_and_sentiment_analysis.ipynb\" target=\"_parent\"><img src=\"https://colab.research.google.com/assets/colab-badge.svg\" alt=\"Open In Colab\"/></a>"
      ]
    },
    {
      "cell_type": "markdown",
      "source": [
        "#**Introduction :**\n",
        "\n"
      ],
      "metadata": {
        "id": "x0yh8vFANk0B"
      }
    },
    {
      "cell_type": "markdown",
      "source": [
        " **Play store data:**\n",
        "\n",
        "*This contains data on the Google Play applications. It has 10,841 rows and 13 columns of data which has following columns:*"
      ],
      "metadata": {
        "id": "PWWO7fAxN9Tl"
      }
    },
    {
      "cell_type": "markdown",
      "source": [
        "**App:** The name of apps given\n",
        "\n",
        "**App Category:** This column tells us the category of the app. This could be beauty, business, medical,art and design entertainment, education...etc.\n",
        "\n",
        "**Rating:** This column tells us how much rating that app has got. Users rate the app out of 5, with 1 being the lowest rating and 5 being the highest.\n",
        "\n",
        "**Reviews:** This column tells us the number of user given reviews for each app.\n",
        "\n",
        "**Size:** This column tells us memory size needed to install the application.\n",
        "\n",
        "**Installs:** This column tells us the number of times each application has been installed by the users.\n",
        "\n",
        "**Type:** This column tells us whether the app is free or a paid app.\n",
        "\n",
        "**Price:** This column tells us the price of the app.\n",
        "\n",
        "**Content Rating:** This column tells us the audience for the app. They may be for teens, mature audience, etc\n",
        "\n",
        "**Genres:** This column intends sub-category for each app. \n",
        "\n",
        "**Last Updated:** This column tells us the release date of the  app.\n",
        "\n",
        "**Current Ver:** This column tells us the current version of app.\n",
        "\n",
        "**Android Ver:** This column tells us the oldest version of Android O/S supported by the app."
      ],
      "metadata": {
        "id": "ZE274sN1OQ4Z"
      }
    },
    {
      "cell_type": "markdown",
      "source": [
        "**User Reviews :**\n",
        "\n",
        "*This file contains the result of the sentiment analysis. This data contains 64,295 rows and 5 columns. What these columns says are given below*"
      ],
      "metadata": {
        "id": "yHkSgBauPg2M"
      }
    },
    {
      "cell_type": "markdown",
      "source": [
        "**App:** Name of the app.\n",
        "\n",
        "**Translated_Review:** This column tells us either the original review in english, or a translated version if the orignal review is in another language.\n",
        "\n",
        "**Sentiment:** This column tells us the result of the sentiment analysis conducted on a review and the value may be either Positive or Neutral or Negative.\n",
        "\n",
        "**Sentiment_Polarity:** This column tells us the value indicating the positivity or negativity of the sentiment. The values ranges from -1 (most negative) to 1 (most positive). The sentiment polarity of an element defines the orientation of the expressed sentiment, i.e. it tells us whether the text expresses positive, negative or neutral sentiment of the user about the entity in consideration.\n",
        "\n",
        "**Sentiment_Subjectivity:** This column tells us the value from 0 to 1 indicating the subjectivity of the review. Lower values indicate the review is based on factual information while the higher values indicate the review is based on personal or public opinions or judgements."
      ],
      "metadata": {
        "id": "sB67pmE8Qisg"
      }
    },
    {
      "cell_type": "code",
      "source": [
        "# Import the necessary modules\n",
        "\n",
        "import numpy as np\n",
        "import pandas as pd\n",
        "import matplotlib.pyplot as plt\n",
        "import seaborn as sns\n",
        "import datetime as dt\n",
        "import plotly.graph_objects as go\n",
        "from plotly.offline import init_notebook_mode, iplot\n",
        "init_notebook_mode(connected=True)\n",
        "\n",
        "import warnings\n",
        "warnings.filterwarnings(\"ignore\")"
      ],
      "metadata": {
        "colab": {
          "base_uri": "https://localhost:8080/",
          "height": 17
        },
        "id": "zMWM92qJ36-L",
        "outputId": "74937006-232c-440c-8a0c-c4b69c000aad"
      },
      "execution_count": 4,
      "outputs": [
        {
          "output_type": "display_data",
          "data": {
            "text/html": [
              "        <script type=\"text/javascript\">\n",
              "        window.PlotlyConfig = {MathJaxConfig: 'local'};\n",
              "        if (window.MathJax) {MathJax.Hub.Config({SVG: {font: \"STIX-Web\"}});}\n",
              "        if (typeof require !== 'undefined') {\n",
              "        require.undef(\"plotly\");\n",
              "        requirejs.config({\n",
              "            paths: {\n",
              "                'plotly': ['https://cdn.plot.ly/plotly-2.8.3.min']\n",
              "            }\n",
              "        });\n",
              "        require(['plotly'], function(Plotly) {\n",
              "            window._Plotly = Plotly;\n",
              "        });\n",
              "        }\n",
              "        </script>\n",
              "        "
            ]
          },
          "metadata": {}
        }
      ]
    },
    {
      "cell_type": "code",
      "source": [
        "from matplotlib import pyplot as plt\n",
        "plt.style.use('ggplot')\n",
        "%matplotlib inline\n",
        "from matplotlib import rcParams     \n",
        "\n",
        "\n",
        "import seaborn as sns              # To make plots with seaborn\n",
        "color = sns.color_palette()\n",
        "\n",
        "import warnings\n",
        "warnings.filterwarnings('ignore')"
      ],
      "metadata": {
        "id": "G5T_TGFvYQWN"
      },
      "execution_count": 5,
      "outputs": []
    },
    {
      "cell_type": "markdown",
      "source": [
        "**Now we will import csv file**"
      ],
      "metadata": {
        "id": "iV5UygniaxZ4"
      }
    },
    {
      "cell_type": "code",
      "source": [
        "from google.colab import drive\n",
        "drive.mount('/content/drive')"
      ],
      "metadata": {
        "id": "RGRJQkMRa6g1",
        "colab": {
          "base_uri": "https://localhost:8080/"
        },
        "outputId": "7eba206a-dea5-4ef6-eda0-09de74c4ffa6"
      },
      "execution_count": 6,
      "outputs": [
        {
          "output_type": "stream",
          "name": "stdout",
          "text": [
            "Drive already mounted at /content/drive; to attempt to forcibly remount, call drive.mount(\"/content/drive\", force_remount=True).\n"
          ]
        }
      ]
    },
    {
      "cell_type": "code",
      "source": [
        "path  = \"/content/drive/MyDrive/Capstone Projects/Project 1 : Play Store review analysis/\"\n",
        " \n",
        "play_store_df = pd.read_csv(path + \"Play Store Data.csv\")\n",
        "user_review_df = pd.read_csv(path + \"User Reviews.csv\")"
      ],
      "metadata": {
        "id": "Yyxv6cTNtj2R"
      },
      "execution_count": 7,
      "outputs": []
    },
    {
      "cell_type": "code",
      "source": [
        "# This gives us the information of our data set\n",
        "play_store_df.info() "
      ],
      "metadata": {
        "colab": {
          "base_uri": "https://localhost:8080/"
        },
        "id": "N_M6esGOxgWL",
        "outputId": "908d5214-f61c-494b-a481-e44ea6f3444d"
      },
      "execution_count": 8,
      "outputs": [
        {
          "output_type": "stream",
          "name": "stdout",
          "text": [
            "<class 'pandas.core.frame.DataFrame'>\n",
            "RangeIndex: 10841 entries, 0 to 10840\n",
            "Data columns (total 13 columns):\n",
            " #   Column          Non-Null Count  Dtype  \n",
            "---  ------          --------------  -----  \n",
            " 0   App             10841 non-null  object \n",
            " 1   Category        10841 non-null  object \n",
            " 2   Rating          9367 non-null   float64\n",
            " 3   Reviews         10841 non-null  object \n",
            " 4   Size            10841 non-null  object \n",
            " 5   Installs        10841 non-null  object \n",
            " 6   Type            10840 non-null  object \n",
            " 7   Price           10841 non-null  object \n",
            " 8   Content Rating  10840 non-null  object \n",
            " 9   Genres          10841 non-null  object \n",
            " 10  Last Updated    10841 non-null  object \n",
            " 11  Current Ver     10833 non-null  object \n",
            " 12  Android Ver     10838 non-null  object \n",
            "dtypes: float64(1), object(12)\n",
            "memory usage: 1.1+ MB\n"
          ]
        }
      ]
    },
    {
      "cell_type": "code",
      "source": [
        "# This code will give first 5 rows of the data set\n",
        "play_store_df.sample(5) "
      ],
      "metadata": {
        "colab": {
          "base_uri": "https://localhost:8080/",
          "height": 406
        },
        "id": "ExPTHHEhxVb5",
        "outputId": "ed0d9c04-b6ae-4e7e-fa81-314887d888df"
      },
      "execution_count": 9,
      "outputs": [
        {
          "output_type": "execute_result",
          "data": {
            "text/html": [
              "\n",
              "  <div id=\"df-83423d11-a3a3-4439-853f-04eef8707360\">\n",
              "    <div class=\"colab-df-container\">\n",
              "      <div>\n",
              "<style scoped>\n",
              "    .dataframe tbody tr th:only-of-type {\n",
              "        vertical-align: middle;\n",
              "    }\n",
              "\n",
              "    .dataframe tbody tr th {\n",
              "        vertical-align: top;\n",
              "    }\n",
              "\n",
              "    .dataframe thead th {\n",
              "        text-align: right;\n",
              "    }\n",
              "</style>\n",
              "<table border=\"1\" class=\"dataframe\">\n",
              "  <thead>\n",
              "    <tr style=\"text-align: right;\">\n",
              "      <th></th>\n",
              "      <th>App</th>\n",
              "      <th>Category</th>\n",
              "      <th>Rating</th>\n",
              "      <th>Reviews</th>\n",
              "      <th>Size</th>\n",
              "      <th>Installs</th>\n",
              "      <th>Type</th>\n",
              "      <th>Price</th>\n",
              "      <th>Content Rating</th>\n",
              "      <th>Genres</th>\n",
              "      <th>Last Updated</th>\n",
              "      <th>Current Ver</th>\n",
              "      <th>Android Ver</th>\n",
              "    </tr>\n",
              "  </thead>\n",
              "  <tbody>\n",
              "    <tr>\n",
              "      <th>3624</th>\n",
              "      <td>Children's Stories 2018 - The Lion Come Lion</td>\n",
              "      <td>PARENTING</td>\n",
              "      <td>4.4</td>\n",
              "      <td>39</td>\n",
              "      <td>18M</td>\n",
              "      <td>10,000+</td>\n",
              "      <td>Free</td>\n",
              "      <td>0</td>\n",
              "      <td>Everyone</td>\n",
              "      <td>Parenting;Music &amp; Video</td>\n",
              "      <td>October 31, 2017</td>\n",
              "      <td>1.2</td>\n",
              "      <td>4.0 and up</td>\n",
              "    </tr>\n",
              "    <tr>\n",
              "      <th>8475</th>\n",
              "      <td>Super DK vs Kong Brother Advanced Free Classic</td>\n",
              "      <td>GAME</td>\n",
              "      <td>3.8</td>\n",
              "      <td>66</td>\n",
              "      <td>38M</td>\n",
              "      <td>10,000+</td>\n",
              "      <td>Free</td>\n",
              "      <td>0</td>\n",
              "      <td>Everyone</td>\n",
              "      <td>Arcade</td>\n",
              "      <td>July 17, 2018</td>\n",
              "      <td>1.2</td>\n",
              "      <td>4.1 and up</td>\n",
              "    </tr>\n",
              "    <tr>\n",
              "      <th>2216</th>\n",
              "      <td>Duolingo: Learn Languages Free</td>\n",
              "      <td>FAMILY</td>\n",
              "      <td>4.7</td>\n",
              "      <td>6294397</td>\n",
              "      <td>Varies with device</td>\n",
              "      <td>100,000,000+</td>\n",
              "      <td>Free</td>\n",
              "      <td>0</td>\n",
              "      <td>Everyone</td>\n",
              "      <td>Education;Education</td>\n",
              "      <td>August 1, 2018</td>\n",
              "      <td>Varies with device</td>\n",
              "      <td>Varies with device</td>\n",
              "    </tr>\n",
              "    <tr>\n",
              "      <th>10143</th>\n",
              "      <td>EZ TV Player</td>\n",
              "      <td>VIDEO_PLAYERS</td>\n",
              "      <td>3.5</td>\n",
              "      <td>51</td>\n",
              "      <td>11M</td>\n",
              "      <td>10,000+</td>\n",
              "      <td>Free</td>\n",
              "      <td>0</td>\n",
              "      <td>Everyone</td>\n",
              "      <td>Video Players &amp; Editors</td>\n",
              "      <td>June 26, 2018</td>\n",
              "      <td>8.0.9</td>\n",
              "      <td>5.0 and up</td>\n",
              "    </tr>\n",
              "    <tr>\n",
              "      <th>9967</th>\n",
              "      <td>Power Plug EV charger</td>\n",
              "      <td>MAPS_AND_NAVIGATION</td>\n",
              "      <td>3.7</td>\n",
              "      <td>13</td>\n",
              "      <td>3.9M</td>\n",
              "      <td>1,000+</td>\n",
              "      <td>Free</td>\n",
              "      <td>0</td>\n",
              "      <td>Everyone</td>\n",
              "      <td>Maps &amp; Navigation</td>\n",
              "      <td>December 22, 2014</td>\n",
              "      <td>1.1</td>\n",
              "      <td>2.3.3 and up</td>\n",
              "    </tr>\n",
              "  </tbody>\n",
              "</table>\n",
              "</div>\n",
              "      <button class=\"colab-df-convert\" onclick=\"convertToInteractive('df-83423d11-a3a3-4439-853f-04eef8707360')\"\n",
              "              title=\"Convert this dataframe to an interactive table.\"\n",
              "              style=\"display:none;\">\n",
              "        \n",
              "  <svg xmlns=\"http://www.w3.org/2000/svg\" height=\"24px\"viewBox=\"0 0 24 24\"\n",
              "       width=\"24px\">\n",
              "    <path d=\"M0 0h24v24H0V0z\" fill=\"none\"/>\n",
              "    <path d=\"M18.56 5.44l.94 2.06.94-2.06 2.06-.94-2.06-.94-.94-2.06-.94 2.06-2.06.94zm-11 1L8.5 8.5l.94-2.06 2.06-.94-2.06-.94L8.5 2.5l-.94 2.06-2.06.94zm10 10l.94 2.06.94-2.06 2.06-.94-2.06-.94-.94-2.06-.94 2.06-2.06.94z\"/><path d=\"M17.41 7.96l-1.37-1.37c-.4-.4-.92-.59-1.43-.59-.52 0-1.04.2-1.43.59L10.3 9.45l-7.72 7.72c-.78.78-.78 2.05 0 2.83L4 21.41c.39.39.9.59 1.41.59.51 0 1.02-.2 1.41-.59l7.78-7.78 2.81-2.81c.8-.78.8-2.07 0-2.86zM5.41 20L4 18.59l7.72-7.72 1.47 1.35L5.41 20z\"/>\n",
              "  </svg>\n",
              "      </button>\n",
              "      \n",
              "  <style>\n",
              "    .colab-df-container {\n",
              "      display:flex;\n",
              "      flex-wrap:wrap;\n",
              "      gap: 12px;\n",
              "    }\n",
              "\n",
              "    .colab-df-convert {\n",
              "      background-color: #E8F0FE;\n",
              "      border: none;\n",
              "      border-radius: 50%;\n",
              "      cursor: pointer;\n",
              "      display: none;\n",
              "      fill: #1967D2;\n",
              "      height: 32px;\n",
              "      padding: 0 0 0 0;\n",
              "      width: 32px;\n",
              "    }\n",
              "\n",
              "    .colab-df-convert:hover {\n",
              "      background-color: #E2EBFA;\n",
              "      box-shadow: 0px 1px 2px rgba(60, 64, 67, 0.3), 0px 1px 3px 1px rgba(60, 64, 67, 0.15);\n",
              "      fill: #174EA6;\n",
              "    }\n",
              "\n",
              "    [theme=dark] .colab-df-convert {\n",
              "      background-color: #3B4455;\n",
              "      fill: #D2E3FC;\n",
              "    }\n",
              "\n",
              "    [theme=dark] .colab-df-convert:hover {\n",
              "      background-color: #434B5C;\n",
              "      box-shadow: 0px 1px 3px 1px rgba(0, 0, 0, 0.15);\n",
              "      filter: drop-shadow(0px 1px 2px rgba(0, 0, 0, 0.3));\n",
              "      fill: #FFFFFF;\n",
              "    }\n",
              "  </style>\n",
              "\n",
              "      <script>\n",
              "        const buttonEl =\n",
              "          document.querySelector('#df-83423d11-a3a3-4439-853f-04eef8707360 button.colab-df-convert');\n",
              "        buttonEl.style.display =\n",
              "          google.colab.kernel.accessAllowed ? 'block' : 'none';\n",
              "\n",
              "        async function convertToInteractive(key) {\n",
              "          const element = document.querySelector('#df-83423d11-a3a3-4439-853f-04eef8707360');\n",
              "          const dataTable =\n",
              "            await google.colab.kernel.invokeFunction('convertToInteractive',\n",
              "                                                     [key], {});\n",
              "          if (!dataTable) return;\n",
              "\n",
              "          const docLinkHtml = 'Like what you see? Visit the ' +\n",
              "            '<a target=\"_blank\" href=https://colab.research.google.com/notebooks/data_table.ipynb>data table notebook</a>'\n",
              "            + ' to learn more about interactive tables.';\n",
              "          element.innerHTML = '';\n",
              "          dataTable['output_type'] = 'display_data';\n",
              "          await google.colab.output.renderOutput(dataTable, element);\n",
              "          const docLink = document.createElement('div');\n",
              "          docLink.innerHTML = docLinkHtml;\n",
              "          element.appendChild(docLink);\n",
              "        }\n",
              "      </script>\n",
              "    </div>\n",
              "  </div>\n",
              "  "
            ],
            "text/plain": [
              "                                                  App  ...         Android Ver\n",
              "3624     Children's Stories 2018 - The Lion Come Lion  ...          4.0 and up\n",
              "8475   Super DK vs Kong Brother Advanced Free Classic  ...          4.1 and up\n",
              "2216                   Duolingo: Learn Languages Free  ...  Varies with device\n",
              "10143                                    EZ TV Player  ...          5.0 and up\n",
              "9967                            Power Plug EV charger  ...        2.3.3 and up\n",
              "\n",
              "[5 rows x 13 columns]"
            ]
          },
          "metadata": {},
          "execution_count": 9
        }
      ]
    },
    {
      "cell_type": "markdown",
      "source": [
        "**Let's Check the shape of data**"
      ],
      "metadata": {
        "id": "8ZKSNJupuXJ-"
      }
    },
    {
      "cell_type": "code",
      "source": [
        "print(play_store_df.shape)\n",
        "print(user_review_df.shape)"
      ],
      "metadata": {
        "colab": {
          "base_uri": "https://localhost:8080/"
        },
        "id": "_Tm20r_9uQqP",
        "outputId": "841717be-777a-4f71-8e61-0a5238f9a614"
      },
      "execution_count": 10,
      "outputs": [
        {
          "output_type": "stream",
          "name": "stdout",
          "text": [
            "(10841, 13)\n",
            "(64295, 5)\n"
          ]
        }
      ]
    },
    {
      "cell_type": "markdown",
      "source": [
        "#**DATA CLEANING**"
      ],
      "metadata": {
        "id": "DiYfDHx40rN1"
      }
    },
    {
      "cell_type": "code",
      "source": [
        "# First we need to find missing value in our data\n",
        "print('Missing value are as follows:')\n",
        "\n",
        "play_store_df.isnull().sum()"
      ],
      "metadata": {
        "colab": {
          "base_uri": "https://localhost:8080/"
        },
        "id": "54qAmMQnyWLg",
        "outputId": "7f6d19df-a440-4cfb-c529-11359cfbde17"
      },
      "execution_count": 11,
      "outputs": [
        {
          "output_type": "stream",
          "name": "stdout",
          "text": [
            "Missing value are as follows:\n"
          ]
        },
        {
          "output_type": "execute_result",
          "data": {
            "text/plain": [
              "App                  0\n",
              "Category             0\n",
              "Rating            1474\n",
              "Reviews              0\n",
              "Size                 0\n",
              "Installs             0\n",
              "Type                 1\n",
              "Price                0\n",
              "Content Rating       1\n",
              "Genres               0\n",
              "Last Updated         0\n",
              "Current Ver          8\n",
              "Android Ver          3\n",
              "dtype: int64"
            ]
          },
          "metadata": {},
          "execution_count": 11
        }
      ]
    },
    {
      "cell_type": "markdown",
      "source": [
        "**Drop NaNs and duplicates from existing dataframe**"
      ],
      "metadata": {
        "id": "QNCoa4u44fG9"
      }
    },
    {
      "cell_type": "code",
      "source": [
        "# Delete duplicates from App column.\n",
        "play_store_df.drop_duplicates(subset=['App'],keep='first', inplace=True, ignore_index=True)\n",
        "\n",
        "# check data remove or not\n",
        "play_store_df.columns"
      ],
      "metadata": {
        "colab": {
          "base_uri": "https://localhost:8080/"
        },
        "id": "J-u6r26a4cfu",
        "outputId": "ed2b0baf-0df3-47e5-c185-ee10ba6f17ee"
      },
      "execution_count": 12,
      "outputs": [
        {
          "output_type": "execute_result",
          "data": {
            "text/plain": [
              "Index(['App', 'Category', 'Rating', 'Reviews', 'Size', 'Installs', 'Type',\n",
              "       'Price', 'Content Rating', 'Genres', 'Last Updated', 'Current Ver',\n",
              "       'Android Ver'],\n",
              "      dtype='object')"
            ]
          },
          "metadata": {},
          "execution_count": 12
        }
      ]
    },
    {
      "cell_type": "code",
      "source": [
        "play_store_df.isnull().sum()"
      ],
      "metadata": {
        "colab": {
          "base_uri": "https://localhost:8080/"
        },
        "id": "5K7L6Dey5z2b",
        "outputId": "7f55165d-47ab-4abf-8919-50007ef6ed37"
      },
      "execution_count": 13,
      "outputs": [
        {
          "output_type": "execute_result",
          "data": {
            "text/plain": [
              "App                  0\n",
              "Category             0\n",
              "Rating            1463\n",
              "Reviews              0\n",
              "Size                 0\n",
              "Installs             0\n",
              "Type                 1\n",
              "Price                0\n",
              "Content Rating       1\n",
              "Genres               0\n",
              "Last Updated         0\n",
              "Current Ver          8\n",
              "Android Ver          3\n",
              "dtype: int64"
            ]
          },
          "metadata": {},
          "execution_count": 13
        }
      ]
    },
    {
      "cell_type": "code",
      "source": [
        "play_store_df.info()"
      ],
      "metadata": {
        "colab": {
          "base_uri": "https://localhost:8080/"
        },
        "id": "bhMQg8Y654xN",
        "outputId": "5a6bde2a-dbb5-405b-81e4-e80047944627"
      },
      "execution_count": 14,
      "outputs": [
        {
          "output_type": "stream",
          "name": "stdout",
          "text": [
            "<class 'pandas.core.frame.DataFrame'>\n",
            "RangeIndex: 9660 entries, 0 to 9659\n",
            "Data columns (total 13 columns):\n",
            " #   Column          Non-Null Count  Dtype  \n",
            "---  ------          --------------  -----  \n",
            " 0   App             9660 non-null   object \n",
            " 1   Category        9660 non-null   object \n",
            " 2   Rating          8197 non-null   float64\n",
            " 3   Reviews         9660 non-null   object \n",
            " 4   Size            9660 non-null   object \n",
            " 5   Installs        9660 non-null   object \n",
            " 6   Type            9659 non-null   object \n",
            " 7   Price           9660 non-null   object \n",
            " 8   Content Rating  9659 non-null   object \n",
            " 9   Genres          9660 non-null   object \n",
            " 10  Last Updated    9660 non-null   object \n",
            " 11  Current Ver     9652 non-null   object \n",
            " 12  Android Ver     9657 non-null   object \n",
            "dtypes: float64(1), object(12)\n",
            "memory usage: 981.2+ KB\n"
          ]
        }
      ]
    },
    {
      "cell_type": "code",
      "source": [
        "# This code will give first 10 rows of the data set\n",
        "play_store_df.sample(10) "
      ],
      "metadata": {
        "colab": {
          "base_uri": "https://localhost:8080/",
          "height": 685
        },
        "id": "ZTaMbPO61ycv",
        "outputId": "98a3b1c7-2f79-4a04-ec8a-f1ac1a2f8dc5"
      },
      "execution_count": 15,
      "outputs": [
        {
          "output_type": "execute_result",
          "data": {
            "text/html": [
              "\n",
              "  <div id=\"df-0f62f4c0-296c-4861-b169-3694ad5c13cb\">\n",
              "    <div class=\"colab-df-container\">\n",
              "      <div>\n",
              "<style scoped>\n",
              "    .dataframe tbody tr th:only-of-type {\n",
              "        vertical-align: middle;\n",
              "    }\n",
              "\n",
              "    .dataframe tbody tr th {\n",
              "        vertical-align: top;\n",
              "    }\n",
              "\n",
              "    .dataframe thead th {\n",
              "        text-align: right;\n",
              "    }\n",
              "</style>\n",
              "<table border=\"1\" class=\"dataframe\">\n",
              "  <thead>\n",
              "    <tr style=\"text-align: right;\">\n",
              "      <th></th>\n",
              "      <th>App</th>\n",
              "      <th>Category</th>\n",
              "      <th>Rating</th>\n",
              "      <th>Reviews</th>\n",
              "      <th>Size</th>\n",
              "      <th>Installs</th>\n",
              "      <th>Type</th>\n",
              "      <th>Price</th>\n",
              "      <th>Content Rating</th>\n",
              "      <th>Genres</th>\n",
              "      <th>Last Updated</th>\n",
              "      <th>Current Ver</th>\n",
              "      <th>Android Ver</th>\n",
              "    </tr>\n",
              "  </thead>\n",
              "  <tbody>\n",
              "    <tr>\n",
              "      <th>5822</th>\n",
              "      <td>Bacterial Vaginosis 🇺🇸</td>\n",
              "      <td>HEALTH_AND_FITNESS</td>\n",
              "      <td>NaN</td>\n",
              "      <td>1</td>\n",
              "      <td>3.5M</td>\n",
              "      <td>500+</td>\n",
              "      <td>Free</td>\n",
              "      <td>0</td>\n",
              "      <td>Teen</td>\n",
              "      <td>Health &amp; Fitness</td>\n",
              "      <td>November 1, 2017</td>\n",
              "      <td>1.1</td>\n",
              "      <td>2.3 and up</td>\n",
              "    </tr>\n",
              "    <tr>\n",
              "      <th>8</th>\n",
              "      <td>Garden Coloring Book</td>\n",
              "      <td>ART_AND_DESIGN</td>\n",
              "      <td>4.4</td>\n",
              "      <td>13791</td>\n",
              "      <td>33M</td>\n",
              "      <td>1,000,000+</td>\n",
              "      <td>Free</td>\n",
              "      <td>0</td>\n",
              "      <td>Everyone</td>\n",
              "      <td>Art &amp; Design</td>\n",
              "      <td>September 20, 2017</td>\n",
              "      <td>2.9.2</td>\n",
              "      <td>3.0 and up</td>\n",
              "    </tr>\n",
              "    <tr>\n",
              "      <th>923</th>\n",
              "      <td>Fox Business</td>\n",
              "      <td>FINANCE</td>\n",
              "      <td>3.7</td>\n",
              "      <td>2594</td>\n",
              "      <td>Varies with device</td>\n",
              "      <td>500,000+</td>\n",
              "      <td>Free</td>\n",
              "      <td>0</td>\n",
              "      <td>Everyone</td>\n",
              "      <td>Finance</td>\n",
              "      <td>March 13, 2018</td>\n",
              "      <td>Varies with device</td>\n",
              "      <td>Varies with device</td>\n",
              "    </tr>\n",
              "    <tr>\n",
              "      <th>7877</th>\n",
              "      <td>Deaf World DW</td>\n",
              "      <td>COMMUNICATION</td>\n",
              "      <td>4.3</td>\n",
              "      <td>298</td>\n",
              "      <td>Varies with device</td>\n",
              "      <td>10,000+</td>\n",
              "      <td>Free</td>\n",
              "      <td>0</td>\n",
              "      <td>Teen</td>\n",
              "      <td>Communication</td>\n",
              "      <td>November 28, 2017</td>\n",
              "      <td>Varies with device</td>\n",
              "      <td>4.1 and up</td>\n",
              "    </tr>\n",
              "    <tr>\n",
              "      <th>1717</th>\n",
              "      <td>Bita and the Animals - Pelos Ares</td>\n",
              "      <td>FAMILY</td>\n",
              "      <td>4.4</td>\n",
              "      <td>1160</td>\n",
              "      <td>37M</td>\n",
              "      <td>100,000+</td>\n",
              "      <td>Free</td>\n",
              "      <td>0</td>\n",
              "      <td>Everyone</td>\n",
              "      <td>Education;Music &amp; Video</td>\n",
              "      <td>May 22, 2013</td>\n",
              "      <td>1.0</td>\n",
              "      <td>2.2 and up</td>\n",
              "    </tr>\n",
              "    <tr>\n",
              "      <th>6115</th>\n",
              "      <td>CD Ready</td>\n",
              "      <td>BUSINESS</td>\n",
              "      <td>4.6</td>\n",
              "      <td>52</td>\n",
              "      <td>Varies with device</td>\n",
              "      <td>1,000+</td>\n",
              "      <td>Free</td>\n",
              "      <td>0</td>\n",
              "      <td>Everyone</td>\n",
              "      <td>Business</td>\n",
              "      <td>February 2, 2017</td>\n",
              "      <td>6.3.3</td>\n",
              "      <td>4.0 and up</td>\n",
              "    </tr>\n",
              "    <tr>\n",
              "      <th>4827</th>\n",
              "      <td>AX Watch for WatchMaker</td>\n",
              "      <td>PERSONALIZATION</td>\n",
              "      <td>NaN</td>\n",
              "      <td>2</td>\n",
              "      <td>238k</td>\n",
              "      <td>1+</td>\n",
              "      <td>Paid</td>\n",
              "      <td>$0.99</td>\n",
              "      <td>Everyone</td>\n",
              "      <td>Personalization</td>\n",
              "      <td>August 18, 2017</td>\n",
              "      <td>1.0</td>\n",
              "      <td>2.3 and up</td>\n",
              "    </tr>\n",
              "    <tr>\n",
              "      <th>1682</th>\n",
              "      <td>codeSpark Academy &amp; The Foos</td>\n",
              "      <td>FAMILY</td>\n",
              "      <td>4.1</td>\n",
              "      <td>4522</td>\n",
              "      <td>57M</td>\n",
              "      <td>500,000+</td>\n",
              "      <td>Free</td>\n",
              "      <td>0</td>\n",
              "      <td>Everyone</td>\n",
              "      <td>Educational;Education</td>\n",
              "      <td>June 21, 2018</td>\n",
              "      <td>2.19.01</td>\n",
              "      <td>4.1 and up</td>\n",
              "    </tr>\n",
              "    <tr>\n",
              "      <th>5568</th>\n",
              "      <td>iFORA BP</td>\n",
              "      <td>MEDICAL</td>\n",
              "      <td>3.4</td>\n",
              "      <td>18</td>\n",
              "      <td>45M</td>\n",
              "      <td>1,000+</td>\n",
              "      <td>Free</td>\n",
              "      <td>0</td>\n",
              "      <td>Everyone</td>\n",
              "      <td>Medical</td>\n",
              "      <td>June 5, 2018</td>\n",
              "      <td>1.2.4</td>\n",
              "      <td>2.3.3 and up</td>\n",
              "    </tr>\n",
              "    <tr>\n",
              "      <th>5494</th>\n",
              "      <td>BN Whitening Shoppe Ph</td>\n",
              "      <td>BEAUTY</td>\n",
              "      <td>4.0</td>\n",
              "      <td>2</td>\n",
              "      <td>13M</td>\n",
              "      <td>100+</td>\n",
              "      <td>Free</td>\n",
              "      <td>0</td>\n",
              "      <td>Everyone</td>\n",
              "      <td>Beauty</td>\n",
              "      <td>March 6, 2018</td>\n",
              "      <td>1.0.8</td>\n",
              "      <td>4.0.3 and up</td>\n",
              "    </tr>\n",
              "  </tbody>\n",
              "</table>\n",
              "</div>\n",
              "      <button class=\"colab-df-convert\" onclick=\"convertToInteractive('df-0f62f4c0-296c-4861-b169-3694ad5c13cb')\"\n",
              "              title=\"Convert this dataframe to an interactive table.\"\n",
              "              style=\"display:none;\">\n",
              "        \n",
              "  <svg xmlns=\"http://www.w3.org/2000/svg\" height=\"24px\"viewBox=\"0 0 24 24\"\n",
              "       width=\"24px\">\n",
              "    <path d=\"M0 0h24v24H0V0z\" fill=\"none\"/>\n",
              "    <path d=\"M18.56 5.44l.94 2.06.94-2.06 2.06-.94-2.06-.94-.94-2.06-.94 2.06-2.06.94zm-11 1L8.5 8.5l.94-2.06 2.06-.94-2.06-.94L8.5 2.5l-.94 2.06-2.06.94zm10 10l.94 2.06.94-2.06 2.06-.94-2.06-.94-.94-2.06-.94 2.06-2.06.94z\"/><path d=\"M17.41 7.96l-1.37-1.37c-.4-.4-.92-.59-1.43-.59-.52 0-1.04.2-1.43.59L10.3 9.45l-7.72 7.72c-.78.78-.78 2.05 0 2.83L4 21.41c.39.39.9.59 1.41.59.51 0 1.02-.2 1.41-.59l7.78-7.78 2.81-2.81c.8-.78.8-2.07 0-2.86zM5.41 20L4 18.59l7.72-7.72 1.47 1.35L5.41 20z\"/>\n",
              "  </svg>\n",
              "      </button>\n",
              "      \n",
              "  <style>\n",
              "    .colab-df-container {\n",
              "      display:flex;\n",
              "      flex-wrap:wrap;\n",
              "      gap: 12px;\n",
              "    }\n",
              "\n",
              "    .colab-df-convert {\n",
              "      background-color: #E8F0FE;\n",
              "      border: none;\n",
              "      border-radius: 50%;\n",
              "      cursor: pointer;\n",
              "      display: none;\n",
              "      fill: #1967D2;\n",
              "      height: 32px;\n",
              "      padding: 0 0 0 0;\n",
              "      width: 32px;\n",
              "    }\n",
              "\n",
              "    .colab-df-convert:hover {\n",
              "      background-color: #E2EBFA;\n",
              "      box-shadow: 0px 1px 2px rgba(60, 64, 67, 0.3), 0px 1px 3px 1px rgba(60, 64, 67, 0.15);\n",
              "      fill: #174EA6;\n",
              "    }\n",
              "\n",
              "    [theme=dark] .colab-df-convert {\n",
              "      background-color: #3B4455;\n",
              "      fill: #D2E3FC;\n",
              "    }\n",
              "\n",
              "    [theme=dark] .colab-df-convert:hover {\n",
              "      background-color: #434B5C;\n",
              "      box-shadow: 0px 1px 3px 1px rgba(0, 0, 0, 0.15);\n",
              "      filter: drop-shadow(0px 1px 2px rgba(0, 0, 0, 0.3));\n",
              "      fill: #FFFFFF;\n",
              "    }\n",
              "  </style>\n",
              "\n",
              "      <script>\n",
              "        const buttonEl =\n",
              "          document.querySelector('#df-0f62f4c0-296c-4861-b169-3694ad5c13cb button.colab-df-convert');\n",
              "        buttonEl.style.display =\n",
              "          google.colab.kernel.accessAllowed ? 'block' : 'none';\n",
              "\n",
              "        async function convertToInteractive(key) {\n",
              "          const element = document.querySelector('#df-0f62f4c0-296c-4861-b169-3694ad5c13cb');\n",
              "          const dataTable =\n",
              "            await google.colab.kernel.invokeFunction('convertToInteractive',\n",
              "                                                     [key], {});\n",
              "          if (!dataTable) return;\n",
              "\n",
              "          const docLinkHtml = 'Like what you see? Visit the ' +\n",
              "            '<a target=\"_blank\" href=https://colab.research.google.com/notebooks/data_table.ipynb>data table notebook</a>'\n",
              "            + ' to learn more about interactive tables.';\n",
              "          element.innerHTML = '';\n",
              "          dataTable['output_type'] = 'display_data';\n",
              "          await google.colab.output.renderOutput(dataTable, element);\n",
              "          const docLink = document.createElement('div');\n",
              "          docLink.innerHTML = docLinkHtml;\n",
              "          element.appendChild(docLink);\n",
              "        }\n",
              "      </script>\n",
              "    </div>\n",
              "  </div>\n",
              "  "
            ],
            "text/plain": [
              "                                    App  ...         Android Ver\n",
              "5822             Bacterial Vaginosis 🇺🇸  ...          2.3 and up\n",
              "8                  Garden Coloring Book  ...          3.0 and up\n",
              "923                        Fox Business  ...  Varies with device\n",
              "7877                      Deaf World DW  ...          4.1 and up\n",
              "1717  Bita and the Animals - Pelos Ares  ...          2.2 and up\n",
              "6115                           CD Ready  ...          4.0 and up\n",
              "4827            AX Watch for WatchMaker  ...          2.3 and up\n",
              "1682       codeSpark Academy & The Foos  ...          4.1 and up\n",
              "5568                           iFORA BP  ...        2.3.3 and up\n",
              "5494             BN Whitening Shoppe Ph  ...        4.0.3 and up\n",
              "\n",
              "[10 rows x 13 columns]"
            ]
          },
          "metadata": {},
          "execution_count": 15
        }
      ]
    },
    {
      "cell_type": "markdown",
      "source": [
        "#**CORRECTING DATA TYPE**"
      ],
      "metadata": {
        "id": "V1amg0kB641C"
      }
    },
    {
      "cell_type": "code",
      "source": [
        "# Here we will replace null values with median in the rating column.\n",
        "median_val =round(play_store_df['Rating'].median(),2)\n",
        "\n",
        "#median_val\n",
        "play_store_df['Rating'].fillna(median_val,inplace=True)\n",
        "\n",
        "\n",
        "play_store_df['Current Ver'].fillna(play_store_df['Current Ver'].mode()[0],inplace=True)\n",
        "play_store_df['Android Ver'].fillna(play_store_df['Android Ver'].mode()[0],inplace=True)\n",
        "play_store_df['Content Rating'].fillna(play_store_df['Content Rating'].mode()[0],inplace = True)\n",
        "\n",
        "# Finding the mod values of column and replacing it null values.\n",
        "\n",
        "mode_val_type = play_store_df['Type'].mode()[0]\n",
        "mode_val_type"
      ],
      "metadata": {
        "colab": {
          "base_uri": "https://localhost:8080/",
          "height": 35
        },
        "id": "HQX0ELM6vxb8",
        "outputId": "63320f19-1342-4a4f-a49e-90d9dac8158c"
      },
      "execution_count": 16,
      "outputs": [
        {
          "output_type": "execute_result",
          "data": {
            "application/vnd.google.colaboratory.intrinsic+json": {
              "type": "string"
            },
            "text/plain": [
              "'Free'"
            ]
          },
          "metadata": {},
          "execution_count": 16
        }
      ]
    },
    {
      "cell_type": "code",
      "source": [
        "play_store_df['Type'].fillna(mode_val_type,inplace=True)"
      ],
      "metadata": {
        "id": "mhWboylcws5N"
      },
      "execution_count": 17,
      "outputs": []
    },
    {
      "cell_type": "code",
      "source": [
        "play_store_df.isnull().sum()"
      ],
      "metadata": {
        "colab": {
          "base_uri": "https://localhost:8080/"
        },
        "id": "_jx5nrPpxBUp",
        "outputId": "db5cb5fe-6a54-4b7d-dec1-9430b9b8f17c"
      },
      "execution_count": 18,
      "outputs": [
        {
          "output_type": "execute_result",
          "data": {
            "text/plain": [
              "App               0\n",
              "Category          0\n",
              "Rating            0\n",
              "Reviews           0\n",
              "Size              0\n",
              "Installs          0\n",
              "Type              0\n",
              "Price             0\n",
              "Content Rating    0\n",
              "Genres            0\n",
              "Last Updated      0\n",
              "Current Ver       0\n",
              "Android Ver       0\n",
              "dtype: int64"
            ]
          },
          "metadata": {},
          "execution_count": 18
        }
      ]
    },
    {
      "cell_type": "code",
      "source": [
        "# Here you can notice the difference\n",
        "\n",
        "play_store_df.info()"
      ],
      "metadata": {
        "colab": {
          "base_uri": "https://localhost:8080/"
        },
        "id": "AoJbof28xHNd",
        "outputId": "64d2d7c1-3efa-482b-e1e1-a101fc7a3b94"
      },
      "execution_count": 19,
      "outputs": [
        {
          "output_type": "stream",
          "name": "stdout",
          "text": [
            "<class 'pandas.core.frame.DataFrame'>\n",
            "RangeIndex: 9660 entries, 0 to 9659\n",
            "Data columns (total 13 columns):\n",
            " #   Column          Non-Null Count  Dtype  \n",
            "---  ------          --------------  -----  \n",
            " 0   App             9660 non-null   object \n",
            " 1   Category        9660 non-null   object \n",
            " 2   Rating          9660 non-null   float64\n",
            " 3   Reviews         9660 non-null   object \n",
            " 4   Size            9660 non-null   object \n",
            " 5   Installs        9660 non-null   object \n",
            " 6   Type            9660 non-null   object \n",
            " 7   Price           9660 non-null   object \n",
            " 8   Content Rating  9660 non-null   object \n",
            " 9   Genres          9660 non-null   object \n",
            " 10  Last Updated    9660 non-null   object \n",
            " 11  Current Ver     9660 non-null   object \n",
            " 12  Android Ver     9660 non-null   object \n",
            "dtypes: float64(1), object(12)\n",
            "memory usage: 981.2+ KB\n"
          ]
        }
      ]
    },
    {
      "cell_type": "markdown",
      "source": [
        "#**CHECKING**"
      ],
      "metadata": {
        "id": "yITirQRuxO8P"
      }
    },
    {
      "cell_type": "code",
      "source": [
        "play_store_df[play_store_df.Rating<1]"
      ],
      "metadata": {
        "colab": {
          "base_uri": "https://localhost:8080/",
          "height": 49
        },
        "id": "mSeyxsOd44Mp",
        "outputId": "e9d0a843-e7c9-4448-f4a2-1c56a9aa3276"
      },
      "execution_count": 20,
      "outputs": [
        {
          "output_type": "execute_result",
          "data": {
            "text/html": [
              "\n",
              "  <div id=\"df-0482c94d-6adc-4382-b697-b0dc60d7a8e9\">\n",
              "    <div class=\"colab-df-container\">\n",
              "      <div>\n",
              "<style scoped>\n",
              "    .dataframe tbody tr th:only-of-type {\n",
              "        vertical-align: middle;\n",
              "    }\n",
              "\n",
              "    .dataframe tbody tr th {\n",
              "        vertical-align: top;\n",
              "    }\n",
              "\n",
              "    .dataframe thead th {\n",
              "        text-align: right;\n",
              "    }\n",
              "</style>\n",
              "<table border=\"1\" class=\"dataframe\">\n",
              "  <thead>\n",
              "    <tr style=\"text-align: right;\">\n",
              "      <th></th>\n",
              "      <th>App</th>\n",
              "      <th>Category</th>\n",
              "      <th>Rating</th>\n",
              "      <th>Reviews</th>\n",
              "      <th>Size</th>\n",
              "      <th>Installs</th>\n",
              "      <th>Type</th>\n",
              "      <th>Price</th>\n",
              "      <th>Content Rating</th>\n",
              "      <th>Genres</th>\n",
              "      <th>Last Updated</th>\n",
              "      <th>Current Ver</th>\n",
              "      <th>Android Ver</th>\n",
              "    </tr>\n",
              "  </thead>\n",
              "  <tbody>\n",
              "  </tbody>\n",
              "</table>\n",
              "</div>\n",
              "      <button class=\"colab-df-convert\" onclick=\"convertToInteractive('df-0482c94d-6adc-4382-b697-b0dc60d7a8e9')\"\n",
              "              title=\"Convert this dataframe to an interactive table.\"\n",
              "              style=\"display:none;\">\n",
              "        \n",
              "  <svg xmlns=\"http://www.w3.org/2000/svg\" height=\"24px\"viewBox=\"0 0 24 24\"\n",
              "       width=\"24px\">\n",
              "    <path d=\"M0 0h24v24H0V0z\" fill=\"none\"/>\n",
              "    <path d=\"M18.56 5.44l.94 2.06.94-2.06 2.06-.94-2.06-.94-.94-2.06-.94 2.06-2.06.94zm-11 1L8.5 8.5l.94-2.06 2.06-.94-2.06-.94L8.5 2.5l-.94 2.06-2.06.94zm10 10l.94 2.06.94-2.06 2.06-.94-2.06-.94-.94-2.06-.94 2.06-2.06.94z\"/><path d=\"M17.41 7.96l-1.37-1.37c-.4-.4-.92-.59-1.43-.59-.52 0-1.04.2-1.43.59L10.3 9.45l-7.72 7.72c-.78.78-.78 2.05 0 2.83L4 21.41c.39.39.9.59 1.41.59.51 0 1.02-.2 1.41-.59l7.78-7.78 2.81-2.81c.8-.78.8-2.07 0-2.86zM5.41 20L4 18.59l7.72-7.72 1.47 1.35L5.41 20z\"/>\n",
              "  </svg>\n",
              "      </button>\n",
              "      \n",
              "  <style>\n",
              "    .colab-df-container {\n",
              "      display:flex;\n",
              "      flex-wrap:wrap;\n",
              "      gap: 12px;\n",
              "    }\n",
              "\n",
              "    .colab-df-convert {\n",
              "      background-color: #E8F0FE;\n",
              "      border: none;\n",
              "      border-radius: 50%;\n",
              "      cursor: pointer;\n",
              "      display: none;\n",
              "      fill: #1967D2;\n",
              "      height: 32px;\n",
              "      padding: 0 0 0 0;\n",
              "      width: 32px;\n",
              "    }\n",
              "\n",
              "    .colab-df-convert:hover {\n",
              "      background-color: #E2EBFA;\n",
              "      box-shadow: 0px 1px 2px rgba(60, 64, 67, 0.3), 0px 1px 3px 1px rgba(60, 64, 67, 0.15);\n",
              "      fill: #174EA6;\n",
              "    }\n",
              "\n",
              "    [theme=dark] .colab-df-convert {\n",
              "      background-color: #3B4455;\n",
              "      fill: #D2E3FC;\n",
              "    }\n",
              "\n",
              "    [theme=dark] .colab-df-convert:hover {\n",
              "      background-color: #434B5C;\n",
              "      box-shadow: 0px 1px 3px 1px rgba(0, 0, 0, 0.15);\n",
              "      filter: drop-shadow(0px 1px 2px rgba(0, 0, 0, 0.3));\n",
              "      fill: #FFFFFF;\n",
              "    }\n",
              "  </style>\n",
              "\n",
              "      <script>\n",
              "        const buttonEl =\n",
              "          document.querySelector('#df-0482c94d-6adc-4382-b697-b0dc60d7a8e9 button.colab-df-convert');\n",
              "        buttonEl.style.display =\n",
              "          google.colab.kernel.accessAllowed ? 'block' : 'none';\n",
              "\n",
              "        async function convertToInteractive(key) {\n",
              "          const element = document.querySelector('#df-0482c94d-6adc-4382-b697-b0dc60d7a8e9');\n",
              "          const dataTable =\n",
              "            await google.colab.kernel.invokeFunction('convertToInteractive',\n",
              "                                                     [key], {});\n",
              "          if (!dataTable) return;\n",
              "\n",
              "          const docLinkHtml = 'Like what you see? Visit the ' +\n",
              "            '<a target=\"_blank\" href=https://colab.research.google.com/notebooks/data_table.ipynb>data table notebook</a>'\n",
              "            + ' to learn more about interactive tables.';\n",
              "          element.innerHTML = '';\n",
              "          dataTable['output_type'] = 'display_data';\n",
              "          await google.colab.output.renderOutput(dataTable, element);\n",
              "          const docLink = document.createElement('div');\n",
              "          docLink.innerHTML = docLinkHtml;\n",
              "          element.appendChild(docLink);\n",
              "        }\n",
              "      </script>\n",
              "    </div>\n",
              "  </div>\n",
              "  "
            ],
            "text/plain": [
              "Empty DataFrame\n",
              "Columns: [App, Category, Rating, Reviews, Size, Installs, Type, Price, Content Rating, Genres, Last Updated, Current Ver, Android Ver]\n",
              "Index: []"
            ]
          },
          "metadata": {},
          "execution_count": 20
        }
      ]
    },
    {
      "cell_type": "code",
      "source": [
        "play_store_df[play_store_df['Rating']>5]"
      ],
      "metadata": {
        "colab": {
          "base_uri": "https://localhost:8080/",
          "height": 159
        },
        "id": "8fDF0Txf45Yd",
        "outputId": "dcfe5576-d928-4131-8b0f-2a0818d4cca5"
      },
      "execution_count": 21,
      "outputs": [
        {
          "output_type": "execute_result",
          "data": {
            "text/html": [
              "\n",
              "  <div id=\"df-8c061562-c99c-4734-a572-723d41b02831\">\n",
              "    <div class=\"colab-df-container\">\n",
              "      <div>\n",
              "<style scoped>\n",
              "    .dataframe tbody tr th:only-of-type {\n",
              "        vertical-align: middle;\n",
              "    }\n",
              "\n",
              "    .dataframe tbody tr th {\n",
              "        vertical-align: top;\n",
              "    }\n",
              "\n",
              "    .dataframe thead th {\n",
              "        text-align: right;\n",
              "    }\n",
              "</style>\n",
              "<table border=\"1\" class=\"dataframe\">\n",
              "  <thead>\n",
              "    <tr style=\"text-align: right;\">\n",
              "      <th></th>\n",
              "      <th>App</th>\n",
              "      <th>Category</th>\n",
              "      <th>Rating</th>\n",
              "      <th>Reviews</th>\n",
              "      <th>Size</th>\n",
              "      <th>Installs</th>\n",
              "      <th>Type</th>\n",
              "      <th>Price</th>\n",
              "      <th>Content Rating</th>\n",
              "      <th>Genres</th>\n",
              "      <th>Last Updated</th>\n",
              "      <th>Current Ver</th>\n",
              "      <th>Android Ver</th>\n",
              "    </tr>\n",
              "  </thead>\n",
              "  <tbody>\n",
              "    <tr>\n",
              "      <th>9300</th>\n",
              "      <td>Life Made WI-Fi Touchscreen Photo Frame</td>\n",
              "      <td>1.9</td>\n",
              "      <td>19.0</td>\n",
              "      <td>3.0M</td>\n",
              "      <td>1,000+</td>\n",
              "      <td>Free</td>\n",
              "      <td>0</td>\n",
              "      <td>Everyone</td>\n",
              "      <td>Everyone</td>\n",
              "      <td>February 11, 2018</td>\n",
              "      <td>1.0.19</td>\n",
              "      <td>4.0 and up</td>\n",
              "      <td>4.1 and up</td>\n",
              "    </tr>\n",
              "  </tbody>\n",
              "</table>\n",
              "</div>\n",
              "      <button class=\"colab-df-convert\" onclick=\"convertToInteractive('df-8c061562-c99c-4734-a572-723d41b02831')\"\n",
              "              title=\"Convert this dataframe to an interactive table.\"\n",
              "              style=\"display:none;\">\n",
              "        \n",
              "  <svg xmlns=\"http://www.w3.org/2000/svg\" height=\"24px\"viewBox=\"0 0 24 24\"\n",
              "       width=\"24px\">\n",
              "    <path d=\"M0 0h24v24H0V0z\" fill=\"none\"/>\n",
              "    <path d=\"M18.56 5.44l.94 2.06.94-2.06 2.06-.94-2.06-.94-.94-2.06-.94 2.06-2.06.94zm-11 1L8.5 8.5l.94-2.06 2.06-.94-2.06-.94L8.5 2.5l-.94 2.06-2.06.94zm10 10l.94 2.06.94-2.06 2.06-.94-2.06-.94-.94-2.06-.94 2.06-2.06.94z\"/><path d=\"M17.41 7.96l-1.37-1.37c-.4-.4-.92-.59-1.43-.59-.52 0-1.04.2-1.43.59L10.3 9.45l-7.72 7.72c-.78.78-.78 2.05 0 2.83L4 21.41c.39.39.9.59 1.41.59.51 0 1.02-.2 1.41-.59l7.78-7.78 2.81-2.81c.8-.78.8-2.07 0-2.86zM5.41 20L4 18.59l7.72-7.72 1.47 1.35L5.41 20z\"/>\n",
              "  </svg>\n",
              "      </button>\n",
              "      \n",
              "  <style>\n",
              "    .colab-df-container {\n",
              "      display:flex;\n",
              "      flex-wrap:wrap;\n",
              "      gap: 12px;\n",
              "    }\n",
              "\n",
              "    .colab-df-convert {\n",
              "      background-color: #E8F0FE;\n",
              "      border: none;\n",
              "      border-radius: 50%;\n",
              "      cursor: pointer;\n",
              "      display: none;\n",
              "      fill: #1967D2;\n",
              "      height: 32px;\n",
              "      padding: 0 0 0 0;\n",
              "      width: 32px;\n",
              "    }\n",
              "\n",
              "    .colab-df-convert:hover {\n",
              "      background-color: #E2EBFA;\n",
              "      box-shadow: 0px 1px 2px rgba(60, 64, 67, 0.3), 0px 1px 3px 1px rgba(60, 64, 67, 0.15);\n",
              "      fill: #174EA6;\n",
              "    }\n",
              "\n",
              "    [theme=dark] .colab-df-convert {\n",
              "      background-color: #3B4455;\n",
              "      fill: #D2E3FC;\n",
              "    }\n",
              "\n",
              "    [theme=dark] .colab-df-convert:hover {\n",
              "      background-color: #434B5C;\n",
              "      box-shadow: 0px 1px 3px 1px rgba(0, 0, 0, 0.15);\n",
              "      filter: drop-shadow(0px 1px 2px rgba(0, 0, 0, 0.3));\n",
              "      fill: #FFFFFF;\n",
              "    }\n",
              "  </style>\n",
              "\n",
              "      <script>\n",
              "        const buttonEl =\n",
              "          document.querySelector('#df-8c061562-c99c-4734-a572-723d41b02831 button.colab-df-convert');\n",
              "        buttonEl.style.display =\n",
              "          google.colab.kernel.accessAllowed ? 'block' : 'none';\n",
              "\n",
              "        async function convertToInteractive(key) {\n",
              "          const element = document.querySelector('#df-8c061562-c99c-4734-a572-723d41b02831');\n",
              "          const dataTable =\n",
              "            await google.colab.kernel.invokeFunction('convertToInteractive',\n",
              "                                                     [key], {});\n",
              "          if (!dataTable) return;\n",
              "\n",
              "          const docLinkHtml = 'Like what you see? Visit the ' +\n",
              "            '<a target=\"_blank\" href=https://colab.research.google.com/notebooks/data_table.ipynb>data table notebook</a>'\n",
              "            + ' to learn more about interactive tables.';\n",
              "          element.innerHTML = '';\n",
              "          dataTable['output_type'] = 'display_data';\n",
              "          await google.colab.output.renderOutput(dataTable, element);\n",
              "          const docLink = document.createElement('div');\n",
              "          docLink.innerHTML = docLinkHtml;\n",
              "          element.appendChild(docLink);\n",
              "        }\n",
              "      </script>\n",
              "    </div>\n",
              "  </div>\n",
              "  "
            ],
            "text/plain": [
              "                                          App Category  ...  Current Ver Android Ver\n",
              "9300  Life Made WI-Fi Touchscreen Photo Frame      1.9  ...   4.0 and up  4.1 and up\n",
              "\n",
              "[1 rows x 13 columns]"
            ]
          },
          "metadata": {},
          "execution_count": 21
        }
      ]
    },
    {
      "cell_type": "code",
      "source": [
        "# Here we will drop record rating >5\n",
        "play_store_df.drop([9300],inplace=True)  "
      ],
      "metadata": {
        "id": "n2UM4aeX5O__"
      },
      "execution_count": 22,
      "outputs": []
    },
    {
      "cell_type": "code",
      "source": [
        "play_store_df.boxplot(column='Rating')\n",
        "plt.grid(False)"
      ],
      "metadata": {
        "colab": {
          "base_uri": "https://localhost:8080/",
          "height": 265
        },
        "id": "l-ns6IYo-VFz",
        "outputId": "e3e13575-4291-4a75-ca79-a26c013cc82f"
      },
      "execution_count": 23,
      "outputs": [
        {
          "output_type": "display_data",
          "data": {
            "image/png": "[encoded data removed]",
            "text/plain": [
              "<Figure size 432x288 with 1 Axes>"
            ]
          },
          "metadata": {
            "needs_background": "light"
          }
        }
      ]
    },
    {
      "cell_type": "markdown",
      "source": [
        "Here it is  showing there is no rating present below 1 and above 5"
      ],
      "metadata": {
        "id": "jAx6Sx3K5ihG"
      }
    },
    {
      "cell_type": "markdown",
      "source": [
        "**CLEANING THE DATA MORE PRECISELY**"
      ],
      "metadata": {
        "id": "64pTerAECwaN"
      }
    },
    {
      "cell_type": "code",
      "source": [
        "play_store_df.columns"
      ],
      "metadata": {
        "colab": {
          "base_uri": "https://localhost:8080/"
        },
        "id": "Ll8oAoX63pVt",
        "outputId": "5645ec4d-8a99-4cab-a6d3-4210810984f9"
      },
      "execution_count": 24,
      "outputs": [
        {
          "output_type": "execute_result",
          "data": {
            "text/plain": [
              "Index(['App', 'Category', 'Rating', 'Reviews', 'Size', 'Installs', 'Type',\n",
              "       'Price', 'Content Rating', 'Genres', 'Last Updated', 'Current Ver',\n",
              "       'Android Ver'],\n",
              "      dtype='object')"
            ]
          },
          "metadata": {},
          "execution_count": 24
        }
      ]
    },
    {
      "cell_type": "code",
      "source": [
        "play_store_df.head(1)"
      ],
      "metadata": {
        "colab": {
          "base_uri": "https://localhost:8080/",
          "height": 159
        },
        "id": "9St5qKta9eC-",
        "outputId": "57fae5eb-5d9b-4c83-8e02-857ce98faa6f"
      },
      "execution_count": 68,
      "outputs": [
        {
          "output_type": "execute_result",
          "data": {
            "text/html": [
              "\n",
              "  <div id=\"df-1e24daf2-5c4f-4d26-9771-240bf5b8aca6\">\n",
              "    <div class=\"colab-df-container\">\n",
              "      <div>\n",
              "<style scoped>\n",
              "    .dataframe tbody tr th:only-of-type {\n",
              "        vertical-align: middle;\n",
              "    }\n",
              "\n",
              "    .dataframe tbody tr th {\n",
              "        vertical-align: top;\n",
              "    }\n",
              "\n",
              "    .dataframe thead th {\n",
              "        text-align: right;\n",
              "    }\n",
              "</style>\n",
              "<table border=\"1\" class=\"dataframe\">\n",
              "  <thead>\n",
              "    <tr style=\"text-align: right;\">\n",
              "      <th></th>\n",
              "      <th>App</th>\n",
              "      <th>Category</th>\n",
              "      <th>Rating</th>\n",
              "      <th>Reviews</th>\n",
              "      <th>Size</th>\n",
              "      <th>Installs</th>\n",
              "      <th>Type</th>\n",
              "      <th>Price</th>\n",
              "      <th>Content Rating</th>\n",
              "      <th>Genres</th>\n",
              "      <th>Last Updated</th>\n",
              "      <th>Current Ver</th>\n",
              "      <th>Android Ver</th>\n",
              "    </tr>\n",
              "  </thead>\n",
              "  <tbody>\n",
              "    <tr>\n",
              "      <th>0</th>\n",
              "      <td>Photo Editor &amp; Candy Camera &amp; Grid &amp; ScrapBook</td>\n",
              "      <td>ART_AND_DESIGN</td>\n",
              "      <td>4.1</td>\n",
              "      <td>159</td>\n",
              "      <td>19.0</td>\n",
              "      <td>10000</td>\n",
              "      <td>Free</td>\n",
              "      <td>0.0</td>\n",
              "      <td>Everyone</td>\n",
              "      <td>Art &amp; Design</td>\n",
              "      <td>January 7, 2018</td>\n",
              "      <td>1.0.0</td>\n",
              "      <td>4.0.3 and up</td>\n",
              "    </tr>\n",
              "  </tbody>\n",
              "</table>\n",
              "</div>\n",
              "      <button class=\"colab-df-convert\" onclick=\"convertToInteractive('df-1e24daf2-5c4f-4d26-9771-240bf5b8aca6')\"\n",
              "              title=\"Convert this dataframe to an interactive table.\"\n",
              "              style=\"display:none;\">\n",
              "        \n",
              "  <svg xmlns=\"http://www.w3.org/2000/svg\" height=\"24px\"viewBox=\"0 0 24 24\"\n",
              "       width=\"24px\">\n",
              "    <path d=\"M0 0h24v24H0V0z\" fill=\"none\"/>\n",
              "    <path d=\"M18.56 5.44l.94 2.06.94-2.06 2.06-.94-2.06-.94-.94-2.06-.94 2.06-2.06.94zm-11 1L8.5 8.5l.94-2.06 2.06-.94-2.06-.94L8.5 2.5l-.94 2.06-2.06.94zm10 10l.94 2.06.94-2.06 2.06-.94-2.06-.94-.94-2.06-.94 2.06-2.06.94z\"/><path d=\"M17.41 7.96l-1.37-1.37c-.4-.4-.92-.59-1.43-.59-.52 0-1.04.2-1.43.59L10.3 9.45l-7.72 7.72c-.78.78-.78 2.05 0 2.83L4 21.41c.39.39.9.59 1.41.59.51 0 1.02-.2 1.41-.59l7.78-7.78 2.81-2.81c.8-.78.8-2.07 0-2.86zM5.41 20L4 18.59l7.72-7.72 1.47 1.35L5.41 20z\"/>\n",
              "  </svg>\n",
              "      </button>\n",
              "      \n",
              "  <style>\n",
              "    .colab-df-container {\n",
              "      display:flex;\n",
              "      flex-wrap:wrap;\n",
              "      gap: 12px;\n",
              "    }\n",
              "\n",
              "    .colab-df-convert {\n",
              "      background-color: #E8F0FE;\n",
              "      border: none;\n",
              "      border-radius: 50%;\n",
              "      cursor: pointer;\n",
              "      display: none;\n",
              "      fill: #1967D2;\n",
              "      height: 32px;\n",
              "      padding: 0 0 0 0;\n",
              "      width: 32px;\n",
              "    }\n",
              "\n",
              "    .colab-df-convert:hover {\n",
              "      background-color: #E2EBFA;\n",
              "      box-shadow: 0px 1px 2px rgba(60, 64, 67, 0.3), 0px 1px 3px 1px rgba(60, 64, 67, 0.15);\n",
              "      fill: #174EA6;\n",
              "    }\n",
              "\n",
              "    [theme=dark] .colab-df-convert {\n",
              "      background-color: #3B4455;\n",
              "      fill: #D2E3FC;\n",
              "    }\n",
              "\n",
              "    [theme=dark] .colab-df-convert:hover {\n",
              "      background-color: #434B5C;\n",
              "      box-shadow: 0px 1px 3px 1px rgba(0, 0, 0, 0.15);\n",
              "      filter: drop-shadow(0px 1px 2px rgba(0, 0, 0, 0.3));\n",
              "      fill: #FFFFFF;\n",
              "    }\n",
              "  </style>\n",
              "\n",
              "      <script>\n",
              "        const buttonEl =\n",
              "          document.querySelector('#df-1e24daf2-5c4f-4d26-9771-240bf5b8aca6 button.colab-df-convert');\n",
              "        buttonEl.style.display =\n",
              "          google.colab.kernel.accessAllowed ? 'block' : 'none';\n",
              "\n",
              "        async function convertToInteractive(key) {\n",
              "          const element = document.querySelector('#df-1e24daf2-5c4f-4d26-9771-240bf5b8aca6');\n",
              "          const dataTable =\n",
              "            await google.colab.kernel.invokeFunction('convertToInteractive',\n",
              "                                                     [key], {});\n",
              "          if (!dataTable) return;\n",
              "\n",
              "          const docLinkHtml = 'Like what you see? Visit the ' +\n",
              "            '<a target=\"_blank\" href=https://colab.research.google.com/notebooks/data_table.ipynb>data table notebook</a>'\n",
              "            + ' to learn more about interactive tables.';\n",
              "          element.innerHTML = '';\n",
              "          dataTable['output_type'] = 'display_data';\n",
              "          await google.colab.output.renderOutput(dataTable, element);\n",
              "          const docLink = document.createElement('div');\n",
              "          docLink.innerHTML = docLinkHtml;\n",
              "          element.appendChild(docLink);\n",
              "        }\n",
              "      </script>\n",
              "    </div>\n",
              "  </div>\n",
              "  "
            ],
            "text/plain": [
              "                                              App  ...   Android Ver\n",
              "0  Photo Editor & Candy Camera & Grid & ScrapBook  ...  4.0.3 and up\n",
              "\n",
              "[1 rows x 13 columns]"
            ]
          },
          "metadata": {},
          "execution_count": 68
        }
      ]
    },
    {
      "cell_type": "code",
      "source": [
        "# Here we will remove '+' and ',' in Installs column\n",
        "\n",
        "play_store_df['Installs']=play_store_df['Installs'].apply(lambda x: x.replace('+','') if '+' in str(x) else x)\n",
        "play_store_df['Installs']=play_store_df['Installs'].apply(lambda x: x.replace(',','') if ',' in str(x) else x)\n",
        "\n",
        "play_store_df = play_store_df[~(play_store_df['Installs'] == \"Free\")].reset_index(drop=True)  #drop  Free from Installs column\n",
        "\n",
        "play_store_df['Installs']=play_store_df['Installs'].apply(lambda x: int(x)) # convert to int\n",
        "\n",
        "# Here we will remove '$' from price column and convert into float type\n",
        "\n",
        "play_store_df['Price']=play_store_df['Price'].apply(lambda x: x.replace('$','') if '$' in str(x) else x)\n",
        "play_store_df['Price']=play_store_df['Price'].apply(lambda x: float(x))\n",
        "\n",
        "play_store_df = play_store_df[~(play_store_df['Price'] == \"Everyone\")].reset_index(drop=True)  #drop 'Everyone from Price column"
      ],
      "metadata": {
        "id": "IFMYXeQS38fe"
      },
      "execution_count": 25,
      "outputs": []
    },
    {
      "cell_type": "code",
      "source": [
        "play_store_df = play_store_df[~(play_store_df['Size'] == \"Varies with device\")].reset_index(drop=True)"
      ],
      "metadata": {
        "id": "ZRkZAJI44Lsc"
      },
      "execution_count": 26,
      "outputs": []
    },
    {
      "cell_type": "code",
      "source": [
        "play_store_df['Size']=play_store_df['Size'].apply(lambda x: str(x).replace('M','').replace('+','').replace(',','') if 'M' in str(x) else x)\n",
        "\n",
        "# Here we need to convert kb to Mb formula Mb=kb/1024\n",
        "\n",
        "play_store_df['Size']=play_store_df['Size'].apply(lambda x: float(str(x).replace('k',''))/1024 if 'k' in str(x) else x)\n",
        "\n",
        "# Now we will change datatype with respect to their data\n",
        "play_store_df['Size']=play_store_df['Size'].astype(float)\n",
        "play_store_df['Reviews']=play_store_df['Reviews'].astype(int)"
      ],
      "metadata": {
        "id": "iX7_rpoH4WgV"
      },
      "execution_count": 27,
      "outputs": []
    },
    {
      "cell_type": "code",
      "source": [
        "# play store review should not more than installs so we need to check data for same\n",
        "play_store_df.loc[play_store_df['Reviews']>play_store_df['Installs']]"
      ],
      "metadata": {
        "colab": {
          "base_uri": "https://localhost:8080/",
          "height": 598
        },
        "id": "eLU7KS-v-CvO",
        "outputId": "5c0096b6-376c-4f47-cad7-51b5b5ba3e45"
      },
      "execution_count": 28,
      "outputs": [
        {
          "output_type": "execute_result",
          "data": {
            "text/html": [
              "\n",
              "  <div id=\"df-32820887-5c2b-4548-b423-4a473c89c336\">\n",
              "    <div class=\"colab-df-container\">\n",
              "      <div>\n",
              "<style scoped>\n",
              "    .dataframe tbody tr th:only-of-type {\n",
              "        vertical-align: middle;\n",
              "    }\n",
              "\n",
              "    .dataframe tbody tr th {\n",
              "        vertical-align: top;\n",
              "    }\n",
              "\n",
              "    .dataframe thead th {\n",
              "        text-align: right;\n",
              "    }\n",
              "</style>\n",
              "<table border=\"1\" class=\"dataframe\">\n",
              "  <thead>\n",
              "    <tr style=\"text-align: right;\">\n",
              "      <th></th>\n",
              "      <th>App</th>\n",
              "      <th>Category</th>\n",
              "      <th>Rating</th>\n",
              "      <th>Reviews</th>\n",
              "      <th>Size</th>\n",
              "      <th>Installs</th>\n",
              "      <th>Type</th>\n",
              "      <th>Price</th>\n",
              "      <th>Content Rating</th>\n",
              "      <th>Genres</th>\n",
              "      <th>Last Updated</th>\n",
              "      <th>Current Ver</th>\n",
              "      <th>Android Ver</th>\n",
              "    </tr>\n",
              "  </thead>\n",
              "  <tbody>\n",
              "    <tr>\n",
              "      <th>1546</th>\n",
              "      <td>KBA-EZ Health Guide</td>\n",
              "      <td>MEDICAL</td>\n",
              "      <td>5.0</td>\n",
              "      <td>4</td>\n",
              "      <td>25.000000</td>\n",
              "      <td>1</td>\n",
              "      <td>Free</td>\n",
              "      <td>0.00</td>\n",
              "      <td>Everyone</td>\n",
              "      <td>Medical</td>\n",
              "      <td>August 2, 2018</td>\n",
              "      <td>1.0.72</td>\n",
              "      <td>4.0.3 and up</td>\n",
              "    </tr>\n",
              "    <tr>\n",
              "      <th>2836</th>\n",
              "      <td>RMEduS - 음성인식을 활용한 R 프로그래밍 실습 시스템</td>\n",
              "      <td>FAMILY</td>\n",
              "      <td>4.3</td>\n",
              "      <td>4</td>\n",
              "      <td>64.000000</td>\n",
              "      <td>1</td>\n",
              "      <td>Free</td>\n",
              "      <td>0.00</td>\n",
              "      <td>Everyone</td>\n",
              "      <td>Education</td>\n",
              "      <td>July 17, 2018</td>\n",
              "      <td>1.0.1</td>\n",
              "      <td>4.4 and up</td>\n",
              "    </tr>\n",
              "    <tr>\n",
              "      <th>3904</th>\n",
              "      <td>AX Watch for WatchMaker</td>\n",
              "      <td>PERSONALIZATION</td>\n",
              "      <td>4.3</td>\n",
              "      <td>2</td>\n",
              "      <td>0.232422</td>\n",
              "      <td>1</td>\n",
              "      <td>Paid</td>\n",
              "      <td>0.99</td>\n",
              "      <td>Everyone</td>\n",
              "      <td>Personalization</td>\n",
              "      <td>August 18, 2017</td>\n",
              "      <td>1.0</td>\n",
              "      <td>2.3 and up</td>\n",
              "    </tr>\n",
              "    <tr>\n",
              "      <th>3999</th>\n",
              "      <td>Ra Ga Ba</td>\n",
              "      <td>GAME</td>\n",
              "      <td>5.0</td>\n",
              "      <td>2</td>\n",
              "      <td>20.000000</td>\n",
              "      <td>1</td>\n",
              "      <td>Paid</td>\n",
              "      <td>1.49</td>\n",
              "      <td>Everyone</td>\n",
              "      <td>Arcade</td>\n",
              "      <td>February 8, 2017</td>\n",
              "      <td>1.0.4</td>\n",
              "      <td>2.3 and up</td>\n",
              "    </tr>\n",
              "    <tr>\n",
              "      <th>4530</th>\n",
              "      <td>Sam.BN Pro</td>\n",
              "      <td>TOOLS</td>\n",
              "      <td>4.3</td>\n",
              "      <td>11</td>\n",
              "      <td>2.000000</td>\n",
              "      <td>10</td>\n",
              "      <td>Paid</td>\n",
              "      <td>0.99</td>\n",
              "      <td>Everyone</td>\n",
              "      <td>Tools</td>\n",
              "      <td>March 27, 2015</td>\n",
              "      <td>1.0.0</td>\n",
              "      <td>4.0.3 and up</td>\n",
              "    </tr>\n",
              "    <tr>\n",
              "      <th>4692</th>\n",
              "      <td>Brick Breaker BR</td>\n",
              "      <td>GAME</td>\n",
              "      <td>5.0</td>\n",
              "      <td>7</td>\n",
              "      <td>19.000000</td>\n",
              "      <td>5</td>\n",
              "      <td>Free</td>\n",
              "      <td>0.00</td>\n",
              "      <td>Everyone</td>\n",
              "      <td>Arcade</td>\n",
              "      <td>July 23, 2018</td>\n",
              "      <td>1.0</td>\n",
              "      <td>4.1 and up</td>\n",
              "    </tr>\n",
              "    <tr>\n",
              "      <th>5337</th>\n",
              "      <td>Trovami se ci riesci</td>\n",
              "      <td>GAME</td>\n",
              "      <td>5.0</td>\n",
              "      <td>11</td>\n",
              "      <td>6.100000</td>\n",
              "      <td>10</td>\n",
              "      <td>Free</td>\n",
              "      <td>0.00</td>\n",
              "      <td>Everyone</td>\n",
              "      <td>Arcade</td>\n",
              "      <td>March 11, 2017</td>\n",
              "      <td>0.1</td>\n",
              "      <td>2.3 and up</td>\n",
              "    </tr>\n",
              "    <tr>\n",
              "      <th>6415</th>\n",
              "      <td>DN Blog</td>\n",
              "      <td>SOCIAL</td>\n",
              "      <td>5.0</td>\n",
              "      <td>20</td>\n",
              "      <td>4.200000</td>\n",
              "      <td>10</td>\n",
              "      <td>Free</td>\n",
              "      <td>0.00</td>\n",
              "      <td>Teen</td>\n",
              "      <td>Social</td>\n",
              "      <td>July 23, 2018</td>\n",
              "      <td>1.0</td>\n",
              "      <td>4.0 and up</td>\n",
              "    </tr>\n",
              "    <tr>\n",
              "      <th>6863</th>\n",
              "      <td>DZ Puzzle</td>\n",
              "      <td>FAMILY</td>\n",
              "      <td>4.3</td>\n",
              "      <td>14</td>\n",
              "      <td>47.000000</td>\n",
              "      <td>10</td>\n",
              "      <td>Paid</td>\n",
              "      <td>0.99</td>\n",
              "      <td>Everyone</td>\n",
              "      <td>Puzzle</td>\n",
              "      <td>April 22, 2017</td>\n",
              "      <td>1.2</td>\n",
              "      <td>2.3 and up</td>\n",
              "    </tr>\n",
              "    <tr>\n",
              "      <th>8300</th>\n",
              "      <td>Mu.F.O.</td>\n",
              "      <td>GAME</td>\n",
              "      <td>5.0</td>\n",
              "      <td>2</td>\n",
              "      <td>16.000000</td>\n",
              "      <td>1</td>\n",
              "      <td>Paid</td>\n",
              "      <td>0.99</td>\n",
              "      <td>Everyone</td>\n",
              "      <td>Arcade</td>\n",
              "      <td>March 3, 2017</td>\n",
              "      <td>1.0</td>\n",
              "      <td>2.3 and up</td>\n",
              "    </tr>\n",
              "  </tbody>\n",
              "</table>\n",
              "</div>\n",
              "      <button class=\"colab-df-convert\" onclick=\"convertToInteractive('df-32820887-5c2b-4548-b423-4a473c89c336')\"\n",
              "              title=\"Convert this dataframe to an interactive table.\"\n",
              "              style=\"display:none;\">\n",
              "        \n",
              "  <svg xmlns=\"http://www.w3.org/2000/svg\" height=\"24px\"viewBox=\"0 0 24 24\"\n",
              "       width=\"24px\">\n",
              "    <path d=\"M0 0h24v24H0V0z\" fill=\"none\"/>\n",
              "    <path d=\"M18.56 5.44l.94 2.06.94-2.06 2.06-.94-2.06-.94-.94-2.06-.94 2.06-2.06.94zm-11 1L8.5 8.5l.94-2.06 2.06-.94-2.06-.94L8.5 2.5l-.94 2.06-2.06.94zm10 10l.94 2.06.94-2.06 2.06-.94-2.06-.94-.94-2.06-.94 2.06-2.06.94z\"/><path d=\"M17.41 7.96l-1.37-1.37c-.4-.4-.92-.59-1.43-.59-.52 0-1.04.2-1.43.59L10.3 9.45l-7.72 7.72c-.78.78-.78 2.05 0 2.83L4 21.41c.39.39.9.59 1.41.59.51 0 1.02-.2 1.41-.59l7.78-7.78 2.81-2.81c.8-.78.8-2.07 0-2.86zM5.41 20L4 18.59l7.72-7.72 1.47 1.35L5.41 20z\"/>\n",
              "  </svg>\n",
              "      </button>\n",
              "      \n",
              "  <style>\n",
              "    .colab-df-container {\n",
              "      display:flex;\n",
              "      flex-wrap:wrap;\n",
              "      gap: 12px;\n",
              "    }\n",
              "\n",
              "    .colab-df-convert {\n",
              "      background-color: #E8F0FE;\n",
              "      border: none;\n",
              "      border-radius: 50%;\n",
              "      cursor: pointer;\n",
              "      display: none;\n",
              "      fill: #1967D2;\n",
              "      height: 32px;\n",
              "      padding: 0 0 0 0;\n",
              "      width: 32px;\n",
              "    }\n",
              "\n",
              "    .colab-df-convert:hover {\n",
              "      background-color: #E2EBFA;\n",
              "      box-shadow: 0px 1px 2px rgba(60, 64, 67, 0.3), 0px 1px 3px 1px rgba(60, 64, 67, 0.15);\n",
              "      fill: #174EA6;\n",
              "    }\n",
              "\n",
              "    [theme=dark] .colab-df-convert {\n",
              "      background-color: #3B4455;\n",
              "      fill: #D2E3FC;\n",
              "    }\n",
              "\n",
              "    [theme=dark] .colab-df-convert:hover {\n",
              "      background-color: #434B5C;\n",
              "      box-shadow: 0px 1px 3px 1px rgba(0, 0, 0, 0.15);\n",
              "      filter: drop-shadow(0px 1px 2px rgba(0, 0, 0, 0.3));\n",
              "      fill: #FFFFFF;\n",
              "    }\n",
              "  </style>\n",
              "\n",
              "      <script>\n",
              "        const buttonEl =\n",
              "          document.querySelector('#df-32820887-5c2b-4548-b423-4a473c89c336 button.colab-df-convert');\n",
              "        buttonEl.style.display =\n",
              "          google.colab.kernel.accessAllowed ? 'block' : 'none';\n",
              "\n",
              "        async function convertToInteractive(key) {\n",
              "          const element = document.querySelector('#df-32820887-5c2b-4548-b423-4a473c89c336');\n",
              "          const dataTable =\n",
              "            await google.colab.kernel.invokeFunction('convertToInteractive',\n",
              "                                                     [key], {});\n",
              "          if (!dataTable) return;\n",
              "\n",
              "          const docLinkHtml = 'Like what you see? Visit the ' +\n",
              "            '<a target=\"_blank\" href=https://colab.research.google.com/notebooks/data_table.ipynb>data table notebook</a>'\n",
              "            + ' to learn more about interactive tables.';\n",
              "          element.innerHTML = '';\n",
              "          dataTable['output_type'] = 'display_data';\n",
              "          await google.colab.output.renderOutput(dataTable, element);\n",
              "          const docLink = document.createElement('div');\n",
              "          docLink.innerHTML = docLinkHtml;\n",
              "          element.appendChild(docLink);\n",
              "        }\n",
              "      </script>\n",
              "    </div>\n",
              "  </div>\n",
              "  "
            ],
            "text/plain": [
              "                                    App  ...   Android Ver\n",
              "1546                KBA-EZ Health Guide  ...  4.0.3 and up\n",
              "2836  RMEduS - 음성인식을 활용한 R 프로그래밍 실습 시스템  ...    4.4 and up\n",
              "3904            AX Watch for WatchMaker  ...    2.3 and up\n",
              "3999                           Ra Ga Ba  ...    2.3 and up\n",
              "4530                         Sam.BN Pro  ...  4.0.3 and up\n",
              "4692                   Brick Breaker BR  ...    4.1 and up\n",
              "5337               Trovami se ci riesci  ...    2.3 and up\n",
              "6415                            DN Blog  ...    4.0 and up\n",
              "6863                          DZ Puzzle  ...    2.3 and up\n",
              "8300                            Mu.F.O.  ...    2.3 and up\n",
              "\n",
              "[10 rows x 13 columns]"
            ]
          },
          "metadata": {},
          "execution_count": 28
        }
      ]
    },
    {
      "cell_type": "code",
      "source": [
        "# Now we remove fake data firstly stored in temporary variable\n",
        "temp_= play_store_df.loc[play_store_df['Reviews']>play_store_df['Installs']].index\n",
        "play_store_df.drop(labels=temp_,inplace=True)"
      ],
      "metadata": {
        "id": "-Cs1EOT1-QmU"
      },
      "execution_count": 29,
      "outputs": []
    },
    {
      "cell_type": "markdown",
      "source": [
        " Checking"
      ],
      "metadata": {
        "id": "X1yl1Wf-EIVn"
      }
    },
    {
      "cell_type": "code",
      "source": [
        "play_store_df.loc[play_store_df['Reviews']>play_store_df['Installs']]"
      ],
      "metadata": {
        "colab": {
          "base_uri": "https://localhost:8080/",
          "height": 49
        },
        "id": "SLpC4sgE-ZuI",
        "outputId": "7468913c-038f-47f2-cdff-c24ae4f1bfa6"
      },
      "execution_count": 30,
      "outputs": [
        {
          "output_type": "execute_result",
          "data": {
            "text/html": [
              "\n",
              "  <div id=\"df-2ab48a87-8fde-4c0c-9d8c-cad2b8c21607\">\n",
              "    <div class=\"colab-df-container\">\n",
              "      <div>\n",
              "<style scoped>\n",
              "    .dataframe tbody tr th:only-of-type {\n",
              "        vertical-align: middle;\n",
              "    }\n",
              "\n",
              "    .dataframe tbody tr th {\n",
              "        vertical-align: top;\n",
              "    }\n",
              "\n",
              "    .dataframe thead th {\n",
              "        text-align: right;\n",
              "    }\n",
              "</style>\n",
              "<table border=\"1\" class=\"dataframe\">\n",
              "  <thead>\n",
              "    <tr style=\"text-align: right;\">\n",
              "      <th></th>\n",
              "      <th>App</th>\n",
              "      <th>Category</th>\n",
              "      <th>Rating</th>\n",
              "      <th>Reviews</th>\n",
              "      <th>Size</th>\n",
              "      <th>Installs</th>\n",
              "      <th>Type</th>\n",
              "      <th>Price</th>\n",
              "      <th>Content Rating</th>\n",
              "      <th>Genres</th>\n",
              "      <th>Last Updated</th>\n",
              "      <th>Current Ver</th>\n",
              "      <th>Android Ver</th>\n",
              "    </tr>\n",
              "  </thead>\n",
              "  <tbody>\n",
              "  </tbody>\n",
              "</table>\n",
              "</div>\n",
              "      <button class=\"colab-df-convert\" onclick=\"convertToInteractive('df-2ab48a87-8fde-4c0c-9d8c-cad2b8c21607')\"\n",
              "              title=\"Convert this dataframe to an interactive table.\"\n",
              "              style=\"display:none;\">\n",
              "        \n",
              "  <svg xmlns=\"http://www.w3.org/2000/svg\" height=\"24px\"viewBox=\"0 0 24 24\"\n",
              "       width=\"24px\">\n",
              "    <path d=\"M0 0h24v24H0V0z\" fill=\"none\"/>\n",
              "    <path d=\"M18.56 5.44l.94 2.06.94-2.06 2.06-.94-2.06-.94-.94-2.06-.94 2.06-2.06.94zm-11 1L8.5 8.5l.94-2.06 2.06-.94-2.06-.94L8.5 2.5l-.94 2.06-2.06.94zm10 10l.94 2.06.94-2.06 2.06-.94-2.06-.94-.94-2.06-.94 2.06-2.06.94z\"/><path d=\"M17.41 7.96l-1.37-1.37c-.4-.4-.92-.59-1.43-.59-.52 0-1.04.2-1.43.59L10.3 9.45l-7.72 7.72c-.78.78-.78 2.05 0 2.83L4 21.41c.39.39.9.59 1.41.59.51 0 1.02-.2 1.41-.59l7.78-7.78 2.81-2.81c.8-.78.8-2.07 0-2.86zM5.41 20L4 18.59l7.72-7.72 1.47 1.35L5.41 20z\"/>\n",
              "  </svg>\n",
              "      </button>\n",
              "      \n",
              "  <style>\n",
              "    .colab-df-container {\n",
              "      display:flex;\n",
              "      flex-wrap:wrap;\n",
              "      gap: 12px;\n",
              "    }\n",
              "\n",
              "    .colab-df-convert {\n",
              "      background-color: #E8F0FE;\n",
              "      border: none;\n",
              "      border-radius: 50%;\n",
              "      cursor: pointer;\n",
              "      display: none;\n",
              "      fill: #1967D2;\n",
              "      height: 32px;\n",
              "      padding: 0 0 0 0;\n",
              "      width: 32px;\n",
              "    }\n",
              "\n",
              "    .colab-df-convert:hover {\n",
              "      background-color: #E2EBFA;\n",
              "      box-shadow: 0px 1px 2px rgba(60, 64, 67, 0.3), 0px 1px 3px 1px rgba(60, 64, 67, 0.15);\n",
              "      fill: #174EA6;\n",
              "    }\n",
              "\n",
              "    [theme=dark] .colab-df-convert {\n",
              "      background-color: #3B4455;\n",
              "      fill: #D2E3FC;\n",
              "    }\n",
              "\n",
              "    [theme=dark] .colab-df-convert:hover {\n",
              "      background-color: #434B5C;\n",
              "      box-shadow: 0px 1px 3px 1px rgba(0, 0, 0, 0.15);\n",
              "      filter: drop-shadow(0px 1px 2px rgba(0, 0, 0, 0.3));\n",
              "      fill: #FFFFFF;\n",
              "    }\n",
              "  </style>\n",
              "\n",
              "      <script>\n",
              "        const buttonEl =\n",
              "          document.querySelector('#df-2ab48a87-8fde-4c0c-9d8c-cad2b8c21607 button.colab-df-convert');\n",
              "        buttonEl.style.display =\n",
              "          google.colab.kernel.accessAllowed ? 'block' : 'none';\n",
              "\n",
              "        async function convertToInteractive(key) {\n",
              "          const element = document.querySelector('#df-2ab48a87-8fde-4c0c-9d8c-cad2b8c21607');\n",
              "          const dataTable =\n",
              "            await google.colab.kernel.invokeFunction('convertToInteractive',\n",
              "                                                     [key], {});\n",
              "          if (!dataTable) return;\n",
              "\n",
              "          const docLinkHtml = 'Like what you see? Visit the ' +\n",
              "            '<a target=\"_blank\" href=https://colab.research.google.com/notebooks/data_table.ipynb>data table notebook</a>'\n",
              "            + ' to learn more about interactive tables.';\n",
              "          element.innerHTML = '';\n",
              "          dataTable['output_type'] = 'display_data';\n",
              "          await google.colab.output.renderOutput(dataTable, element);\n",
              "          const docLink = document.createElement('div');\n",
              "          docLink.innerHTML = docLinkHtml;\n",
              "          element.appendChild(docLink);\n",
              "        }\n",
              "      </script>\n",
              "    </div>\n",
              "  </div>\n",
              "  "
            ],
            "text/plain": [
              "Empty DataFrame\n",
              "Columns: [App, Category, Rating, Reviews, Size, Installs, Type, Price, Content Rating, Genres, Last Updated, Current Ver, Android Ver]\n",
              "Index: []"
            ]
          },
          "metadata": {},
          "execution_count": 30
        }
      ]
    },
    {
      "cell_type": "markdown",
      "source": [
        "# Missing value procedure done"
      ],
      "metadata": {
        "id": "m8fUwLIQ-mW0"
      }
    },
    {
      "cell_type": "code",
      "source": [
        "play_store_df.isnull().sum()"
      ],
      "metadata": {
        "colab": {
          "base_uri": "https://localhost:8080/"
        },
        "id": "HZxrHAoN-dW_",
        "outputId": "bfcdb23b-62c2-4a4b-d48e-5cfcfb57d223"
      },
      "execution_count": 31,
      "outputs": [
        {
          "output_type": "execute_result",
          "data": {
            "text/plain": [
              "App               0\n",
              "Category          0\n",
              "Rating            0\n",
              "Reviews           0\n",
              "Size              0\n",
              "Installs          0\n",
              "Type              0\n",
              "Price             0\n",
              "Content Rating    0\n",
              "Genres            0\n",
              "Last Updated      0\n",
              "Current Ver       0\n",
              "Android Ver       0\n",
              "dtype: int64"
            ]
          },
          "metadata": {},
          "execution_count": 31
        }
      ]
    },
    {
      "cell_type": "markdown",
      "source": [
        "#**CORRECT DATA TYPE**"
      ],
      "metadata": {
        "id": "1KIPzrN1Csm8"
      }
    },
    {
      "cell_type": "code",
      "metadata": {
        "colab": {
          "base_uri": "https://localhost:8080/"
        },
        "id": "gDzwV2YjFUYB",
        "outputId": "a396c13e-2167-404d-aa83-d953c07f1e9e"
      },
      "source": [
        "play_store_df.info()"
      ],
      "execution_count": 32,
      "outputs": [
        {
          "output_type": "stream",
          "name": "stdout",
          "text": [
            "<class 'pandas.core.frame.DataFrame'>\n",
            "Int64Index: 8422 entries, 0 to 8431\n",
            "Data columns (total 13 columns):\n",
            " #   Column          Non-Null Count  Dtype  \n",
            "---  ------          --------------  -----  \n",
            " 0   App             8422 non-null   object \n",
            " 1   Category        8422 non-null   object \n",
            " 2   Rating          8422 non-null   float64\n",
            " 3   Reviews         8422 non-null   int64  \n",
            " 4   Size            8422 non-null   float64\n",
            " 5   Installs        8422 non-null   int64  \n",
            " 6   Type            8422 non-null   object \n",
            " 7   Price           8422 non-null   float64\n",
            " 8   Content Rating  8422 non-null   object \n",
            " 9   Genres          8422 non-null   object \n",
            " 10  Last Updated    8422 non-null   object \n",
            " 11  Current Ver     8422 non-null   object \n",
            " 12  Android Ver     8422 non-null   object \n",
            "dtypes: float64(3), int64(2), object(8)\n",
            "memory usage: 921.2+ KB\n"
          ]
        }
      ]
    },
    {
      "cell_type": "markdown",
      "source": [
        "## **DATA EXPLORATION AND VISUALISATION**"
      ],
      "metadata": {
        "id": "4mTLwZaKE15U"
      }
    },
    {
      "cell_type": "markdown",
      "source": [
        "Average App Rating"
      ],
      "metadata": {
        "id": "Hch0l5b-UTFa"
      }
    },
    {
      "cell_type": "code",
      "source": [
        "play_store_df['Rating'].mean()"
      ],
      "metadata": {
        "colab": {
          "base_uri": "https://localhost:8080/"
        },
        "id": "4M0IuileB52Q",
        "outputId": "996533e5-1410-4741-bbe0-c59c91d7f8fb"
      },
      "execution_count": 33,
      "outputs": [
        {
          "output_type": "execute_result",
          "data": {
            "text/plain": [
              "4.183210638803105"
            ]
          },
          "metadata": {},
          "execution_count": 33
        }
      ]
    },
    {
      "cell_type": "markdown",
      "source": [
        "Top five category getting Higest average Rating"
      ],
      "metadata": {
        "id": "irty0YlUV7JC"
      }
    },
    {
      "cell_type": "code",
      "source": [
        "play_store_df.groupby('Category')['Rating'].mean().sort_values(ascending=False).head(5)"
      ],
      "metadata": {
        "colab": {
          "base_uri": "https://localhost:8080/"
        },
        "id": "kIXQO1irV-Z9",
        "outputId": "ea40ab28-c8e2-4476-9f9d-216554759cc7"
      },
      "execution_count": 34,
      "outputs": [
        {
          "output_type": "execute_result",
          "data": {
            "text/plain": [
              "Category\n",
              "EVENTS             4.419298\n",
              "EDUCATION          4.373034\n",
              "ART_AND_DESIGN     4.358065\n",
              "PARENTING          4.338889\n",
              "PERSONALIZATION    4.320000\n",
              "Name: Rating, dtype: float64"
            ]
          },
          "metadata": {},
          "execution_count": 34
        }
      ]
    },
    {
      "cell_type": "markdown",
      "source": [
        "Total number of free and paid apps"
      ],
      "metadata": {
        "id": "dEIU_oBKWm_p"
      }
    },
    {
      "cell_type": "code",
      "source": [
        "play_store_df['Type'].value_counts()"
      ],
      "metadata": {
        "colab": {
          "base_uri": "https://localhost:8080/"
        },
        "id": "SKxK7qSYWqkh",
        "outputId": "4c6c268c-b2b5-4fcd-ee6a-44c7c0851758"
      },
      "execution_count": 36,
      "outputs": [
        {
          "output_type": "execute_result",
          "data": {
            "text/plain": [
              "Free    7742\n",
              "Paid     680\n",
              "Name: Type, dtype: int64"
            ]
          },
          "metadata": {},
          "execution_count": 36
        }
      ]
    },
    {
      "cell_type": "markdown",
      "source": [
        "Total number of free and paid apps"
      ],
      "metadata": {
        "id": "4-d3FDZ_W366"
      }
    },
    {
      "cell_type": "code",
      "source": [
        "play_store_df['Type'].value_counts()"
      ],
      "metadata": {
        "colab": {
          "base_uri": "https://localhost:8080/"
        },
        "id": "RA6Td2U4W9uz",
        "outputId": "ab1b6dba-2fda-4e23-8ec5-57363966081c"
      },
      "execution_count": 37,
      "outputs": [
        {
          "output_type": "execute_result",
          "data": {
            "text/plain": [
              "Free    7742\n",
              "Paid     680\n",
              "Name: Type, dtype: int64"
            ]
          },
          "metadata": {},
          "execution_count": 37
        }
      ]
    },
    {
      "cell_type": "markdown",
      "source": [
        "Top 5 Apps having highest reviews"
      ],
      "metadata": {
        "id": "FRIQM2j5XQUR"
      }
    },
    {
      "cell_type": "code",
      "source": [
        "index1=play_store_df['Reviews'].sort_values(ascending=False).head().index\n",
        "\n",
        "play_store_df.iloc[index1]['App']"
      ],
      "metadata": {
        "colab": {
          "base_uri": "https://localhost:8080/"
        },
        "id": "nz_LeKN1XTLD",
        "outputId": "c6307365-3e67-4128-f970-85f246764791"
      },
      "execution_count": 38,
      "outputs": [
        {
          "output_type": "execute_result",
          "data": {
            "text/plain": [
              "1057                                 Clash of Clans\n",
              "1042                                 Subway Surfers\n",
              "1047                                   Clash Royale\n",
              "1043                               Candy Crush Saga\n",
              "260     UC Browser - Fast Download Private & Secure\n",
              "Name: App, dtype: object"
            ]
          },
          "metadata": {},
          "execution_count": 38
        }
      ]
    },
    {
      "cell_type": "code",
      "source": [
        "play_store_df[\"Price\"]=play_store_df[\"Price\"].replace({\"$\": \" \"})"
      ],
      "metadata": {
        "id": "-3JaiIxn5zDL"
      },
      "execution_count": 47,
      "outputs": []
    },
    {
      "cell_type": "code",
      "source": [
        "play_store_df[play_store_df['Price']>=250]"
      ],
      "metadata": {
        "colab": {
          "base_uri": "https://localhost:8080/",
          "height": 748
        },
        "id": "SBiLR8455hL9",
        "outputId": "9a031bac-393d-472b-c08e-4a9f5c6b77bc"
      },
      "execution_count": 66,
      "outputs": [
        {
          "output_type": "execute_result",
          "data": {
            "text/html": [
              "\n",
              "  <div id=\"df-c762f97b-6938-49dc-adad-fdc8260e87a2\">\n",
              "    <div class=\"colab-df-container\">\n",
              "      <div>\n",
              "<style scoped>\n",
              "    .dataframe tbody tr th:only-of-type {\n",
              "        vertical-align: middle;\n",
              "    }\n",
              "\n",
              "    .dataframe tbody tr th {\n",
              "        vertical-align: top;\n",
              "    }\n",
              "\n",
              "    .dataframe thead th {\n",
              "        text-align: right;\n",
              "    }\n",
              "</style>\n",
              "<table border=\"1\" class=\"dataframe\">\n",
              "  <thead>\n",
              "    <tr style=\"text-align: right;\">\n",
              "      <th></th>\n",
              "      <th>App</th>\n",
              "      <th>Category</th>\n",
              "      <th>Rating</th>\n",
              "      <th>Reviews</th>\n",
              "      <th>Size</th>\n",
              "      <th>Installs</th>\n",
              "      <th>Type</th>\n",
              "      <th>Price</th>\n",
              "      <th>Content Rating</th>\n",
              "      <th>Genres</th>\n",
              "      <th>Last Updated</th>\n",
              "      <th>Current Ver</th>\n",
              "      <th>Android Ver</th>\n",
              "    </tr>\n",
              "  </thead>\n",
              "  <tbody>\n",
              "    <tr>\n",
              "      <th>2541</th>\n",
              "      <td>most expensive app (H)</td>\n",
              "      <td>FAMILY</td>\n",
              "      <td>4.3</td>\n",
              "      <td>6</td>\n",
              "      <td>1.500000</td>\n",
              "      <td>100</td>\n",
              "      <td>Paid</td>\n",
              "      <td>399.99</td>\n",
              "      <td>Everyone</td>\n",
              "      <td>Entertainment</td>\n",
              "      <td>July 16, 2018</td>\n",
              "      <td>1.0</td>\n",
              "      <td>7.0 and up</td>\n",
              "    </tr>\n",
              "    <tr>\n",
              "      <th>2666</th>\n",
              "      <td>💎 I'm rich</td>\n",
              "      <td>LIFESTYLE</td>\n",
              "      <td>3.8</td>\n",
              "      <td>718</td>\n",
              "      <td>26.000000</td>\n",
              "      <td>10000</td>\n",
              "      <td>Paid</td>\n",
              "      <td>399.99</td>\n",
              "      <td>Everyone</td>\n",
              "      <td>Lifestyle</td>\n",
              "      <td>March 11, 2018</td>\n",
              "      <td>1.0.0</td>\n",
              "      <td>4.4 and up</td>\n",
              "    </tr>\n",
              "    <tr>\n",
              "      <th>2670</th>\n",
              "      <td>I'm Rich - Trump Edition</td>\n",
              "      <td>LIFESTYLE</td>\n",
              "      <td>3.6</td>\n",
              "      <td>275</td>\n",
              "      <td>7.300000</td>\n",
              "      <td>10000</td>\n",
              "      <td>Paid</td>\n",
              "      <td>400.00</td>\n",
              "      <td>Everyone</td>\n",
              "      <td>Lifestyle</td>\n",
              "      <td>May 3, 2018</td>\n",
              "      <td>1.0.1</td>\n",
              "      <td>4.1 and up</td>\n",
              "    </tr>\n",
              "    <tr>\n",
              "      <th>3520</th>\n",
              "      <td>I am rich</td>\n",
              "      <td>LIFESTYLE</td>\n",
              "      <td>3.8</td>\n",
              "      <td>3547</td>\n",
              "      <td>1.800000</td>\n",
              "      <td>100000</td>\n",
              "      <td>Paid</td>\n",
              "      <td>399.99</td>\n",
              "      <td>Everyone</td>\n",
              "      <td>Lifestyle</td>\n",
              "      <td>January 12, 2018</td>\n",
              "      <td>2.0</td>\n",
              "      <td>4.0.3 and up</td>\n",
              "    </tr>\n",
              "    <tr>\n",
              "      <th>3522</th>\n",
              "      <td>I am Rich Plus</td>\n",
              "      <td>FAMILY</td>\n",
              "      <td>4.0</td>\n",
              "      <td>856</td>\n",
              "      <td>8.700000</td>\n",
              "      <td>10000</td>\n",
              "      <td>Paid</td>\n",
              "      <td>399.99</td>\n",
              "      <td>Everyone</td>\n",
              "      <td>Entertainment</td>\n",
              "      <td>May 19, 2018</td>\n",
              "      <td>3.0</td>\n",
              "      <td>4.4 and up</td>\n",
              "    </tr>\n",
              "    <tr>\n",
              "      <th>3523</th>\n",
              "      <td>I am rich VIP</td>\n",
              "      <td>LIFESTYLE</td>\n",
              "      <td>3.8</td>\n",
              "      <td>411</td>\n",
              "      <td>2.600000</td>\n",
              "      <td>10000</td>\n",
              "      <td>Paid</td>\n",
              "      <td>299.99</td>\n",
              "      <td>Everyone</td>\n",
              "      <td>Lifestyle</td>\n",
              "      <td>July 21, 2018</td>\n",
              "      <td>1.1.1</td>\n",
              "      <td>4.3 and up</td>\n",
              "    </tr>\n",
              "    <tr>\n",
              "      <th>3524</th>\n",
              "      <td>I Am Rich Premium</td>\n",
              "      <td>FINANCE</td>\n",
              "      <td>4.1</td>\n",
              "      <td>1867</td>\n",
              "      <td>4.700000</td>\n",
              "      <td>50000</td>\n",
              "      <td>Paid</td>\n",
              "      <td>399.99</td>\n",
              "      <td>Everyone</td>\n",
              "      <td>Finance</td>\n",
              "      <td>November 12, 2017</td>\n",
              "      <td>1.6</td>\n",
              "      <td>4.0 and up</td>\n",
              "    </tr>\n",
              "    <tr>\n",
              "      <th>3525</th>\n",
              "      <td>I am extremely Rich</td>\n",
              "      <td>LIFESTYLE</td>\n",
              "      <td>2.9</td>\n",
              "      <td>41</td>\n",
              "      <td>2.900000</td>\n",
              "      <td>1000</td>\n",
              "      <td>Paid</td>\n",
              "      <td>379.99</td>\n",
              "      <td>Everyone</td>\n",
              "      <td>Lifestyle</td>\n",
              "      <td>July 1, 2018</td>\n",
              "      <td>1.0</td>\n",
              "      <td>4.0 and up</td>\n",
              "    </tr>\n",
              "    <tr>\n",
              "      <th>3526</th>\n",
              "      <td>I am Rich!</td>\n",
              "      <td>FINANCE</td>\n",
              "      <td>3.8</td>\n",
              "      <td>93</td>\n",
              "      <td>22.000000</td>\n",
              "      <td>1000</td>\n",
              "      <td>Paid</td>\n",
              "      <td>399.99</td>\n",
              "      <td>Everyone</td>\n",
              "      <td>Finance</td>\n",
              "      <td>December 11, 2017</td>\n",
              "      <td>1.0</td>\n",
              "      <td>4.1 and up</td>\n",
              "    </tr>\n",
              "    <tr>\n",
              "      <th>3527</th>\n",
              "      <td>I am rich(premium)</td>\n",
              "      <td>FINANCE</td>\n",
              "      <td>3.5</td>\n",
              "      <td>472</td>\n",
              "      <td>0.942383</td>\n",
              "      <td>5000</td>\n",
              "      <td>Paid</td>\n",
              "      <td>399.99</td>\n",
              "      <td>Everyone</td>\n",
              "      <td>Finance</td>\n",
              "      <td>May 1, 2017</td>\n",
              "      <td>3.4</td>\n",
              "      <td>4.4 and up</td>\n",
              "    </tr>\n",
              "    <tr>\n",
              "      <th>3530</th>\n",
              "      <td>I Am Rich Pro</td>\n",
              "      <td>FAMILY</td>\n",
              "      <td>4.4</td>\n",
              "      <td>201</td>\n",
              "      <td>2.700000</td>\n",
              "      <td>5000</td>\n",
              "      <td>Paid</td>\n",
              "      <td>399.99</td>\n",
              "      <td>Everyone</td>\n",
              "      <td>Entertainment</td>\n",
              "      <td>May 30, 2017</td>\n",
              "      <td>1.54</td>\n",
              "      <td>1.6 and up</td>\n",
              "    </tr>\n",
              "    <tr>\n",
              "      <th>3532</th>\n",
              "      <td>I am rich (Most expensive app)</td>\n",
              "      <td>FINANCE</td>\n",
              "      <td>4.1</td>\n",
              "      <td>129</td>\n",
              "      <td>2.700000</td>\n",
              "      <td>1000</td>\n",
              "      <td>Paid</td>\n",
              "      <td>399.99</td>\n",
              "      <td>Teen</td>\n",
              "      <td>Finance</td>\n",
              "      <td>December 6, 2017</td>\n",
              "      <td>2</td>\n",
              "      <td>4.0.3 and up</td>\n",
              "    </tr>\n",
              "    <tr>\n",
              "      <th>3534</th>\n",
              "      <td>I Am Rich</td>\n",
              "      <td>FAMILY</td>\n",
              "      <td>3.6</td>\n",
              "      <td>217</td>\n",
              "      <td>4.900000</td>\n",
              "      <td>10000</td>\n",
              "      <td>Paid</td>\n",
              "      <td>389.99</td>\n",
              "      <td>Everyone</td>\n",
              "      <td>Entertainment</td>\n",
              "      <td>June 22, 2018</td>\n",
              "      <td>1.5</td>\n",
              "      <td>4.2 and up</td>\n",
              "    </tr>\n",
              "    <tr>\n",
              "      <th>3537</th>\n",
              "      <td>I am Rich</td>\n",
              "      <td>FINANCE</td>\n",
              "      <td>4.3</td>\n",
              "      <td>180</td>\n",
              "      <td>3.800000</td>\n",
              "      <td>5000</td>\n",
              "      <td>Paid</td>\n",
              "      <td>399.99</td>\n",
              "      <td>Everyone</td>\n",
              "      <td>Finance</td>\n",
              "      <td>March 22, 2018</td>\n",
              "      <td>1.0</td>\n",
              "      <td>4.2 and up</td>\n",
              "    </tr>\n",
              "    <tr>\n",
              "      <th>3541</th>\n",
              "      <td>I AM RICH PRO PLUS</td>\n",
              "      <td>FINANCE</td>\n",
              "      <td>4.0</td>\n",
              "      <td>36</td>\n",
              "      <td>41.000000</td>\n",
              "      <td>1000</td>\n",
              "      <td>Paid</td>\n",
              "      <td>399.99</td>\n",
              "      <td>Everyone</td>\n",
              "      <td>Finance</td>\n",
              "      <td>June 25, 2018</td>\n",
              "      <td>1.0.2</td>\n",
              "      <td>4.1 and up</td>\n",
              "    </tr>\n",
              "    <tr>\n",
              "      <th>7588</th>\n",
              "      <td>Eu Sou Rico</td>\n",
              "      <td>FINANCE</td>\n",
              "      <td>4.3</td>\n",
              "      <td>0</td>\n",
              "      <td>1.400000</td>\n",
              "      <td>0</td>\n",
              "      <td>Paid</td>\n",
              "      <td>394.99</td>\n",
              "      <td>Everyone</td>\n",
              "      <td>Finance</td>\n",
              "      <td>July 11, 2018</td>\n",
              "      <td>1.0</td>\n",
              "      <td>4.0.3 and up</td>\n",
              "    </tr>\n",
              "    <tr>\n",
              "      <th>7604</th>\n",
              "      <td>I'm Rich/Eu sou Rico/أنا غني/我很有錢</td>\n",
              "      <td>LIFESTYLE</td>\n",
              "      <td>4.3</td>\n",
              "      <td>0</td>\n",
              "      <td>40.000000</td>\n",
              "      <td>0</td>\n",
              "      <td>Paid</td>\n",
              "      <td>399.99</td>\n",
              "      <td>Everyone</td>\n",
              "      <td>Lifestyle</td>\n",
              "      <td>December 1, 2017</td>\n",
              "      <td>MONEY</td>\n",
              "      <td>4.1 and up</td>\n",
              "    </tr>\n",
              "  </tbody>\n",
              "</table>\n",
              "</div>\n",
              "      <button class=\"colab-df-convert\" onclick=\"convertToInteractive('df-c762f97b-6938-49dc-adad-fdc8260e87a2')\"\n",
              "              title=\"Convert this dataframe to an interactive table.\"\n",
              "              style=\"display:none;\">\n",
              "        \n",
              "  <svg xmlns=\"http://www.w3.org/2000/svg\" height=\"24px\"viewBox=\"0 0 24 24\"\n",
              "       width=\"24px\">\n",
              "    <path d=\"M0 0h24v24H0V0z\" fill=\"none\"/>\n",
              "    <path d=\"M18.56 5.44l.94 2.06.94-2.06 2.06-.94-2.06-.94-.94-2.06-.94 2.06-2.06.94zm-11 1L8.5 8.5l.94-2.06 2.06-.94-2.06-.94L8.5 2.5l-.94 2.06-2.06.94zm10 10l.94 2.06.94-2.06 2.06-.94-2.06-.94-.94-2.06-.94 2.06-2.06.94z\"/><path d=\"M17.41 7.96l-1.37-1.37c-.4-.4-.92-.59-1.43-.59-.52 0-1.04.2-1.43.59L10.3 9.45l-7.72 7.72c-.78.78-.78 2.05 0 2.83L4 21.41c.39.39.9.59 1.41.59.51 0 1.02-.2 1.41-.59l7.78-7.78 2.81-2.81c.8-.78.8-2.07 0-2.86zM5.41 20L4 18.59l7.72-7.72 1.47 1.35L5.41 20z\"/>\n",
              "  </svg>\n",
              "      </button>\n",
              "      \n",
              "  <style>\n",
              "    .colab-df-container {\n",
              "      display:flex;\n",
              "      flex-wrap:wrap;\n",
              "      gap: 12px;\n",
              "    }\n",
              "\n",
              "    .colab-df-convert {\n",
              "      background-color: #E8F0FE;\n",
              "      border: none;\n",
              "      border-radius: 50%;\n",
              "      cursor: pointer;\n",
              "      display: none;\n",
              "      fill: #1967D2;\n",
              "      height: 32px;\n",
              "      padding: 0 0 0 0;\n",
              "      width: 32px;\n",
              "    }\n",
              "\n",
              "    .colab-df-convert:hover {\n",
              "      background-color: #E2EBFA;\n",
              "      box-shadow: 0px 1px 2px rgba(60, 64, 67, 0.3), 0px 1px 3px 1px rgba(60, 64, 67, 0.15);\n",
              "      fill: #174EA6;\n",
              "    }\n",
              "\n",
              "    [theme=dark] .colab-df-convert {\n",
              "      background-color: #3B4455;\n",
              "      fill: #D2E3FC;\n",
              "    }\n",
              "\n",
              "    [theme=dark] .colab-df-convert:hover {\n",
              "      background-color: #434B5C;\n",
              "      box-shadow: 0px 1px 3px 1px rgba(0, 0, 0, 0.15);\n",
              "      filter: drop-shadow(0px 1px 2px rgba(0, 0, 0, 0.3));\n",
              "      fill: #FFFFFF;\n",
              "    }\n",
              "  </style>\n",
              "\n",
              "      <script>\n",
              "        const buttonEl =\n",
              "          document.querySelector('#df-c762f97b-6938-49dc-adad-fdc8260e87a2 button.colab-df-convert');\n",
              "        buttonEl.style.display =\n",
              "          google.colab.kernel.accessAllowed ? 'block' : 'none';\n",
              "\n",
              "        async function convertToInteractive(key) {\n",
              "          const element = document.querySelector('#df-c762f97b-6938-49dc-adad-fdc8260e87a2');\n",
              "          const dataTable =\n",
              "            await google.colab.kernel.invokeFunction('convertToInteractive',\n",
              "                                                     [key], {});\n",
              "          if (!dataTable) return;\n",
              "\n",
              "          const docLinkHtml = 'Like what you see? Visit the ' +\n",
              "            '<a target=\"_blank\" href=https://colab.research.google.com/notebooks/data_table.ipynb>data table notebook</a>'\n",
              "            + ' to learn more about interactive tables.';\n",
              "          element.innerHTML = '';\n",
              "          dataTable['output_type'] = 'display_data';\n",
              "          await google.colab.output.renderOutput(dataTable, element);\n",
              "          const docLink = document.createElement('div');\n",
              "          docLink.innerHTML = docLinkHtml;\n",
              "          element.appendChild(docLink);\n",
              "        }\n",
              "      </script>\n",
              "    </div>\n",
              "  </div>\n",
              "  "
            ],
            "text/plain": [
              "                                    App   Category  ...  Current Ver   Android Ver\n",
              "2541             most expensive app (H)     FAMILY  ...          1.0    7.0 and up\n",
              "2666                         💎 I'm rich  LIFESTYLE  ...        1.0.0    4.4 and up\n",
              "2670           I'm Rich - Trump Edition  LIFESTYLE  ...        1.0.1    4.1 and up\n",
              "3520                          I am rich  LIFESTYLE  ...          2.0  4.0.3 and up\n",
              "3522                     I am Rich Plus     FAMILY  ...          3.0    4.4 and up\n",
              "3523                      I am rich VIP  LIFESTYLE  ...        1.1.1    4.3 and up\n",
              "3524                  I Am Rich Premium    FINANCE  ...          1.6    4.0 and up\n",
              "3525                I am extremely Rich  LIFESTYLE  ...          1.0    4.0 and up\n",
              "3526                         I am Rich!    FINANCE  ...          1.0    4.1 and up\n",
              "3527                 I am rich(premium)    FINANCE  ...          3.4    4.4 and up\n",
              "3530                      I Am Rich Pro     FAMILY  ...         1.54    1.6 and up\n",
              "3532     I am rich (Most expensive app)    FINANCE  ...            2  4.0.3 and up\n",
              "3534                          I Am Rich     FAMILY  ...          1.5    4.2 and up\n",
              "3537                          I am Rich    FINANCE  ...          1.0    4.2 and up\n",
              "3541                 I AM RICH PRO PLUS    FINANCE  ...        1.0.2    4.1 and up\n",
              "7588                        Eu Sou Rico    FINANCE  ...          1.0  4.0.3 and up\n",
              "7604  I'm Rich/Eu sou Rico/أنا غني/我很有錢  LIFESTYLE  ...        MONEY    4.1 and up\n",
              "\n",
              "[17 rows x 13 columns]"
            ]
          },
          "metadata": {},
          "execution_count": 66
        }
      ]
    },
    {
      "cell_type": "code",
      "source": [
        "High_paid_apps = play_store_df[play_store_df['Price']>=250]\n",
        "High_paid_apps"
      ],
      "metadata": {
        "colab": {
          "base_uri": "https://localhost:8080/",
          "height": 748
        },
        "id": "y7YvBG0588eI",
        "outputId": "4e8238fc-4957-42b2-c8f2-f73cbcf4451d"
      },
      "execution_count": 67,
      "outputs": [
        {
          "output_type": "execute_result",
          "data": {
            "text/html": [
              "\n",
              "  <div id=\"df-e0fb8814-778e-431f-a9ee-4e37fa9b4e99\">\n",
              "    <div class=\"colab-df-container\">\n",
              "      <div>\n",
              "<style scoped>\n",
              "    .dataframe tbody tr th:only-of-type {\n",
              "        vertical-align: middle;\n",
              "    }\n",
              "\n",
              "    .dataframe tbody tr th {\n",
              "        vertical-align: top;\n",
              "    }\n",
              "\n",
              "    .dataframe thead th {\n",
              "        text-align: right;\n",
              "    }\n",
              "</style>\n",
              "<table border=\"1\" class=\"dataframe\">\n",
              "  <thead>\n",
              "    <tr style=\"text-align: right;\">\n",
              "      <th></th>\n",
              "      <th>App</th>\n",
              "      <th>Category</th>\n",
              "      <th>Rating</th>\n",
              "      <th>Reviews</th>\n",
              "      <th>Size</th>\n",
              "      <th>Installs</th>\n",
              "      <th>Type</th>\n",
              "      <th>Price</th>\n",
              "      <th>Content Rating</th>\n",
              "      <th>Genres</th>\n",
              "      <th>Last Updated</th>\n",
              "      <th>Current Ver</th>\n",
              "      <th>Android Ver</th>\n",
              "    </tr>\n",
              "  </thead>\n",
              "  <tbody>\n",
              "    <tr>\n",
              "      <th>2541</th>\n",
              "      <td>most expensive app (H)</td>\n",
              "      <td>FAMILY</td>\n",
              "      <td>4.3</td>\n",
              "      <td>6</td>\n",
              "      <td>1.500000</td>\n",
              "      <td>100</td>\n",
              "      <td>Paid</td>\n",
              "      <td>399.99</td>\n",
              "      <td>Everyone</td>\n",
              "      <td>Entertainment</td>\n",
              "      <td>July 16, 2018</td>\n",
              "      <td>1.0</td>\n",
              "      <td>7.0 and up</td>\n",
              "    </tr>\n",
              "    <tr>\n",
              "      <th>2666</th>\n",
              "      <td>💎 I'm rich</td>\n",
              "      <td>LIFESTYLE</td>\n",
              "      <td>3.8</td>\n",
              "      <td>718</td>\n",
              "      <td>26.000000</td>\n",
              "      <td>10000</td>\n",
              "      <td>Paid</td>\n",
              "      <td>399.99</td>\n",
              "      <td>Everyone</td>\n",
              "      <td>Lifestyle</td>\n",
              "      <td>March 11, 2018</td>\n",
              "      <td>1.0.0</td>\n",
              "      <td>4.4 and up</td>\n",
              "    </tr>\n",
              "    <tr>\n",
              "      <th>2670</th>\n",
              "      <td>I'm Rich - Trump Edition</td>\n",
              "      <td>LIFESTYLE</td>\n",
              "      <td>3.6</td>\n",
              "      <td>275</td>\n",
              "      <td>7.300000</td>\n",
              "      <td>10000</td>\n",
              "      <td>Paid</td>\n",
              "      <td>400.00</td>\n",
              "      <td>Everyone</td>\n",
              "      <td>Lifestyle</td>\n",
              "      <td>May 3, 2018</td>\n",
              "      <td>1.0.1</td>\n",
              "      <td>4.1 and up</td>\n",
              "    </tr>\n",
              "    <tr>\n",
              "      <th>3520</th>\n",
              "      <td>I am rich</td>\n",
              "      <td>LIFESTYLE</td>\n",
              "      <td>3.8</td>\n",
              "      <td>3547</td>\n",
              "      <td>1.800000</td>\n",
              "      <td>100000</td>\n",
              "      <td>Paid</td>\n",
              "      <td>399.99</td>\n",
              "      <td>Everyone</td>\n",
              "      <td>Lifestyle</td>\n",
              "      <td>January 12, 2018</td>\n",
              "      <td>2.0</td>\n",
              "      <td>4.0.3 and up</td>\n",
              "    </tr>\n",
              "    <tr>\n",
              "      <th>3522</th>\n",
              "      <td>I am Rich Plus</td>\n",
              "      <td>FAMILY</td>\n",
              "      <td>4.0</td>\n",
              "      <td>856</td>\n",
              "      <td>8.700000</td>\n",
              "      <td>10000</td>\n",
              "      <td>Paid</td>\n",
              "      <td>399.99</td>\n",
              "      <td>Everyone</td>\n",
              "      <td>Entertainment</td>\n",
              "      <td>May 19, 2018</td>\n",
              "      <td>3.0</td>\n",
              "      <td>4.4 and up</td>\n",
              "    </tr>\n",
              "    <tr>\n",
              "      <th>3523</th>\n",
              "      <td>I am rich VIP</td>\n",
              "      <td>LIFESTYLE</td>\n",
              "      <td>3.8</td>\n",
              "      <td>411</td>\n",
              "      <td>2.600000</td>\n",
              "      <td>10000</td>\n",
              "      <td>Paid</td>\n",
              "      <td>299.99</td>\n",
              "      <td>Everyone</td>\n",
              "      <td>Lifestyle</td>\n",
              "      <td>July 21, 2018</td>\n",
              "      <td>1.1.1</td>\n",
              "      <td>4.3 and up</td>\n",
              "    </tr>\n",
              "    <tr>\n",
              "      <th>3524</th>\n",
              "      <td>I Am Rich Premium</td>\n",
              "      <td>FINANCE</td>\n",
              "      <td>4.1</td>\n",
              "      <td>1867</td>\n",
              "      <td>4.700000</td>\n",
              "      <td>50000</td>\n",
              "      <td>Paid</td>\n",
              "      <td>399.99</td>\n",
              "      <td>Everyone</td>\n",
              "      <td>Finance</td>\n",
              "      <td>November 12, 2017</td>\n",
              "      <td>1.6</td>\n",
              "      <td>4.0 and up</td>\n",
              "    </tr>\n",
              "    <tr>\n",
              "      <th>3525</th>\n",
              "      <td>I am extremely Rich</td>\n",
              "      <td>LIFESTYLE</td>\n",
              "      <td>2.9</td>\n",
              "      <td>41</td>\n",
              "      <td>2.900000</td>\n",
              "      <td>1000</td>\n",
              "      <td>Paid</td>\n",
              "      <td>379.99</td>\n",
              "      <td>Everyone</td>\n",
              "      <td>Lifestyle</td>\n",
              "      <td>July 1, 2018</td>\n",
              "      <td>1.0</td>\n",
              "      <td>4.0 and up</td>\n",
              "    </tr>\n",
              "    <tr>\n",
              "      <th>3526</th>\n",
              "      <td>I am Rich!</td>\n",
              "      <td>FINANCE</td>\n",
              "      <td>3.8</td>\n",
              "      <td>93</td>\n",
              "      <td>22.000000</td>\n",
              "      <td>1000</td>\n",
              "      <td>Paid</td>\n",
              "      <td>399.99</td>\n",
              "      <td>Everyone</td>\n",
              "      <td>Finance</td>\n",
              "      <td>December 11, 2017</td>\n",
              "      <td>1.0</td>\n",
              "      <td>4.1 and up</td>\n",
              "    </tr>\n",
              "    <tr>\n",
              "      <th>3527</th>\n",
              "      <td>I am rich(premium)</td>\n",
              "      <td>FINANCE</td>\n",
              "      <td>3.5</td>\n",
              "      <td>472</td>\n",
              "      <td>0.942383</td>\n",
              "      <td>5000</td>\n",
              "      <td>Paid</td>\n",
              "      <td>399.99</td>\n",
              "      <td>Everyone</td>\n",
              "      <td>Finance</td>\n",
              "      <td>May 1, 2017</td>\n",
              "      <td>3.4</td>\n",
              "      <td>4.4 and up</td>\n",
              "    </tr>\n",
              "    <tr>\n",
              "      <th>3530</th>\n",
              "      <td>I Am Rich Pro</td>\n",
              "      <td>FAMILY</td>\n",
              "      <td>4.4</td>\n",
              "      <td>201</td>\n",
              "      <td>2.700000</td>\n",
              "      <td>5000</td>\n",
              "      <td>Paid</td>\n",
              "      <td>399.99</td>\n",
              "      <td>Everyone</td>\n",
              "      <td>Entertainment</td>\n",
              "      <td>May 30, 2017</td>\n",
              "      <td>1.54</td>\n",
              "      <td>1.6 and up</td>\n",
              "    </tr>\n",
              "    <tr>\n",
              "      <th>3532</th>\n",
              "      <td>I am rich (Most expensive app)</td>\n",
              "      <td>FINANCE</td>\n",
              "      <td>4.1</td>\n",
              "      <td>129</td>\n",
              "      <td>2.700000</td>\n",
              "      <td>1000</td>\n",
              "      <td>Paid</td>\n",
              "      <td>399.99</td>\n",
              "      <td>Teen</td>\n",
              "      <td>Finance</td>\n",
              "      <td>December 6, 2017</td>\n",
              "      <td>2</td>\n",
              "      <td>4.0.3 and up</td>\n",
              "    </tr>\n",
              "    <tr>\n",
              "      <th>3534</th>\n",
              "      <td>I Am Rich</td>\n",
              "      <td>FAMILY</td>\n",
              "      <td>3.6</td>\n",
              "      <td>217</td>\n",
              "      <td>4.900000</td>\n",
              "      <td>10000</td>\n",
              "      <td>Paid</td>\n",
              "      <td>389.99</td>\n",
              "      <td>Everyone</td>\n",
              "      <td>Entertainment</td>\n",
              "      <td>June 22, 2018</td>\n",
              "      <td>1.5</td>\n",
              "      <td>4.2 and up</td>\n",
              "    </tr>\n",
              "    <tr>\n",
              "      <th>3537</th>\n",
              "      <td>I am Rich</td>\n",
              "      <td>FINANCE</td>\n",
              "      <td>4.3</td>\n",
              "      <td>180</td>\n",
              "      <td>3.800000</td>\n",
              "      <td>5000</td>\n",
              "      <td>Paid</td>\n",
              "      <td>399.99</td>\n",
              "      <td>Everyone</td>\n",
              "      <td>Finance</td>\n",
              "      <td>March 22, 2018</td>\n",
              "      <td>1.0</td>\n",
              "      <td>4.2 and up</td>\n",
              "    </tr>\n",
              "    <tr>\n",
              "      <th>3541</th>\n",
              "      <td>I AM RICH PRO PLUS</td>\n",
              "      <td>FINANCE</td>\n",
              "      <td>4.0</td>\n",
              "      <td>36</td>\n",
              "      <td>41.000000</td>\n",
              "      <td>1000</td>\n",
              "      <td>Paid</td>\n",
              "      <td>399.99</td>\n",
              "      <td>Everyone</td>\n",
              "      <td>Finance</td>\n",
              "      <td>June 25, 2018</td>\n",
              "      <td>1.0.2</td>\n",
              "      <td>4.1 and up</td>\n",
              "    </tr>\n",
              "    <tr>\n",
              "      <th>7588</th>\n",
              "      <td>Eu Sou Rico</td>\n",
              "      <td>FINANCE</td>\n",
              "      <td>4.3</td>\n",
              "      <td>0</td>\n",
              "      <td>1.400000</td>\n",
              "      <td>0</td>\n",
              "      <td>Paid</td>\n",
              "      <td>394.99</td>\n",
              "      <td>Everyone</td>\n",
              "      <td>Finance</td>\n",
              "      <td>July 11, 2018</td>\n",
              "      <td>1.0</td>\n",
              "      <td>4.0.3 and up</td>\n",
              "    </tr>\n",
              "    <tr>\n",
              "      <th>7604</th>\n",
              "      <td>I'm Rich/Eu sou Rico/أنا غني/我很有錢</td>\n",
              "      <td>LIFESTYLE</td>\n",
              "      <td>4.3</td>\n",
              "      <td>0</td>\n",
              "      <td>40.000000</td>\n",
              "      <td>0</td>\n",
              "      <td>Paid</td>\n",
              "      <td>399.99</td>\n",
              "      <td>Everyone</td>\n",
              "      <td>Lifestyle</td>\n",
              "      <td>December 1, 2017</td>\n",
              "      <td>MONEY</td>\n",
              "      <td>4.1 and up</td>\n",
              "    </tr>\n",
              "  </tbody>\n",
              "</table>\n",
              "</div>\n",
              "      <button class=\"colab-df-convert\" onclick=\"convertToInteractive('df-e0fb8814-778e-431f-a9ee-4e37fa9b4e99')\"\n",
              "              title=\"Convert this dataframe to an interactive table.\"\n",
              "              style=\"display:none;\">\n",
              "        \n",
              "  <svg xmlns=\"http://www.w3.org/2000/svg\" height=\"24px\"viewBox=\"0 0 24 24\"\n",
              "       width=\"24px\">\n",
              "    <path d=\"M0 0h24v24H0V0z\" fill=\"none\"/>\n",
              "    <path d=\"M18.56 5.44l.94 2.06.94-2.06 2.06-.94-2.06-.94-.94-2.06-.94 2.06-2.06.94zm-11 1L8.5 8.5l.94-2.06 2.06-.94-2.06-.94L8.5 2.5l-.94 2.06-2.06.94zm10 10l.94 2.06.94-2.06 2.06-.94-2.06-.94-.94-2.06-.94 2.06-2.06.94z\"/><path d=\"M17.41 7.96l-1.37-1.37c-.4-.4-.92-.59-1.43-.59-.52 0-1.04.2-1.43.59L10.3 9.45l-7.72 7.72c-.78.78-.78 2.05 0 2.83L4 21.41c.39.39.9.59 1.41.59.51 0 1.02-.2 1.41-.59l7.78-7.78 2.81-2.81c.8-.78.8-2.07 0-2.86zM5.41 20L4 18.59l7.72-7.72 1.47 1.35L5.41 20z\"/>\n",
              "  </svg>\n",
              "      </button>\n",
              "      \n",
              "  <style>\n",
              "    .colab-df-container {\n",
              "      display:flex;\n",
              "      flex-wrap:wrap;\n",
              "      gap: 12px;\n",
              "    }\n",
              "\n",
              "    .colab-df-convert {\n",
              "      background-color: #E8F0FE;\n",
              "      border: none;\n",
              "      border-radius: 50%;\n",
              "      cursor: pointer;\n",
              "      display: none;\n",
              "      fill: #1967D2;\n",
              "      height: 32px;\n",
              "      padding: 0 0 0 0;\n",
              "      width: 32px;\n",
              "    }\n",
              "\n",
              "    .colab-df-convert:hover {\n",
              "      background-color: #E2EBFA;\n",
              "      box-shadow: 0px 1px 2px rgba(60, 64, 67, 0.3), 0px 1px 3px 1px rgba(60, 64, 67, 0.15);\n",
              "      fill: #174EA6;\n",
              "    }\n",
              "\n",
              "    [theme=dark] .colab-df-convert {\n",
              "      background-color: #3B4455;\n",
              "      fill: #D2E3FC;\n",
              "    }\n",
              "\n",
              "    [theme=dark] .colab-df-convert:hover {\n",
              "      background-color: #434B5C;\n",
              "      box-shadow: 0px 1px 3px 1px rgba(0, 0, 0, 0.15);\n",
              "      filter: drop-shadow(0px 1px 2px rgba(0, 0, 0, 0.3));\n",
              "      fill: #FFFFFF;\n",
              "    }\n",
              "  </style>\n",
              "\n",
              "      <script>\n",
              "        const buttonEl =\n",
              "          document.querySelector('#df-e0fb8814-778e-431f-a9ee-4e37fa9b4e99 button.colab-df-convert');\n",
              "        buttonEl.style.display =\n",
              "          google.colab.kernel.accessAllowed ? 'block' : 'none';\n",
              "\n",
              "        async function convertToInteractive(key) {\n",
              "          const element = document.querySelector('#df-e0fb8814-778e-431f-a9ee-4e37fa9b4e99');\n",
              "          const dataTable =\n",
              "            await google.colab.kernel.invokeFunction('convertToInteractive',\n",
              "                                                     [key], {});\n",
              "          if (!dataTable) return;\n",
              "\n",
              "          const docLinkHtml = 'Like what you see? Visit the ' +\n",
              "            '<a target=\"_blank\" href=https://colab.research.google.com/notebooks/data_table.ipynb>data table notebook</a>'\n",
              "            + ' to learn more about interactive tables.';\n",
              "          element.innerHTML = '';\n",
              "          dataTable['output_type'] = 'display_data';\n",
              "          await google.colab.output.renderOutput(dataTable, element);\n",
              "          const docLink = document.createElement('div');\n",
              "          docLink.innerHTML = docLinkHtml;\n",
              "          element.appendChild(docLink);\n",
              "        }\n",
              "      </script>\n",
              "    </div>\n",
              "  </div>\n",
              "  "
            ],
            "text/plain": [
              "                                    App   Category  ...  Current Ver   Android Ver\n",
              "2541             most expensive app (H)     FAMILY  ...          1.0    7.0 and up\n",
              "2666                         💎 I'm rich  LIFESTYLE  ...        1.0.0    4.4 and up\n",
              "2670           I'm Rich - Trump Edition  LIFESTYLE  ...        1.0.1    4.1 and up\n",
              "3520                          I am rich  LIFESTYLE  ...          2.0  4.0.3 and up\n",
              "3522                     I am Rich Plus     FAMILY  ...          3.0    4.4 and up\n",
              "3523                      I am rich VIP  LIFESTYLE  ...        1.1.1    4.3 and up\n",
              "3524                  I Am Rich Premium    FINANCE  ...          1.6    4.0 and up\n",
              "3525                I am extremely Rich  LIFESTYLE  ...          1.0    4.0 and up\n",
              "3526                         I am Rich!    FINANCE  ...          1.0    4.1 and up\n",
              "3527                 I am rich(premium)    FINANCE  ...          3.4    4.4 and up\n",
              "3530                      I Am Rich Pro     FAMILY  ...         1.54    1.6 and up\n",
              "3532     I am rich (Most expensive app)    FINANCE  ...            2  4.0.3 and up\n",
              "3534                          I Am Rich     FAMILY  ...          1.5    4.2 and up\n",
              "3537                          I am Rich    FINANCE  ...          1.0    4.2 and up\n",
              "3541                 I AM RICH PRO PLUS    FINANCE  ...        1.0.2    4.1 and up\n",
              "7588                        Eu Sou Rico    FINANCE  ...          1.0  4.0.3 and up\n",
              "7604  I'm Rich/Eu sou Rico/أنا غني/我很有錢  LIFESTYLE  ...        MONEY    4.1 and up\n",
              "\n",
              "[17 rows x 13 columns]"
            ]
          },
          "metadata": {},
          "execution_count": 67
        }
      ]
    },
    {
      "cell_type": "code",
      "source": [
        "play_store_df.info()"
      ],
      "metadata": {
        "colab": {
          "base_uri": "https://localhost:8080/"
        },
        "id": "0HOMEM4X49dL",
        "outputId": "b772d01c-b999-4683-bab6-128938a0040c"
      },
      "execution_count": 69,
      "outputs": [
        {
          "output_type": "stream",
          "name": "stdout",
          "text": [
            "<class 'pandas.core.frame.DataFrame'>\n",
            "Int64Index: 8422 entries, 0 to 8431\n",
            "Data columns (total 13 columns):\n",
            " #   Column          Non-Null Count  Dtype  \n",
            "---  ------          --------------  -----  \n",
            " 0   App             8422 non-null   object \n",
            " 1   Category        8422 non-null   object \n",
            " 2   Rating          8422 non-null   float64\n",
            " 3   Reviews         8422 non-null   int64  \n",
            " 4   Size            8422 non-null   float64\n",
            " 5   Installs        8422 non-null   int64  \n",
            " 6   Type            8422 non-null   object \n",
            " 7   Price           8422 non-null   float64\n",
            " 8   Content Rating  8422 non-null   object \n",
            " 9   Genres          8422 non-null   object \n",
            " 10  Last Updated    8422 non-null   object \n",
            " 11  Current Ver     8422 non-null   object \n",
            " 12  Android Ver     8422 non-null   object \n",
            "dtypes: float64(3), int64(2), object(8)\n",
            "memory usage: 921.2+ KB\n"
          ]
        }
      ]
    },
    {
      "cell_type": "code",
      "source": [
        "High_paid_apps[\"Installs\"].groupby(High_paid_apps[\"App\"]).sum()"
      ],
      "metadata": {
        "colab": {
          "base_uri": "https://localhost:8080/"
        },
        "id": "yO2LK5dg5DHY",
        "outputId": "b2e4f08f-e5ca-4c50-d032-dfb62e4c49b2"
      },
      "execution_count": 71,
      "outputs": [
        {
          "output_type": "execute_result",
          "data": {
            "text/plain": [
              "App\n",
              "Eu Sou Rico                               0\n",
              "I AM RICH PRO PLUS                     1000\n",
              "I Am Rich                             10000\n",
              "I Am Rich Premium                     50000\n",
              "I Am Rich Pro                          5000\n",
              "I am Rich                              5000\n",
              "I am Rich Plus                        10000\n",
              "I am Rich!                             1000\n",
              "I am extremely Rich                    1000\n",
              "I am rich                            100000\n",
              "I am rich (Most expensive app)         1000\n",
              "I am rich VIP                         10000\n",
              "I am rich(premium)                     5000\n",
              "I'm Rich - Trump Edition              10000\n",
              "I'm Rich/Eu sou Rico/أنا غني/我很有錢         0\n",
              "most expensive app (H)                  100\n",
              "💎 I'm rich                            10000\n",
              "Name: Installs, dtype: int64"
            ]
          },
          "metadata": {},
          "execution_count": 71
        }
      ]
    },
    {
      "cell_type": "code",
      "source": [
        "sns.barplot(x=\"Category\", y=\"Price\",data=play_store_df)\n",
        "\n",
        "plt.xticks(rotation=90)\n",
        "plt.figure(figsize=(30,8))\n",
        "rcParams['figure.figsize'] = 30,9"
      ],
      "metadata": {
        "colab": {
          "base_uri": "https://localhost:8080/",
          "height": 505
        },
        "id": "O9e6oIba_mtk",
        "outputId": "481145b2-9ef3-46fc-c16c-27201d7e40f9"
      },
      "execution_count": 73,
      "outputs": [
        {
          "output_type": "display_data",
          "data": {
            "image/png": "[encoded data removed]",
            "text/plain": [
              "<Figure size 2160x648 with 1 Axes>"
            ]
          },
          "metadata": {
            "needs_background": "light"
          }
        },
        {
          "output_type": "display_data",
          "data": {
            "text/plain": [
              "<Figure size 2160x576 with 0 Axes>"
            ]
          },
          "metadata": {}
        }
      ]
    }
  ]
}