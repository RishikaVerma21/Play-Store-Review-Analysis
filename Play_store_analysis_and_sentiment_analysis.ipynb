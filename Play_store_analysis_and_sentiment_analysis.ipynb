{
  "nbformat": 4,
  "nbformat_minor": 0,
  "metadata": {
    "colab": {
      "name": "Play store analysis and sentiment analysis.ipynb",
      "provenance": [],
      "collapsed_sections": [],
      "authorship_tag": "ABX9TyNU0D9NPauHHpcaH8YfiOt9",
      "include_colab_link": true
    },
    "kernelspec": {
      "name": "python3",
      "display_name": "Python 3"
    },
    "language_info": {
      "name": "python"
    }
  },
  "cells": [
    {
      "cell_type": "markdown",
      "metadata": {
        "id": "view-in-github",
        "colab_type": "text"
      },
      "source": [
        "<a href=\"https://colab.research.google.com/github/RishikaVerma21/Play-Store-Review-Analysis/blob/main/Play_store_analysis_and_sentiment_analysis.ipynb\" target=\"_parent\"><img src=\"https://colab.research.google.com/assets/colab-badge.svg\" alt=\"Open In Colab\"/></a>"
      ]
    },
    {
      "cell_type": "markdown",
      "source": [
        "#**Introduction :**\n",
        "\n"
      ],
      "metadata": {
        "id": "x0yh8vFANk0B"
      }
    },
    {
      "cell_type": "markdown",
      "source": [
        " **Play store data:**\n",
        "\n",
        "*This contains data on the Google Play applications. It has 10,841 rows and 13 columns of data which has following columns:*"
      ],
      "metadata": {
        "id": "PWWO7fAxN9Tl"
      }
    },
    {
      "cell_type": "markdown",
      "source": [
        "**App:** The name of apps given\n",
        "\n",
        "**App Category:** This column tells us the category of the app. This could be beauty, business, medical,art and design entertainment, education...etc.\n",
        "\n",
        "**Rating:** This column tells us how much rating that app has got. Users rate the app out of 5, with 1 being the lowest rating and 5 being the highest.\n",
        "\n",
        "**Reviews:** This column tells us the number of user given reviews for each app.\n",
        "\n",
        "**Size:** This column tells us memory size needed to install the application.\n",
        "\n",
        "**Installs:** This column tells us the number of times each application has been installed by the users.\n",
        "\n",
        "**Type:** This column tells us whether the app is free or a paid app.\n",
        "\n",
        "**Price:** This column tells us the price of the app.\n",
        "\n",
        "**Content Rating:** This column tells us the audience for the app. They may be for teens, mature audience, etc\n",
        "\n",
        "**Genres:** This column intends sub-category for each app. \n",
        "\n",
        "**Last Updated:** This column tells us the release date of the  app.\n",
        "\n",
        "**Current Ver:** This column tells us the current version of app.\n",
        "\n",
        "**Android Ver:** This column tells us the oldest version of Android O/S supported by the app."
      ],
      "metadata": {
        "id": "ZE274sN1OQ4Z"
      }
    },
    {
      "cell_type": "markdown",
      "source": [
        "**User Reviews :**\n",
        "\n",
        "*This file contains the result of the sentiment analysis. This data contains 64,295 rows and 5 columns. What these columns says are given below*"
      ],
      "metadata": {
        "id": "yHkSgBauPg2M"
      }
    },
    {
      "cell_type": "markdown",
      "source": [
        "**App:** Name of the app.\n",
        "\n",
        "**Translated_Review:** This column tells us either the original review in english, or a translated version if the orignal review is in another language.\n",
        "\n",
        "**Sentiment:** This column tells us the result of the sentiment analysis conducted on a review and the value may be either Positive or Neutral or Negative.\n",
        "\n",
        "**Sentiment_Polarity:** This column tells us the value indicating the positivity or negativity of the sentiment. The values ranges from -1 (most negative) to 1 (most positive). The sentiment polarity of an element defines the orientation of the expressed sentiment, i.e. it tells us whether the text expresses positive, negative or neutral sentiment of the user about the entity in consideration.\n",
        "\n",
        "**Sentiment_Subjectivity:** This column tells us the value from 0 to 1 indicating the subjectivity of the review. Lower values indicate the review is based on factual information while the higher values indicate the review is based on personal or public opinions or judgements."
      ],
      "metadata": {
        "id": "sB67pmE8Qisg"
      }
    },
    {
      "cell_type": "code",
      "source": [
        "# Import the necessary modules\n",
        "\n",
        "import numpy as np\n",
        "import pandas as pd\n",
        "import matplotlib.pyplot as plt\n",
        "import seaborn as sns\n",
        "import datetime as dt\n",
        "import plotly.graph_objects as go\n",
        "from plotly.offline import init_notebook_mode, iplot\n",
        "init_notebook_mode(connected=True)\n",
        "\n",
        "import warnings\n",
        "warnings.filterwarnings(\"ignore\")"
      ],
      "metadata": {
        "colab": {
          "base_uri": "https://localhost:8080/",
          "height": 17
        },
        "id": "zMWM92qJ36-L",
        "outputId": "41314666-d05b-4afc-92b4-2de49310965b"
      },
      "execution_count": 5,
      "outputs": [
        {
          "output_type": "display_data",
          "data": {
            "text/html": [
              "        <script type=\"text/javascript\">\n",
              "        window.PlotlyConfig = {MathJaxConfig: 'local'};\n",
              "        if (window.MathJax) {MathJax.Hub.Config({SVG: {font: \"STIX-Web\"}});}\n",
              "        if (typeof require !== 'undefined') {\n",
              "        require.undef(\"plotly\");\n",
              "        requirejs.config({\n",
              "            paths: {\n",
              "                'plotly': ['https://cdn.plot.ly/plotly-2.8.3.min']\n",
              "            }\n",
              "        });\n",
              "        require(['plotly'], function(Plotly) {\n",
              "            window._Plotly = Plotly;\n",
              "        });\n",
              "        }\n",
              "        </script>\n",
              "        "
            ]
          },
          "metadata": {}
        }
      ]
    },
    {
      "cell_type": "code",
      "source": [
        "\n",
        "from matplotlib import pyplot as plt\n",
        "plt.style.use('ggplot')\n",
        "%matplotlib inline\n",
        "from matplotlib import rcParams     \n",
        "\n",
        "\n",
        "import seaborn as sns              # To make plots with seaborn\n",
        "color = sns.color_palette()\n",
        "\n",
        "import warnings\n",
        "warnings.filterwarnings('ignore')"
      ],
      "metadata": {
        "id": "G5T_TGFvYQWN"
      },
      "execution_count": 6,
      "outputs": []
    },
    {
      "cell_type": "markdown",
      "source": [
        "**Now we will import csv file**"
      ],
      "metadata": {
        "id": "iV5UygniaxZ4"
      }
    },
    {
      "cell_type": "code",
      "source": [
        "from google.colab import drive\n",
        "drive.mount('/content/drive')"
      ],
      "metadata": {
        "id": "RGRJQkMRa6g1",
        "colab": {
          "base_uri": "https://localhost:8080/"
        },
        "outputId": "7d46480d-a8de-450d-c739-1209f59813ea"
      },
      "execution_count": 8,
      "outputs": [
        {
          "output_type": "stream",
          "name": "stdout",
          "text": [
            "Mounted at /content/drive\n"
          ]
        }
      ]
    },
    {
      "cell_type": "code",
      "source": [
        "path  = \"/content/drive/MyDrive/Capstone Projects/Project 1 : Play Store review analysis/\"\n",
        " \n",
        "play_store_df = pd.read_csv(path + \"Play Store Data.csv\")\n",
        "user_review_df = pd.read_csv(path + \"User Reviews.csv\")"
      ],
      "metadata": {
        "id": "Yyxv6cTNtj2R"
      },
      "execution_count": 9,
      "outputs": []
    },
    {
      "cell_type": "code",
      "source": [
        "# This gives us the information of our data set\n",
        "play_store_df.info() "
      ],
      "metadata": {
        "colab": {
          "base_uri": "https://localhost:8080/"
        },
        "id": "N_M6esGOxgWL",
        "outputId": "00a6bead-b295-4fde-e9a2-0d3c49f608fc"
      },
      "execution_count": 11,
      "outputs": [
        {
          "output_type": "stream",
          "name": "stdout",
          "text": [
            "<class 'pandas.core.frame.DataFrame'>\n",
            "RangeIndex: 10841 entries, 0 to 10840\n",
            "Data columns (total 13 columns):\n",
            " #   Column          Non-Null Count  Dtype  \n",
            "---  ------          --------------  -----  \n",
            " 0   App             10841 non-null  object \n",
            " 1   Category        10841 non-null  object \n",
            " 2   Rating          9367 non-null   float64\n",
            " 3   Reviews         10841 non-null  object \n",
            " 4   Size            10841 non-null  object \n",
            " 5   Installs        10841 non-null  object \n",
            " 6   Type            10840 non-null  object \n",
            " 7   Price           10841 non-null  object \n",
            " 8   Content Rating  10840 non-null  object \n",
            " 9   Genres          10841 non-null  object \n",
            " 10  Last Updated    10841 non-null  object \n",
            " 11  Current Ver     10833 non-null  object \n",
            " 12  Android Ver     10838 non-null  object \n",
            "dtypes: float64(1), object(12)\n",
            "memory usage: 1.1+ MB\n"
          ]
        }
      ]
    },
    {
      "cell_type": "code",
      "source": [
        "# This code will give first 5 rows of the data set\n",
        "play_store_df.sample(5) "
      ],
      "metadata": {
        "colab": {
          "base_uri": "https://localhost:8080/",
          "height": 354
        },
        "id": "ExPTHHEhxVb5",
        "outputId": "e0757e74-0d5e-42b6-a8b4-b10146c7264e"
      },
      "execution_count": 13,
      "outputs": [
        {
          "output_type": "execute_result",
          "data": {
            "text/html": [
              "\n",
              "  <div id=\"df-c1ee1c60-1f6b-4b58-996c-0bdb444f418c\">\n",
              "    <div class=\"colab-df-container\">\n",
              "      <div>\n",
              "<style scoped>\n",
              "    .dataframe tbody tr th:only-of-type {\n",
              "        vertical-align: middle;\n",
              "    }\n",
              "\n",
              "    .dataframe tbody tr th {\n",
              "        vertical-align: top;\n",
              "    }\n",
              "\n",
              "    .dataframe thead th {\n",
              "        text-align: right;\n",
              "    }\n",
              "</style>\n",
              "<table border=\"1\" class=\"dataframe\">\n",
              "  <thead>\n",
              "    <tr style=\"text-align: right;\">\n",
              "      <th></th>\n",
              "      <th>App</th>\n",
              "      <th>Category</th>\n",
              "      <th>Rating</th>\n",
              "      <th>Reviews</th>\n",
              "      <th>Size</th>\n",
              "      <th>Installs</th>\n",
              "      <th>Type</th>\n",
              "      <th>Price</th>\n",
              "      <th>Content Rating</th>\n",
              "      <th>Genres</th>\n",
              "      <th>Last Updated</th>\n",
              "      <th>Current Ver</th>\n",
              "      <th>Android Ver</th>\n",
              "    </tr>\n",
              "  </thead>\n",
              "  <tbody>\n",
              "    <tr>\n",
              "      <th>6180</th>\n",
              "      <td>Baldur's Gate: Enhanced Edition</td>\n",
              "      <td>FAMILY</td>\n",
              "      <td>4.5</td>\n",
              "      <td>20101</td>\n",
              "      <td>7.8M</td>\n",
              "      <td>100,000+</td>\n",
              "      <td>Paid</td>\n",
              "      <td>$9.99</td>\n",
              "      <td>Teen</td>\n",
              "      <td>Role Playing</td>\n",
              "      <td>October 2, 2015</td>\n",
              "      <td>1.3</td>\n",
              "      <td>3.0 and up</td>\n",
              "    </tr>\n",
              "    <tr>\n",
              "      <th>6314</th>\n",
              "      <td>The Daily BJ</td>\n",
              "      <td>HEALTH_AND_FITNESS</td>\n",
              "      <td>4.8</td>\n",
              "      <td>38</td>\n",
              "      <td>24M</td>\n",
              "      <td>500+</td>\n",
              "      <td>Free</td>\n",
              "      <td>0</td>\n",
              "      <td>Everyone</td>\n",
              "      <td>Health &amp; Fitness</td>\n",
              "      <td>July 10, 2018</td>\n",
              "      <td>1.1</td>\n",
              "      <td>5.0 and up</td>\n",
              "    </tr>\n",
              "    <tr>\n",
              "      <th>4310</th>\n",
              "      <td>K-Spapp, the K-Space app</td>\n",
              "      <td>FAMILY</td>\n",
              "      <td>4.8</td>\n",
              "      <td>39</td>\n",
              "      <td>3.6M</td>\n",
              "      <td>1,000+</td>\n",
              "      <td>Free</td>\n",
              "      <td>0</td>\n",
              "      <td>Everyone</td>\n",
              "      <td>Education</td>\n",
              "      <td>February 9, 2017</td>\n",
              "      <td>1.53</td>\n",
              "      <td>4.0.3 and up</td>\n",
              "    </tr>\n",
              "    <tr>\n",
              "      <th>3035</th>\n",
              "      <td>Golf GPS Rangefinder: Golf Pad</td>\n",
              "      <td>SPORTS</td>\n",
              "      <td>4.6</td>\n",
              "      <td>13098</td>\n",
              "      <td>Varies with device</td>\n",
              "      <td>1,000,000+</td>\n",
              "      <td>Free</td>\n",
              "      <td>0</td>\n",
              "      <td>Everyone</td>\n",
              "      <td>Sports</td>\n",
              "      <td>July 28, 2018</td>\n",
              "      <td>Varies with device</td>\n",
              "      <td>Varies with device</td>\n",
              "    </tr>\n",
              "    <tr>\n",
              "      <th>5554</th>\n",
              "      <td>Assemblr - Create 3D Models (Sandbox AR)</td>\n",
              "      <td>FAMILY</td>\n",
              "      <td>3.8</td>\n",
              "      <td>1745</td>\n",
              "      <td>Varies with device</td>\n",
              "      <td>1,000,000+</td>\n",
              "      <td>Free</td>\n",
              "      <td>0</td>\n",
              "      <td>Everyone</td>\n",
              "      <td>Simulation</td>\n",
              "      <td>July 17, 2018</td>\n",
              "      <td>2.25</td>\n",
              "      <td>5.0 and up</td>\n",
              "    </tr>\n",
              "  </tbody>\n",
              "</table>\n",
              "</div>\n",
              "      <button class=\"colab-df-convert\" onclick=\"convertToInteractive('df-c1ee1c60-1f6b-4b58-996c-0bdb444f418c')\"\n",
              "              title=\"Convert this dataframe to an interactive table.\"\n",
              "              style=\"display:none;\">\n",
              "        \n",
              "  <svg xmlns=\"http://www.w3.org/2000/svg\" height=\"24px\"viewBox=\"0 0 24 24\"\n",
              "       width=\"24px\">\n",
              "    <path d=\"M0 0h24v24H0V0z\" fill=\"none\"/>\n",
              "    <path d=\"M18.56 5.44l.94 2.06.94-2.06 2.06-.94-2.06-.94-.94-2.06-.94 2.06-2.06.94zm-11 1L8.5 8.5l.94-2.06 2.06-.94-2.06-.94L8.5 2.5l-.94 2.06-2.06.94zm10 10l.94 2.06.94-2.06 2.06-.94-2.06-.94-.94-2.06-.94 2.06-2.06.94z\"/><path d=\"M17.41 7.96l-1.37-1.37c-.4-.4-.92-.59-1.43-.59-.52 0-1.04.2-1.43.59L10.3 9.45l-7.72 7.72c-.78.78-.78 2.05 0 2.83L4 21.41c.39.39.9.59 1.41.59.51 0 1.02-.2 1.41-.59l7.78-7.78 2.81-2.81c.8-.78.8-2.07 0-2.86zM5.41 20L4 18.59l7.72-7.72 1.47 1.35L5.41 20z\"/>\n",
              "  </svg>\n",
              "      </button>\n",
              "      \n",
              "  <style>\n",
              "    .colab-df-container {\n",
              "      display:flex;\n",
              "      flex-wrap:wrap;\n",
              "      gap: 12px;\n",
              "    }\n",
              "\n",
              "    .colab-df-convert {\n",
              "      background-color: #E8F0FE;\n",
              "      border: none;\n",
              "      border-radius: 50%;\n",
              "      cursor: pointer;\n",
              "      display: none;\n",
              "      fill: #1967D2;\n",
              "      height: 32px;\n",
              "      padding: 0 0 0 0;\n",
              "      width: 32px;\n",
              "    }\n",
              "\n",
              "    .colab-df-convert:hover {\n",
              "      background-color: #E2EBFA;\n",
              "      box-shadow: 0px 1px 2px rgba(60, 64, 67, 0.3), 0px 1px 3px 1px rgba(60, 64, 67, 0.15);\n",
              "      fill: #174EA6;\n",
              "    }\n",
              "\n",
              "    [theme=dark] .colab-df-convert {\n",
              "      background-color: #3B4455;\n",
              "      fill: #D2E3FC;\n",
              "    }\n",
              "\n",
              "    [theme=dark] .colab-df-convert:hover {\n",
              "      background-color: #434B5C;\n",
              "      box-shadow: 0px 1px 3px 1px rgba(0, 0, 0, 0.15);\n",
              "      filter: drop-shadow(0px 1px 2px rgba(0, 0, 0, 0.3));\n",
              "      fill: #FFFFFF;\n",
              "    }\n",
              "  </style>\n",
              "\n",
              "      <script>\n",
              "        const buttonEl =\n",
              "          document.querySelector('#df-c1ee1c60-1f6b-4b58-996c-0bdb444f418c button.colab-df-convert');\n",
              "        buttonEl.style.display =\n",
              "          google.colab.kernel.accessAllowed ? 'block' : 'none';\n",
              "\n",
              "        async function convertToInteractive(key) {\n",
              "          const element = document.querySelector('#df-c1ee1c60-1f6b-4b58-996c-0bdb444f418c');\n",
              "          const dataTable =\n",
              "            await google.colab.kernel.invokeFunction('convertToInteractive',\n",
              "                                                     [key], {});\n",
              "          if (!dataTable) return;\n",
              "\n",
              "          const docLinkHtml = 'Like what you see? Visit the ' +\n",
              "            '<a target=\"_blank\" href=https://colab.research.google.com/notebooks/data_table.ipynb>data table notebook</a>'\n",
              "            + ' to learn more about interactive tables.';\n",
              "          element.innerHTML = '';\n",
              "          dataTable['output_type'] = 'display_data';\n",
              "          await google.colab.output.renderOutput(dataTable, element);\n",
              "          const docLink = document.createElement('div');\n",
              "          docLink.innerHTML = docLinkHtml;\n",
              "          element.appendChild(docLink);\n",
              "        }\n",
              "      </script>\n",
              "    </div>\n",
              "  </div>\n",
              "  "
            ],
            "text/plain": [
              "                                           App  ...         Android Ver\n",
              "6180           Baldur's Gate: Enhanced Edition  ...          3.0 and up\n",
              "6314                              The Daily BJ  ...          5.0 and up\n",
              "4310                  K-Spapp, the K-Space app  ...        4.0.3 and up\n",
              "3035            Golf GPS Rangefinder: Golf Pad  ...  Varies with device\n",
              "5554  Assemblr - Create 3D Models (Sandbox AR)  ...          5.0 and up\n",
              "\n",
              "[5 rows x 13 columns]"
            ]
          },
          "metadata": {},
          "execution_count": 13
        }
      ]
    },
    {
      "cell_type": "markdown",
      "source": [
        "**Let's Check the shape of data**"
      ],
      "metadata": {
        "id": "8ZKSNJupuXJ-"
      }
    },
    {
      "cell_type": "code",
      "source": [
        "print(play_store_df.shape)\n",
        "print(user_review_df.shape)"
      ],
      "metadata": {
        "colab": {
          "base_uri": "https://localhost:8080/"
        },
        "id": "_Tm20r_9uQqP",
        "outputId": "3328dac1-4595-4c57-8568-ab659ad14fca"
      },
      "execution_count": 14,
      "outputs": [
        {
          "output_type": "stream",
          "name": "stdout",
          "text": [
            "(10841, 13)\n",
            "(64295, 5)\n"
          ]
        }
      ]
    },
    {
      "cell_type": "markdown",
      "source": [
        "#**DATA CLEANING**"
      ],
      "metadata": {
        "id": "DiYfDHx40rN1"
      }
    },
    {
      "cell_type": "code",
      "source": [
        "# First we need to find missing value in our data\n",
        "print('Missing value are as follows:')\n",
        "\n",
        "play_store_df.isnull().sum()"
      ],
      "metadata": {
        "colab": {
          "base_uri": "https://localhost:8080/"
        },
        "id": "54qAmMQnyWLg",
        "outputId": "dd798ef0-f8e3-4d63-a166-c2837d53db01"
      },
      "execution_count": 15,
      "outputs": [
        {
          "output_type": "stream",
          "name": "stdout",
          "text": [
            "Missing value are as follows:\n"
          ]
        },
        {
          "output_type": "execute_result",
          "data": {
            "text/plain": [
              "App                  0\n",
              "Category             0\n",
              "Rating            1474\n",
              "Reviews              0\n",
              "Size                 0\n",
              "Installs             0\n",
              "Type                 1\n",
              "Price                0\n",
              "Content Rating       1\n",
              "Genres               0\n",
              "Last Updated         0\n",
              "Current Ver          8\n",
              "Android Ver          3\n",
              "dtype: int64"
            ]
          },
          "metadata": {},
          "execution_count": 15
        }
      ]
    },
    {
      "cell_type": "markdown",
      "source": [
        "**Drop NaNs and duplicates from existing dataframe**"
      ],
      "metadata": {
        "id": "QNCoa4u44fG9"
      }
    },
    {
      "cell_type": "code",
      "source": [
        "# Delete duplicates from App column.\n",
        "play_store_df.drop_duplicates(subset=['App'],keep='first', inplace=True, ignore_index=True)\n",
        "\n",
        "# check data remove or not\n",
        "play_store_df.columns"
      ],
      "metadata": {
        "colab": {
          "base_uri": "https://localhost:8080/"
        },
        "id": "J-u6r26a4cfu",
        "outputId": "45a9d0e5-2ce2-4db5-b630-69f86e6f09d2"
      },
      "execution_count": 16,
      "outputs": [
        {
          "output_type": "execute_result",
          "data": {
            "text/plain": [
              "Index(['App', 'Category', 'Rating', 'Reviews', 'Size', 'Installs', 'Type',\n",
              "       'Price', 'Content Rating', 'Genres', 'Last Updated', 'Current Ver',\n",
              "       'Android Ver'],\n",
              "      dtype='object')"
            ]
          },
          "metadata": {},
          "execution_count": 16
        }
      ]
    },
    {
      "cell_type": "code",
      "source": [
        "play_store_df.isnull().sum()"
      ],
      "metadata": {
        "colab": {
          "base_uri": "https://localhost:8080/"
        },
        "id": "5K7L6Dey5z2b",
        "outputId": "ebed6d2c-a062-4ab8-e08e-1f0a765c3046"
      },
      "execution_count": 17,
      "outputs": [
        {
          "output_type": "execute_result",
          "data": {
            "text/plain": [
              "App                  0\n",
              "Category             0\n",
              "Rating            1463\n",
              "Reviews              0\n",
              "Size                 0\n",
              "Installs             0\n",
              "Type                 1\n",
              "Price                0\n",
              "Content Rating       1\n",
              "Genres               0\n",
              "Last Updated         0\n",
              "Current Ver          8\n",
              "Android Ver          3\n",
              "dtype: int64"
            ]
          },
          "metadata": {},
          "execution_count": 17
        }
      ]
    },
    {
      "cell_type": "code",
      "source": [
        "play_store_df.info()"
      ],
      "metadata": {
        "colab": {
          "base_uri": "https://localhost:8080/"
        },
        "id": "bhMQg8Y654xN",
        "outputId": "1ea2da73-32be-4086-9946-033964852d6f"
      },
      "execution_count": 18,
      "outputs": [
        {
          "output_type": "stream",
          "name": "stdout",
          "text": [
            "<class 'pandas.core.frame.DataFrame'>\n",
            "RangeIndex: 9660 entries, 0 to 9659\n",
            "Data columns (total 13 columns):\n",
            " #   Column          Non-Null Count  Dtype  \n",
            "---  ------          --------------  -----  \n",
            " 0   App             9660 non-null   object \n",
            " 1   Category        9660 non-null   object \n",
            " 2   Rating          8197 non-null   float64\n",
            " 3   Reviews         9660 non-null   object \n",
            " 4   Size            9660 non-null   object \n",
            " 5   Installs        9660 non-null   object \n",
            " 6   Type            9659 non-null   object \n",
            " 7   Price           9660 non-null   object \n",
            " 8   Content Rating  9659 non-null   object \n",
            " 9   Genres          9660 non-null   object \n",
            " 10  Last Updated    9660 non-null   object \n",
            " 11  Current Ver     9652 non-null   object \n",
            " 12  Android Ver     9657 non-null   object \n",
            "dtypes: float64(1), object(12)\n",
            "memory usage: 981.2+ KB\n"
          ]
        }
      ]
    },
    {
      "cell_type": "code",
      "source": [
        "# This code will give first 10 rows of the data set\n",
        "play_store_df.sample(10) "
      ],
      "metadata": {
        "colab": {
          "base_uri": "https://localhost:8080/",
          "height": 615
        },
        "id": "ZTaMbPO61ycv",
        "outputId": "8be90ebe-813e-4c89-be66-e6dfc435b34d"
      },
      "execution_count": 51,
      "outputs": [
        {
          "output_type": "execute_result",
          "data": {
            "text/html": [
              "\n",
              "  <div id=\"df-8244b6aa-63e0-4e94-b9cd-0f3348fd7f2b\">\n",
              "    <div class=\"colab-df-container\">\n",
              "      <div>\n",
              "<style scoped>\n",
              "    .dataframe tbody tr th:only-of-type {\n",
              "        vertical-align: middle;\n",
              "    }\n",
              "\n",
              "    .dataframe tbody tr th {\n",
              "        vertical-align: top;\n",
              "    }\n",
              "\n",
              "    .dataframe thead th {\n",
              "        text-align: right;\n",
              "    }\n",
              "</style>\n",
              "<table border=\"1\" class=\"dataframe\">\n",
              "  <thead>\n",
              "    <tr style=\"text-align: right;\">\n",
              "      <th></th>\n",
              "      <th>App</th>\n",
              "      <th>Category</th>\n",
              "      <th>Rating</th>\n",
              "      <th>Reviews</th>\n",
              "      <th>Size</th>\n",
              "      <th>Installs</th>\n",
              "      <th>Type</th>\n",
              "      <th>Price</th>\n",
              "      <th>Content Rating</th>\n",
              "      <th>Genres</th>\n",
              "      <th>Last Updated</th>\n",
              "      <th>Current Ver</th>\n",
              "      <th>Android Ver</th>\n",
              "    </tr>\n",
              "  </thead>\n",
              "  <tbody>\n",
              "    <tr>\n",
              "      <th>3692</th>\n",
              "      <td>T-Mobile Visual Voicemail</td>\n",
              "      <td>TOOLS</td>\n",
              "      <td>3.6</td>\n",
              "      <td>41502</td>\n",
              "      <td>Varies with device</td>\n",
              "      <td>50,000,000+</td>\n",
              "      <td>Free</td>\n",
              "      <td>0</td>\n",
              "      <td>Everyone</td>\n",
              "      <td>Tools</td>\n",
              "      <td>July 31, 2018</td>\n",
              "      <td>Varies with device</td>\n",
              "      <td>Varies with device</td>\n",
              "    </tr>\n",
              "    <tr>\n",
              "      <th>9352</th>\n",
              "      <td>Fairy Kingdom: World of Magic and Farming</td>\n",
              "      <td>FAMILY</td>\n",
              "      <td>4.4</td>\n",
              "      <td>129542</td>\n",
              "      <td>63M</td>\n",
              "      <td>1,000,000+</td>\n",
              "      <td>Free</td>\n",
              "      <td>0</td>\n",
              "      <td>Everyone</td>\n",
              "      <td>Strategy;Creativity</td>\n",
              "      <td>July 23, 2018</td>\n",
              "      <td>2.4.9</td>\n",
              "      <td>4.0.3 and up</td>\n",
              "    </tr>\n",
              "    <tr>\n",
              "      <th>5304</th>\n",
              "      <td>BJ Bridge Free (2018)</td>\n",
              "      <td>GAME</td>\n",
              "      <td>3.9</td>\n",
              "      <td>20</td>\n",
              "      <td>4.8M</td>\n",
              "      <td>10,000+</td>\n",
              "      <td>Free</td>\n",
              "      <td>0</td>\n",
              "      <td>Everyone</td>\n",
              "      <td>Card</td>\n",
              "      <td>May 21, 2018</td>\n",
              "      <td>6.2-lite</td>\n",
              "      <td>4.0 and up</td>\n",
              "    </tr>\n",
              "    <tr>\n",
              "      <th>8413</th>\n",
              "      <td>El Pollo Loco - Loco Rewards</td>\n",
              "      <td>FOOD_AND_DRINK</td>\n",
              "      <td>4.0</td>\n",
              "      <td>848</td>\n",
              "      <td>25M</td>\n",
              "      <td>100,000+</td>\n",
              "      <td>Free</td>\n",
              "      <td>0</td>\n",
              "      <td>Everyone</td>\n",
              "      <td>Food &amp; Drink</td>\n",
              "      <td>February 23, 2018</td>\n",
              "      <td>2.1</td>\n",
              "      <td>4.1 and up</td>\n",
              "    </tr>\n",
              "    <tr>\n",
              "      <th>7109</th>\n",
              "      <td>The Zueira's Voice</td>\n",
              "      <td>TOOLS</td>\n",
              "      <td>4.7</td>\n",
              "      <td>136540</td>\n",
              "      <td>3.1M</td>\n",
              "      <td>1,000,000+</td>\n",
              "      <td>Free</td>\n",
              "      <td>0</td>\n",
              "      <td>Everyone</td>\n",
              "      <td>Tools</td>\n",
              "      <td>July 10, 2018</td>\n",
              "      <td>4.75</td>\n",
              "      <td>4.0.3 and up</td>\n",
              "    </tr>\n",
              "    <tr>\n",
              "      <th>726</th>\n",
              "      <td>Ziggo GO</td>\n",
              "      <td>ENTERTAINMENT</td>\n",
              "      <td>4.1</td>\n",
              "      <td>29690</td>\n",
              "      <td>78M</td>\n",
              "      <td>1,000,000+</td>\n",
              "      <td>Free</td>\n",
              "      <td>0</td>\n",
              "      <td>Teen</td>\n",
              "      <td>Entertainment</td>\n",
              "      <td>August 3, 2018</td>\n",
              "      <td>2.3.34 Prod</td>\n",
              "      <td>4.3 and up</td>\n",
              "    </tr>\n",
              "    <tr>\n",
              "      <th>5301</th>\n",
              "      <td>BJ's Bingo &amp; Gaming Casino</td>\n",
              "      <td>GAME</td>\n",
              "      <td>4.5</td>\n",
              "      <td>501</td>\n",
              "      <td>65M</td>\n",
              "      <td>10,000+</td>\n",
              "      <td>Free</td>\n",
              "      <td>0</td>\n",
              "      <td>Teen</td>\n",
              "      <td>Casino</td>\n",
              "      <td>July 26, 2018</td>\n",
              "      <td>5.0.1.3</td>\n",
              "      <td>4.3 and up</td>\n",
              "    </tr>\n",
              "    <tr>\n",
              "      <th>4270</th>\n",
              "      <td>AJ Jump: Animal Jam Kangaroos!</td>\n",
              "      <td>GAME</td>\n",
              "      <td>4.4</td>\n",
              "      <td>2975</td>\n",
              "      <td>42M</td>\n",
              "      <td>50,000+</td>\n",
              "      <td>Paid</td>\n",
              "      <td>$1.99</td>\n",
              "      <td>Everyone</td>\n",
              "      <td>Arcade</td>\n",
              "      <td>March 7, 2016</td>\n",
              "      <td>1.6</td>\n",
              "      <td>4.0 and up</td>\n",
              "    </tr>\n",
              "    <tr>\n",
              "      <th>9222</th>\n",
              "      <td>PBS KIDS Games</td>\n",
              "      <td>FAMILY</td>\n",
              "      <td>4.3</td>\n",
              "      <td>12919</td>\n",
              "      <td>94M</td>\n",
              "      <td>1,000,000+</td>\n",
              "      <td>Free</td>\n",
              "      <td>0</td>\n",
              "      <td>Everyone</td>\n",
              "      <td>Educational;Education</td>\n",
              "      <td>June 6, 2018</td>\n",
              "      <td>1.15.2</td>\n",
              "      <td>4.4 and up</td>\n",
              "    </tr>\n",
              "    <tr>\n",
              "      <th>5708</th>\n",
              "      <td>BS Play</td>\n",
              "      <td>FAMILY</td>\n",
              "      <td>3.7</td>\n",
              "      <td>56</td>\n",
              "      <td>1.5M</td>\n",
              "      <td>5,000+</td>\n",
              "      <td>Free</td>\n",
              "      <td>0</td>\n",
              "      <td>Everyone</td>\n",
              "      <td>Education</td>\n",
              "      <td>March 4, 2015</td>\n",
              "      <td>1.1.2</td>\n",
              "      <td>4.0 and up</td>\n",
              "    </tr>\n",
              "  </tbody>\n",
              "</table>\n",
              "</div>\n",
              "      <button class=\"colab-df-convert\" onclick=\"convertToInteractive('df-8244b6aa-63e0-4e94-b9cd-0f3348fd7f2b')\"\n",
              "              title=\"Convert this dataframe to an interactive table.\"\n",
              "              style=\"display:none;\">\n",
              "        \n",
              "  <svg xmlns=\"http://www.w3.org/2000/svg\" height=\"24px\"viewBox=\"0 0 24 24\"\n",
              "       width=\"24px\">\n",
              "    <path d=\"M0 0h24v24H0V0z\" fill=\"none\"/>\n",
              "    <path d=\"M18.56 5.44l.94 2.06.94-2.06 2.06-.94-2.06-.94-.94-2.06-.94 2.06-2.06.94zm-11 1L8.5 8.5l.94-2.06 2.06-.94-2.06-.94L8.5 2.5l-.94 2.06-2.06.94zm10 10l.94 2.06.94-2.06 2.06-.94-2.06-.94-.94-2.06-.94 2.06-2.06.94z\"/><path d=\"M17.41 7.96l-1.37-1.37c-.4-.4-.92-.59-1.43-.59-.52 0-1.04.2-1.43.59L10.3 9.45l-7.72 7.72c-.78.78-.78 2.05 0 2.83L4 21.41c.39.39.9.59 1.41.59.51 0 1.02-.2 1.41-.59l7.78-7.78 2.81-2.81c.8-.78.8-2.07 0-2.86zM5.41 20L4 18.59l7.72-7.72 1.47 1.35L5.41 20z\"/>\n",
              "  </svg>\n",
              "      </button>\n",
              "      \n",
              "  <style>\n",
              "    .colab-df-container {\n",
              "      display:flex;\n",
              "      flex-wrap:wrap;\n",
              "      gap: 12px;\n",
              "    }\n",
              "\n",
              "    .colab-df-convert {\n",
              "      background-color: #E8F0FE;\n",
              "      border: none;\n",
              "      border-radius: 50%;\n",
              "      cursor: pointer;\n",
              "      display: none;\n",
              "      fill: #1967D2;\n",
              "      height: 32px;\n",
              "      padding: 0 0 0 0;\n",
              "      width: 32px;\n",
              "    }\n",
              "\n",
              "    .colab-df-convert:hover {\n",
              "      background-color: #E2EBFA;\n",
              "      box-shadow: 0px 1px 2px rgba(60, 64, 67, 0.3), 0px 1px 3px 1px rgba(60, 64, 67, 0.15);\n",
              "      fill: #174EA6;\n",
              "    }\n",
              "\n",
              "    [theme=dark] .colab-df-convert {\n",
              "      background-color: #3B4455;\n",
              "      fill: #D2E3FC;\n",
              "    }\n",
              "\n",
              "    [theme=dark] .colab-df-convert:hover {\n",
              "      background-color: #434B5C;\n",
              "      box-shadow: 0px 1px 3px 1px rgba(0, 0, 0, 0.15);\n",
              "      filter: drop-shadow(0px 1px 2px rgba(0, 0, 0, 0.3));\n",
              "      fill: #FFFFFF;\n",
              "    }\n",
              "  </style>\n",
              "\n",
              "      <script>\n",
              "        const buttonEl =\n",
              "          document.querySelector('#df-8244b6aa-63e0-4e94-b9cd-0f3348fd7f2b button.colab-df-convert');\n",
              "        buttonEl.style.display =\n",
              "          google.colab.kernel.accessAllowed ? 'block' : 'none';\n",
              "\n",
              "        async function convertToInteractive(key) {\n",
              "          const element = document.querySelector('#df-8244b6aa-63e0-4e94-b9cd-0f3348fd7f2b');\n",
              "          const dataTable =\n",
              "            await google.colab.kernel.invokeFunction('convertToInteractive',\n",
              "                                                     [key], {});\n",
              "          if (!dataTable) return;\n",
              "\n",
              "          const docLinkHtml = 'Like what you see? Visit the ' +\n",
              "            '<a target=\"_blank\" href=https://colab.research.google.com/notebooks/data_table.ipynb>data table notebook</a>'\n",
              "            + ' to learn more about interactive tables.';\n",
              "          element.innerHTML = '';\n",
              "          dataTable['output_type'] = 'display_data';\n",
              "          await google.colab.output.renderOutput(dataTable, element);\n",
              "          const docLink = document.createElement('div');\n",
              "          docLink.innerHTML = docLinkHtml;\n",
              "          element.appendChild(docLink);\n",
              "        }\n",
              "      </script>\n",
              "    </div>\n",
              "  </div>\n",
              "  "
            ],
            "text/plain": [
              "                                            App  ...         Android Ver\n",
              "3692                  T-Mobile Visual Voicemail  ...  Varies with device\n",
              "9352  Fairy Kingdom: World of Magic and Farming  ...        4.0.3 and up\n",
              "5304                      BJ Bridge Free (2018)  ...          4.0 and up\n",
              "8413               El Pollo Loco - Loco Rewards  ...          4.1 and up\n",
              "7109                         The Zueira's Voice  ...        4.0.3 and up\n",
              "726                                    Ziggo GO  ...          4.3 and up\n",
              "5301                 BJ's Bingo & Gaming Casino  ...          4.3 and up\n",
              "4270             AJ Jump: Animal Jam Kangaroos!  ...          4.0 and up\n",
              "9222                             PBS KIDS Games  ...          4.4 and up\n",
              "5708                                    BS Play  ...          4.0 and up\n",
              "\n",
              "[10 rows x 13 columns]"
            ]
          },
          "metadata": {},
          "execution_count": 51
        }
      ]
    },
    {
      "cell_type": "markdown",
      "source": [
        "#**CHECKING**"
      ],
      "metadata": {
        "id": "V1amg0kB641C"
      }
    },
    {
      "cell_type": "code",
      "source": [
        "# Here we will replace null values with median in the rating column.\n",
        "median_val =round(play_store_df['Rating'].median(),2)\n",
        "\n",
        "#median_val\n",
        "play_store_df['Rating'].fillna(median_val,inplace=True)\n",
        "\n",
        "\n",
        "play_store_df['Current Ver'].fillna(play_store_df['Current Ver'].mode()[0],inplace=True)\n",
        "play_store_df['Android Ver'].fillna(play_store_df['Android Ver'].mode()[0],inplace=True)\n",
        "play_store_df['Content Rating'].fillna(play_store_df['Content Rating'].mode()[0],inplace = True)\n",
        "\n",
        "# Finding the mod values of column and replacing it null values.\n",
        "\n",
        "mode_val_type = play_store_df['Type'].mode()[0]\n",
        "mode_val_type"
      ],
      "metadata": {
        "colab": {
          "base_uri": "https://localhost:8080/",
          "height": 35
        },
        "id": "HQX0ELM6vxb8",
        "outputId": "551878f2-b882-444a-ace5-fbe8fa936ce1"
      },
      "execution_count": 23,
      "outputs": [
        {
          "output_type": "execute_result",
          "data": {
            "application/vnd.google.colaboratory.intrinsic+json": {
              "type": "string"
            },
            "text/plain": [
              "'Free'"
            ]
          },
          "metadata": {},
          "execution_count": 23
        }
      ]
    },
    {
      "cell_type": "code",
      "source": [
        "play_store_df['Type'].fillna(mode_val_type,inplace=True)"
      ],
      "metadata": {
        "id": "mhWboylcws5N"
      },
      "execution_count": 24,
      "outputs": []
    },
    {
      "cell_type": "code",
      "source": [
        "play_store_df.isnull().sum()"
      ],
      "metadata": {
        "colab": {
          "base_uri": "https://localhost:8080/"
        },
        "id": "_jx5nrPpxBUp",
        "outputId": "b05c952b-a6c8-49c0-af96-1442c6f88361"
      },
      "execution_count": 25,
      "outputs": [
        {
          "output_type": "execute_result",
          "data": {
            "text/plain": [
              "App               0\n",
              "Category          0\n",
              "Rating            0\n",
              "Reviews           0\n",
              "Size              0\n",
              "Installs          0\n",
              "Type              0\n",
              "Price             0\n",
              "Content Rating    0\n",
              "Genres            0\n",
              "Last Updated      0\n",
              "Current Ver       0\n",
              "Android Ver       0\n",
              "dtype: int64"
            ]
          },
          "metadata": {},
          "execution_count": 25
        }
      ]
    },
    {
      "cell_type": "code",
      "source": [
        "# Here you can notice the difference\n",
        "\n",
        "play_store_df.info()"
      ],
      "metadata": {
        "colab": {
          "base_uri": "https://localhost:8080/"
        },
        "id": "AoJbof28xHNd",
        "outputId": "2953ba9f-07c6-49d0-ca26-dc224688d70d"
      },
      "execution_count": 26,
      "outputs": [
        {
          "output_type": "stream",
          "name": "stdout",
          "text": [
            "<class 'pandas.core.frame.DataFrame'>\n",
            "RangeIndex: 9660 entries, 0 to 9659\n",
            "Data columns (total 13 columns):\n",
            " #   Column          Non-Null Count  Dtype  \n",
            "---  ------          --------------  -----  \n",
            " 0   App             9660 non-null   object \n",
            " 1   Category        9660 non-null   object \n",
            " 2   Rating          9660 non-null   float64\n",
            " 3   Reviews         9660 non-null   object \n",
            " 4   Size            9660 non-null   object \n",
            " 5   Installs        9660 non-null   object \n",
            " 6   Type            9660 non-null   object \n",
            " 7   Price           9660 non-null   object \n",
            " 8   Content Rating  9660 non-null   object \n",
            " 9   Genres          9660 non-null   object \n",
            " 10  Last Updated    9660 non-null   object \n",
            " 11  Current Ver     9660 non-null   object \n",
            " 12  Android Ver     9660 non-null   object \n",
            "dtypes: float64(1), object(12)\n",
            "memory usage: 981.2+ KB\n"
          ]
        }
      ]
    },
    {
      "cell_type": "markdown",
      "source": [
        "**Checking outliers**"
      ],
      "metadata": {
        "id": "yITirQRuxO8P"
      }
    },
    {
      "cell_type": "code",
      "source": [
        "play_store_df.boxplot(column='Rating')\n",
        "plt.grid(False)"
      ],
      "metadata": {
        "colab": {
          "base_uri": "https://localhost:8080/",
          "height": 265
        },
        "id": "l-ns6IYo-VFz",
        "outputId": "d2b3c97f-06bd-408b-de15-fcfb0a564b0e"
      },
      "execution_count": 68,
      "outputs": [
        {
          "output_type": "display_data",
          "data": {
            "image/png": "[encoded data removed]",
            "text/plain": [
              "<Figure size 432x288 with 1 Axes>"
            ]
          },
          "metadata": {
            "needs_background": "light"
          }
        }
      ]
    },
    {
      "cell_type": "code",
      "source": [
        ""
      ],
      "metadata": {
        "id": "1ff8y8NC_ipz"
      },
      "execution_count": null,
      "outputs": []
    }
  ]
}