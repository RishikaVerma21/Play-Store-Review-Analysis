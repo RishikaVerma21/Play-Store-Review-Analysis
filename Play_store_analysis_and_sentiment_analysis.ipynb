{
  "nbformat": 4,
  "nbformat_minor": 0,
  "metadata": {
    "colab": {
      "name": "Play store analysis and sentiment analysis.ipynb",
      "provenance": [],
      "collapsed_sections": [],
      "authorship_tag": "ABX9TyMdw6OizFbxTPDsqserajmn",
      "include_colab_link": true
    },
    "kernelspec": {
      "name": "python3",
      "display_name": "Python 3"
    },
    "language_info": {
      "name": "python"
    }
  },
  "cells": [
    {
      "cell_type": "markdown",
      "metadata": {
        "id": "view-in-github",
        "colab_type": "text"
      },
      "source": [
        "<a href=\"https://colab.research.google.com/github/RishikaVerma21/Play-Store-Review-Analysis/blob/main/Play_store_analysis_and_sentiment_analysis.ipynb\" target=\"_parent\"><img src=\"https://colab.research.google.com/assets/colab-badge.svg\" alt=\"Open In Colab\"/></a>"
      ]
    },
    {
      "cell_type": "markdown",
      "source": [
        "#**Introduction :**\n",
        "\n"
      ],
      "metadata": {
        "id": "x0yh8vFANk0B"
      }
    },
    {
      "cell_type": "markdown",
      "source": [
        " **Play store data:**\n",
        "\n",
        "*This contains data on the Google Play applications. It has 10,841 rows and 13 columns of data which has following columns:*"
      ],
      "metadata": {
        "id": "PWWO7fAxN9Tl"
      }
    },
    {
      "cell_type": "markdown",
      "source": [
        "**App:** The name of apps given\n",
        "\n",
        "**App Category:** This column tells us the category of the app. This could be beauty, business, medical,art and design entertainment, education...etc.\n",
        "\n",
        "**Rating:** This column tells us how much rating that app has got. Users rate the app out of 5, with 1 being the lowest rating and 5 being the highest.\n",
        "\n",
        "**Reviews:** This column tells us the number of user given reviews for each app.\n",
        "\n",
        "**Size:** This column tells us memory size needed to install the application.\n",
        "\n",
        "**Installs:** This column tells us the number of times each application has been installed by the users.\n",
        "\n",
        "**Type:** This column tells us whether the app is free or a paid app.\n",
        "\n",
        "**Price:** This column tells us the price of the app.\n",
        "\n",
        "**Content Rating:** This column tells us the audience for the app. They may be for teens, mature audience, etc\n",
        "\n",
        "**Genres:** This column intends sub-category for each app. \n",
        "\n",
        "**Last Updated:** This column tells us the release date of the  app.\n",
        "\n",
        "**Current Ver:** This column tells us the current version of app.\n",
        "\n",
        "**Android Ver:** This column tells us the oldest version of Android O/S supported by the app."
      ],
      "metadata": {
        "id": "ZE274sN1OQ4Z"
      }
    },
    {
      "cell_type": "markdown",
      "source": [
        "**User Reviews :**\n",
        "\n",
        "*This file contains the result of the sentiment analysis. This data contains 64,295 rows and 5 columns. What these columns says are given below*"
      ],
      "metadata": {
        "id": "yHkSgBauPg2M"
      }
    },
    {
      "cell_type": "markdown",
      "source": [
        "**App:** Name of the app.\n",
        "\n",
        "**Translated_Review:** This column tells us either the original review in english, or a translated version if the orignal review is in another language.\n",
        "\n",
        "**Sentiment:** This column tells us the result of the sentiment analysis conducted on a review and the value may be either Positive or Neutral or Negative.\n",
        "\n",
        "**Sentiment_Polarity:** This column tells us the value indicating the positivity or negativity of the sentiment. The values ranges from -1 (most negative) to 1 (most positive). The sentiment polarity of an element defines the orientation of the expressed sentiment, i.e. it tells us whether the text expresses positive, negative or neutral sentiment of the user about the entity in consideration.\n",
        "\n",
        "**Sentiment_Subjectivity:** This column tells us the value from 0 to 1 indicating the subjectivity of the review. Lower values indicate the review is based on factual information while the higher values indicate the review is based on personal or public opinions or judgements."
      ],
      "metadata": {
        "id": "sB67pmE8Qisg"
      }
    },
    {
      "cell_type": "code",
      "source": [
        "# Import the necessary modules\n",
        "\n",
        "import numpy as np\n",
        "import pandas as pd\n",
        "import matplotlib.pyplot as plt\n",
        "import seaborn as sns\n",
        "import datetime as dt\n",
        "import plotly.graph_objects as go\n",
        "from plotly.offline import init_notebook_mode, iplot\n",
        "init_notebook_mode(connected=True)\n",
        "\n",
        "import warnings\n",
        "warnings.filterwarnings(\"ignore\")"
      ],
      "metadata": {
        "colab": {
          "base_uri": "https://localhost:8080/",
          "height": 17
        },
        "id": "zMWM92qJ36-L",
        "outputId": "45664e23-72c5-4e87-ff85-3f5a44b259ea"
      },
      "execution_count": 51,
      "outputs": [
        {
          "output_type": "display_data",
          "data": {
            "text/html": [
              "        <script type=\"text/javascript\">\n",
              "        window.PlotlyConfig = {MathJaxConfig: 'local'};\n",
              "        if (window.MathJax) {MathJax.Hub.Config({SVG: {font: \"STIX-Web\"}});}\n",
              "        if (typeof require !== 'undefined') {\n",
              "        require.undef(\"plotly\");\n",
              "        requirejs.config({\n",
              "            paths: {\n",
              "                'plotly': ['https://cdn.plot.ly/plotly-2.8.3.min']\n",
              "            }\n",
              "        });\n",
              "        require(['plotly'], function(Plotly) {\n",
              "            window._Plotly = Plotly;\n",
              "        });\n",
              "        }\n",
              "        </script>\n",
              "        "
            ]
          },
          "metadata": {}
        }
      ]
    },
    {
      "cell_type": "code",
      "source": [
        "\n",
        "from matplotlib import pyplot as plt\n",
        "plt.style.use('ggplot')\n",
        "%matplotlib inline\n",
        "from matplotlib import rcParams     \n",
        "\n",
        "\n",
        "import seaborn as sns              # To make plots with seaborn\n",
        "color = sns.color_palette()\n",
        "\n",
        "import warnings\n",
        "warnings.filterwarnings('ignore')"
      ],
      "metadata": {
        "id": "G5T_TGFvYQWN"
      },
      "execution_count": 2,
      "outputs": []
    },
    {
      "cell_type": "markdown",
      "source": [
        "**Now we will import csv file**"
      ],
      "metadata": {
        "id": "iV5UygniaxZ4"
      }
    },
    {
      "cell_type": "code",
      "source": [
        "from google.colab import drive\n",
        "drive.mount('/content/drive')"
      ],
      "metadata": {
        "id": "RGRJQkMRa6g1",
        "colab": {
          "base_uri": "https://localhost:8080/"
        },
        "outputId": "e1f48309-69c7-4095-eba3-3c24cdd8984f"
      },
      "execution_count": 3,
      "outputs": [
        {
          "output_type": "stream",
          "name": "stdout",
          "text": [
            "Mounted at /content/drive\n"
          ]
        }
      ]
    },
    {
      "cell_type": "code",
      "source": [
        "path  = \"/content/drive/MyDrive/Capstone Projects/Project 1 : Play Store review analysis/\"\n",
        " \n",
        "play_store_df = pd.read_csv(path + \"Play Store Data.csv\")\n",
        "user_review_df = pd.read_csv(path + \"User Reviews.csv\")"
      ],
      "metadata": {
        "id": "Yyxv6cTNtj2R"
      },
      "execution_count": 4,
      "outputs": []
    },
    {
      "cell_type": "code",
      "source": [
        "# This gives us the information of our data set\n",
        "play_store_df.info() "
      ],
      "metadata": {
        "colab": {
          "base_uri": "https://localhost:8080/"
        },
        "id": "N_M6esGOxgWL",
        "outputId": "c24f5820-b851-4b0e-9198-528b9d64fd29"
      },
      "execution_count": 5,
      "outputs": [
        {
          "output_type": "stream",
          "name": "stdout",
          "text": [
            "<class 'pandas.core.frame.DataFrame'>\n",
            "RangeIndex: 10841 entries, 0 to 10840\n",
            "Data columns (total 13 columns):\n",
            " #   Column          Non-Null Count  Dtype  \n",
            "---  ------          --------------  -----  \n",
            " 0   App             10841 non-null  object \n",
            " 1   Category        10841 non-null  object \n",
            " 2   Rating          9367 non-null   float64\n",
            " 3   Reviews         10841 non-null  object \n",
            " 4   Size            10841 non-null  object \n",
            " 5   Installs        10841 non-null  object \n",
            " 6   Type            10840 non-null  object \n",
            " 7   Price           10841 non-null  object \n",
            " 8   Content Rating  10840 non-null  object \n",
            " 9   Genres          10841 non-null  object \n",
            " 10  Last Updated    10841 non-null  object \n",
            " 11  Current Ver     10833 non-null  object \n",
            " 12  Android Ver     10838 non-null  object \n",
            "dtypes: float64(1), object(12)\n",
            "memory usage: 1.1+ MB\n"
          ]
        }
      ]
    },
    {
      "cell_type": "code",
      "source": [
        "# This code will give first 5 rows of the data set\n",
        "play_store_df.sample(5) "
      ],
      "metadata": {
        "colab": {
          "base_uri": "https://localhost:8080/",
          "height": 372
        },
        "id": "ExPTHHEhxVb5",
        "outputId": "d2090006-e016-465f-81c1-ed57d40e8f8b"
      },
      "execution_count": 6,
      "outputs": [
        {
          "output_type": "execute_result",
          "data": {
            "text/html": [
              "\n",
              "  <div id=\"df-d3efed3e-c4d0-44f6-ab4a-62d08fd4395a\">\n",
              "    <div class=\"colab-df-container\">\n",
              "      <div>\n",
              "<style scoped>\n",
              "    .dataframe tbody tr th:only-of-type {\n",
              "        vertical-align: middle;\n",
              "    }\n",
              "\n",
              "    .dataframe tbody tr th {\n",
              "        vertical-align: top;\n",
              "    }\n",
              "\n",
              "    .dataframe thead th {\n",
              "        text-align: right;\n",
              "    }\n",
              "</style>\n",
              "<table border=\"1\" class=\"dataframe\">\n",
              "  <thead>\n",
              "    <tr style=\"text-align: right;\">\n",
              "      <th></th>\n",
              "      <th>App</th>\n",
              "      <th>Category</th>\n",
              "      <th>Rating</th>\n",
              "      <th>Reviews</th>\n",
              "      <th>Size</th>\n",
              "      <th>Installs</th>\n",
              "      <th>Type</th>\n",
              "      <th>Price</th>\n",
              "      <th>Content Rating</th>\n",
              "      <th>Genres</th>\n",
              "      <th>Last Updated</th>\n",
              "      <th>Current Ver</th>\n",
              "      <th>Android Ver</th>\n",
              "    </tr>\n",
              "  </thead>\n",
              "  <tbody>\n",
              "    <tr>\n",
              "      <th>848</th>\n",
              "      <td>SoloLearn: Learn to Code for Free</td>\n",
              "      <td>EDUCATION</td>\n",
              "      <td>4.8</td>\n",
              "      <td>256079</td>\n",
              "      <td>7.6M</td>\n",
              "      <td>1,000,000+</td>\n",
              "      <td>Free</td>\n",
              "      <td>0</td>\n",
              "      <td>Teen</td>\n",
              "      <td>Education</td>\n",
              "      <td>July 12, 2018</td>\n",
              "      <td>2.2.4</td>\n",
              "      <td>4.0.3 and up</td>\n",
              "    </tr>\n",
              "    <tr>\n",
              "      <th>182</th>\n",
              "      <td>Golden Dictionary (EN-AR)</td>\n",
              "      <td>BOOKS_AND_REFERENCE</td>\n",
              "      <td>4.4</td>\n",
              "      <td>51269</td>\n",
              "      <td>6.1M</td>\n",
              "      <td>1,000,000+</td>\n",
              "      <td>Free</td>\n",
              "      <td>0</td>\n",
              "      <td>Everyone</td>\n",
              "      <td>Books &amp; Reference</td>\n",
              "      <td>July 19, 2018</td>\n",
              "      <td>7.0.4.6</td>\n",
              "      <td>4.2 and up</td>\n",
              "    </tr>\n",
              "    <tr>\n",
              "      <th>3628</th>\n",
              "      <td>AccuWeather: Daily Forecast &amp; Live Weather Rep...</td>\n",
              "      <td>WEATHER</td>\n",
              "      <td>4.4</td>\n",
              "      <td>2053404</td>\n",
              "      <td>Varies with device</td>\n",
              "      <td>50,000,000+</td>\n",
              "      <td>Free</td>\n",
              "      <td>0</td>\n",
              "      <td>Everyone</td>\n",
              "      <td>Weather</td>\n",
              "      <td>August 6, 2018</td>\n",
              "      <td>Varies with device</td>\n",
              "      <td>Varies with device</td>\n",
              "    </tr>\n",
              "    <tr>\n",
              "      <th>10006</th>\n",
              "      <td>XCOM®: Enemy Within</td>\n",
              "      <td>FAMILY</td>\n",
              "      <td>4.2</td>\n",
              "      <td>13752</td>\n",
              "      <td>21M</td>\n",
              "      <td>100,000+</td>\n",
              "      <td>Paid</td>\n",
              "      <td>$9.99</td>\n",
              "      <td>Mature 17+</td>\n",
              "      <td>Strategy</td>\n",
              "      <td>October 24, 2017</td>\n",
              "      <td>1.7.0</td>\n",
              "      <td>4.0 and up</td>\n",
              "    </tr>\n",
              "    <tr>\n",
              "      <th>549</th>\n",
              "      <td>EliteSingles – Dating for Single Professionals</td>\n",
              "      <td>DATING</td>\n",
              "      <td>2.5</td>\n",
              "      <td>5377</td>\n",
              "      <td>19M</td>\n",
              "      <td>500,000+</td>\n",
              "      <td>Free</td>\n",
              "      <td>0</td>\n",
              "      <td>Mature 17+</td>\n",
              "      <td>Dating</td>\n",
              "      <td>July 31, 2018</td>\n",
              "      <td>4.8.5</td>\n",
              "      <td>4.0.3 and up</td>\n",
              "    </tr>\n",
              "  </tbody>\n",
              "</table>\n",
              "</div>\n",
              "      <button class=\"colab-df-convert\" onclick=\"convertToInteractive('df-d3efed3e-c4d0-44f6-ab4a-62d08fd4395a')\"\n",
              "              title=\"Convert this dataframe to an interactive table.\"\n",
              "              style=\"display:none;\">\n",
              "        \n",
              "  <svg xmlns=\"http://www.w3.org/2000/svg\" height=\"24px\"viewBox=\"0 0 24 24\"\n",
              "       width=\"24px\">\n",
              "    <path d=\"M0 0h24v24H0V0z\" fill=\"none\"/>\n",
              "    <path d=\"M18.56 5.44l.94 2.06.94-2.06 2.06-.94-2.06-.94-.94-2.06-.94 2.06-2.06.94zm-11 1L8.5 8.5l.94-2.06 2.06-.94-2.06-.94L8.5 2.5l-.94 2.06-2.06.94zm10 10l.94 2.06.94-2.06 2.06-.94-2.06-.94-.94-2.06-.94 2.06-2.06.94z\"/><path d=\"M17.41 7.96l-1.37-1.37c-.4-.4-.92-.59-1.43-.59-.52 0-1.04.2-1.43.59L10.3 9.45l-7.72 7.72c-.78.78-.78 2.05 0 2.83L4 21.41c.39.39.9.59 1.41.59.51 0 1.02-.2 1.41-.59l7.78-7.78 2.81-2.81c.8-.78.8-2.07 0-2.86zM5.41 20L4 18.59l7.72-7.72 1.47 1.35L5.41 20z\"/>\n",
              "  </svg>\n",
              "      </button>\n",
              "      \n",
              "  <style>\n",
              "    .colab-df-container {\n",
              "      display:flex;\n",
              "      flex-wrap:wrap;\n",
              "      gap: 12px;\n",
              "    }\n",
              "\n",
              "    .colab-df-convert {\n",
              "      background-color: #E8F0FE;\n",
              "      border: none;\n",
              "      border-radius: 50%;\n",
              "      cursor: pointer;\n",
              "      display: none;\n",
              "      fill: #1967D2;\n",
              "      height: 32px;\n",
              "      padding: 0 0 0 0;\n",
              "      width: 32px;\n",
              "    }\n",
              "\n",
              "    .colab-df-convert:hover {\n",
              "      background-color: #E2EBFA;\n",
              "      box-shadow: 0px 1px 2px rgba(60, 64, 67, 0.3), 0px 1px 3px 1px rgba(60, 64, 67, 0.15);\n",
              "      fill: #174EA6;\n",
              "    }\n",
              "\n",
              "    [theme=dark] .colab-df-convert {\n",
              "      background-color: #3B4455;\n",
              "      fill: #D2E3FC;\n",
              "    }\n",
              "\n",
              "    [theme=dark] .colab-df-convert:hover {\n",
              "      background-color: #434B5C;\n",
              "      box-shadow: 0px 1px 3px 1px rgba(0, 0, 0, 0.15);\n",
              "      filter: drop-shadow(0px 1px 2px rgba(0, 0, 0, 0.3));\n",
              "      fill: #FFFFFF;\n",
              "    }\n",
              "  </style>\n",
              "\n",
              "      <script>\n",
              "        const buttonEl =\n",
              "          document.querySelector('#df-d3efed3e-c4d0-44f6-ab4a-62d08fd4395a button.colab-df-convert');\n",
              "        buttonEl.style.display =\n",
              "          google.colab.kernel.accessAllowed ? 'block' : 'none';\n",
              "\n",
              "        async function convertToInteractive(key) {\n",
              "          const element = document.querySelector('#df-d3efed3e-c4d0-44f6-ab4a-62d08fd4395a');\n",
              "          const dataTable =\n",
              "            await google.colab.kernel.invokeFunction('convertToInteractive',\n",
              "                                                     [key], {});\n",
              "          if (!dataTable) return;\n",
              "\n",
              "          const docLinkHtml = 'Like what you see? Visit the ' +\n",
              "            '<a target=\"_blank\" href=https://colab.research.google.com/notebooks/data_table.ipynb>data table notebook</a>'\n",
              "            + ' to learn more about interactive tables.';\n",
              "          element.innerHTML = '';\n",
              "          dataTable['output_type'] = 'display_data';\n",
              "          await google.colab.output.renderOutput(dataTable, element);\n",
              "          const docLink = document.createElement('div');\n",
              "          docLink.innerHTML = docLinkHtml;\n",
              "          element.appendChild(docLink);\n",
              "        }\n",
              "      </script>\n",
              "    </div>\n",
              "  </div>\n",
              "  "
            ],
            "text/plain": [
              "                                                     App  ...         Android Ver\n",
              "848                    SoloLearn: Learn to Code for Free  ...        4.0.3 and up\n",
              "182                            Golden Dictionary (EN-AR)  ...          4.2 and up\n",
              "3628   AccuWeather: Daily Forecast & Live Weather Rep...  ...  Varies with device\n",
              "10006                                XCOM®: Enemy Within  ...          4.0 and up\n",
              "549       EliteSingles – Dating for Single Professionals  ...        4.0.3 and up\n",
              "\n",
              "[5 rows x 13 columns]"
            ]
          },
          "metadata": {},
          "execution_count": 6
        }
      ]
    },
    {
      "cell_type": "markdown",
      "source": [
        "**Let's Check the shape of data**"
      ],
      "metadata": {
        "id": "8ZKSNJupuXJ-"
      }
    },
    {
      "cell_type": "code",
      "source": [
        "print(play_store_df.shape)\n",
        "print(user_review_df.shape)"
      ],
      "metadata": {
        "colab": {
          "base_uri": "https://localhost:8080/"
        },
        "id": "_Tm20r_9uQqP",
        "outputId": "36ab091b-b883-496a-b89a-bb166a26f462"
      },
      "execution_count": 7,
      "outputs": [
        {
          "output_type": "stream",
          "name": "stdout",
          "text": [
            "(10841, 13)\n",
            "(64295, 5)\n"
          ]
        }
      ]
    },
    {
      "cell_type": "markdown",
      "source": [
        "#**DATA CLEANING**"
      ],
      "metadata": {
        "id": "DiYfDHx40rN1"
      }
    },
    {
      "cell_type": "code",
      "source": [
        "# First we need to find missing value in our data\n",
        "print('Missing value are as follows:')\n",
        "\n",
        "play_store_df.isnull().sum()"
      ],
      "metadata": {
        "colab": {
          "base_uri": "https://localhost:8080/"
        },
        "id": "54qAmMQnyWLg",
        "outputId": "2ba271d5-6c45-41a6-f355-c0f37359889f"
      },
      "execution_count": 8,
      "outputs": [
        {
          "output_type": "stream",
          "name": "stdout",
          "text": [
            "Missing value are as follows:\n"
          ]
        },
        {
          "output_type": "execute_result",
          "data": {
            "text/plain": [
              "App                  0\n",
              "Category             0\n",
              "Rating            1474\n",
              "Reviews              0\n",
              "Size                 0\n",
              "Installs             0\n",
              "Type                 1\n",
              "Price                0\n",
              "Content Rating       1\n",
              "Genres               0\n",
              "Last Updated         0\n",
              "Current Ver          8\n",
              "Android Ver          3\n",
              "dtype: int64"
            ]
          },
          "metadata": {},
          "execution_count": 8
        }
      ]
    },
    {
      "cell_type": "markdown",
      "source": [
        "**Drop NaNs and duplicates from existing dataframe**"
      ],
      "metadata": {
        "id": "QNCoa4u44fG9"
      }
    },
    {
      "cell_type": "code",
      "source": [
        "# Delete duplicates from App column.\n",
        "play_store_df.drop_duplicates(subset=['App'],keep='first', inplace=True, ignore_index=True)\n",
        "\n",
        "# check data remove or not\n",
        "play_store_df.columns"
      ],
      "metadata": {
        "colab": {
          "base_uri": "https://localhost:8080/"
        },
        "id": "J-u6r26a4cfu",
        "outputId": "5d04abce-5dce-48c5-8e2f-69a20681348f"
      },
      "execution_count": 9,
      "outputs": [
        {
          "output_type": "execute_result",
          "data": {
            "text/plain": [
              "Index(['App', 'Category', 'Rating', 'Reviews', 'Size', 'Installs', 'Type',\n",
              "       'Price', 'Content Rating', 'Genres', 'Last Updated', 'Current Ver',\n",
              "       'Android Ver'],\n",
              "      dtype='object')"
            ]
          },
          "metadata": {},
          "execution_count": 9
        }
      ]
    },
    {
      "cell_type": "code",
      "source": [
        "play_store_df.isnull().sum()"
      ],
      "metadata": {
        "colab": {
          "base_uri": "https://localhost:8080/"
        },
        "id": "5K7L6Dey5z2b",
        "outputId": "a9637fd4-c058-4cc8-e0ee-dfaefd7d4415"
      },
      "execution_count": 10,
      "outputs": [
        {
          "output_type": "execute_result",
          "data": {
            "text/plain": [
              "App                  0\n",
              "Category             0\n",
              "Rating            1463\n",
              "Reviews              0\n",
              "Size                 0\n",
              "Installs             0\n",
              "Type                 1\n",
              "Price                0\n",
              "Content Rating       1\n",
              "Genres               0\n",
              "Last Updated         0\n",
              "Current Ver          8\n",
              "Android Ver          3\n",
              "dtype: int64"
            ]
          },
          "metadata": {},
          "execution_count": 10
        }
      ]
    },
    {
      "cell_type": "code",
      "source": [
        "play_store_df.info()"
      ],
      "metadata": {
        "colab": {
          "base_uri": "https://localhost:8080/"
        },
        "id": "bhMQg8Y654xN",
        "outputId": "e7c10a0f-3c4f-4e5f-f60e-c5daf6f9786a"
      },
      "execution_count": 11,
      "outputs": [
        {
          "output_type": "stream",
          "name": "stdout",
          "text": [
            "<class 'pandas.core.frame.DataFrame'>\n",
            "RangeIndex: 9660 entries, 0 to 9659\n",
            "Data columns (total 13 columns):\n",
            " #   Column          Non-Null Count  Dtype  \n",
            "---  ------          --------------  -----  \n",
            " 0   App             9660 non-null   object \n",
            " 1   Category        9660 non-null   object \n",
            " 2   Rating          8197 non-null   float64\n",
            " 3   Reviews         9660 non-null   object \n",
            " 4   Size            9660 non-null   object \n",
            " 5   Installs        9660 non-null   object \n",
            " 6   Type            9659 non-null   object \n",
            " 7   Price           9660 non-null   object \n",
            " 8   Content Rating  9659 non-null   object \n",
            " 9   Genres          9660 non-null   object \n",
            " 10  Last Updated    9660 non-null   object \n",
            " 11  Current Ver     9652 non-null   object \n",
            " 12  Android Ver     9657 non-null   object \n",
            "dtypes: float64(1), object(12)\n",
            "memory usage: 981.2+ KB\n"
          ]
        }
      ]
    },
    {
      "cell_type": "code",
      "source": [
        "# This code will give first 10 rows of the data set\n",
        "play_store_df.sample(10) "
      ],
      "metadata": {
        "colab": {
          "base_uri": "https://localhost:8080/",
          "height": 633
        },
        "id": "ZTaMbPO61ycv",
        "outputId": "bc08fc03-6511-4f75-cd78-42baa7254be1"
      },
      "execution_count": 12,
      "outputs": [
        {
          "output_type": "execute_result",
          "data": {
            "text/html": [
              "\n",
              "  <div id=\"df-203d37e5-3b4c-4273-a4f0-2d9a437eabf7\">\n",
              "    <div class=\"colab-df-container\">\n",
              "      <div>\n",
              "<style scoped>\n",
              "    .dataframe tbody tr th:only-of-type {\n",
              "        vertical-align: middle;\n",
              "    }\n",
              "\n",
              "    .dataframe tbody tr th {\n",
              "        vertical-align: top;\n",
              "    }\n",
              "\n",
              "    .dataframe thead th {\n",
              "        text-align: right;\n",
              "    }\n",
              "</style>\n",
              "<table border=\"1\" class=\"dataframe\">\n",
              "  <thead>\n",
              "    <tr style=\"text-align: right;\">\n",
              "      <th></th>\n",
              "      <th>App</th>\n",
              "      <th>Category</th>\n",
              "      <th>Rating</th>\n",
              "      <th>Reviews</th>\n",
              "      <th>Size</th>\n",
              "      <th>Installs</th>\n",
              "      <th>Type</th>\n",
              "      <th>Price</th>\n",
              "      <th>Content Rating</th>\n",
              "      <th>Genres</th>\n",
              "      <th>Last Updated</th>\n",
              "      <th>Current Ver</th>\n",
              "      <th>Android Ver</th>\n",
              "    </tr>\n",
              "  </thead>\n",
              "  <tbody>\n",
              "    <tr>\n",
              "      <th>8215</th>\n",
              "      <td>Alipay</td>\n",
              "      <td>FINANCE</td>\n",
              "      <td>3.4</td>\n",
              "      <td>42497</td>\n",
              "      <td>61M</td>\n",
              "      <td>1,000,000+</td>\n",
              "      <td>Free</td>\n",
              "      <td>0</td>\n",
              "      <td>Teen</td>\n",
              "      <td>Finance</td>\n",
              "      <td>July 2, 2018</td>\n",
              "      <td>10.1.28.560</td>\n",
              "      <td>4.3 and up</td>\n",
              "    </tr>\n",
              "    <tr>\n",
              "      <th>6600</th>\n",
              "      <td>Holl &amp; Co Barbers</td>\n",
              "      <td>LIFESTYLE</td>\n",
              "      <td>4.7</td>\n",
              "      <td>12</td>\n",
              "      <td>6.0M</td>\n",
              "      <td>500+</td>\n",
              "      <td>Free</td>\n",
              "      <td>0</td>\n",
              "      <td>Everyone</td>\n",
              "      <td>Lifestyle</td>\n",
              "      <td>February 26, 2018</td>\n",
              "      <td>4.9.940</td>\n",
              "      <td>4.0 and up</td>\n",
              "    </tr>\n",
              "    <tr>\n",
              "      <th>3187</th>\n",
              "      <td>Community by C Space</td>\n",
              "      <td>LIFESTYLE</td>\n",
              "      <td>4.7</td>\n",
              "      <td>707</td>\n",
              "      <td>26M</td>\n",
              "      <td>5,000+</td>\n",
              "      <td>Free</td>\n",
              "      <td>0</td>\n",
              "      <td>Everyone</td>\n",
              "      <td>Lifestyle</td>\n",
              "      <td>July 17, 2018</td>\n",
              "      <td>2.2.0</td>\n",
              "      <td>4.4 and up</td>\n",
              "    </tr>\n",
              "    <tr>\n",
              "      <th>827</th>\n",
              "      <td>Mindvalley U Tallinn 2018</td>\n",
              "      <td>EVENTS</td>\n",
              "      <td>5.0</td>\n",
              "      <td>1</td>\n",
              "      <td>21M</td>\n",
              "      <td>100+</td>\n",
              "      <td>Free</td>\n",
              "      <td>0</td>\n",
              "      <td>Everyone</td>\n",
              "      <td>Events</td>\n",
              "      <td>July 3, 2018</td>\n",
              "      <td>1.0.5</td>\n",
              "      <td>4.4 and up</td>\n",
              "    </tr>\n",
              "    <tr>\n",
              "      <th>438</th>\n",
              "      <td>Free Dating &amp; Flirt Chat - Choice of Love</td>\n",
              "      <td>DATING</td>\n",
              "      <td>4.0</td>\n",
              "      <td>42194</td>\n",
              "      <td>Varies with device</td>\n",
              "      <td>5,000,000+</td>\n",
              "      <td>Free</td>\n",
              "      <td>0</td>\n",
              "      <td>Mature 17+</td>\n",
              "      <td>Dating</td>\n",
              "      <td>July 24, 2018</td>\n",
              "      <td>Varies with device</td>\n",
              "      <td>Varies with device</td>\n",
              "    </tr>\n",
              "    <tr>\n",
              "      <th>5914</th>\n",
              "      <td>Bx-WiFi-GI</td>\n",
              "      <td>VIDEO_PLAYERS</td>\n",
              "      <td>NaN</td>\n",
              "      <td>0</td>\n",
              "      <td>21M</td>\n",
              "      <td>100+</td>\n",
              "      <td>Free</td>\n",
              "      <td>0</td>\n",
              "      <td>Everyone</td>\n",
              "      <td>Video Players &amp; Editors</td>\n",
              "      <td>August 15, 2017</td>\n",
              "      <td>1.3.6</td>\n",
              "      <td>4.1 and up</td>\n",
              "    </tr>\n",
              "    <tr>\n",
              "      <th>1124</th>\n",
              "      <td>Period Tracker - Period Calendar Ovulation Tra...</td>\n",
              "      <td>HEALTH_AND_FITNESS</td>\n",
              "      <td>4.8</td>\n",
              "      <td>4559407</td>\n",
              "      <td>Varies with device</td>\n",
              "      <td>100,000,000+</td>\n",
              "      <td>Free</td>\n",
              "      <td>0</td>\n",
              "      <td>Everyone</td>\n",
              "      <td>Health &amp; Fitness</td>\n",
              "      <td>August 1, 2018</td>\n",
              "      <td>Varies with device</td>\n",
              "      <td>Varies with device</td>\n",
              "    </tr>\n",
              "    <tr>\n",
              "      <th>8866</th>\n",
              "      <td>No Pimple - Fun games</td>\n",
              "      <td>FAMILY</td>\n",
              "      <td>3.3</td>\n",
              "      <td>24091</td>\n",
              "      <td>16M</td>\n",
              "      <td>5,000,000+</td>\n",
              "      <td>Free</td>\n",
              "      <td>0</td>\n",
              "      <td>Teen</td>\n",
              "      <td>Casual</td>\n",
              "      <td>August 4, 2016</td>\n",
              "      <td>1.1.0</td>\n",
              "      <td>2.3 and up</td>\n",
              "    </tr>\n",
              "    <tr>\n",
              "      <th>4191</th>\n",
              "      <td>Denis Brogniart - AH 2 !</td>\n",
              "      <td>FAMILY</td>\n",
              "      <td>NaN</td>\n",
              "      <td>4</td>\n",
              "      <td>14M</td>\n",
              "      <td>100+</td>\n",
              "      <td>Free</td>\n",
              "      <td>0</td>\n",
              "      <td>Everyone</td>\n",
              "      <td>Entertainment</td>\n",
              "      <td>October 28, 2017</td>\n",
              "      <td>1.0</td>\n",
              "      <td>2.1 and up</td>\n",
              "    </tr>\n",
              "    <tr>\n",
              "      <th>5380</th>\n",
              "      <td>Baba Yaad Hai?(BK's)</td>\n",
              "      <td>FAMILY</td>\n",
              "      <td>4.8</td>\n",
              "      <td>160</td>\n",
              "      <td>13M</td>\n",
              "      <td>10,000+</td>\n",
              "      <td>Free</td>\n",
              "      <td>0</td>\n",
              "      <td>Everyone</td>\n",
              "      <td>Entertainment</td>\n",
              "      <td>March 5, 2017</td>\n",
              "      <td>1.3</td>\n",
              "      <td>2.3 and up</td>\n",
              "    </tr>\n",
              "  </tbody>\n",
              "</table>\n",
              "</div>\n",
              "      <button class=\"colab-df-convert\" onclick=\"convertToInteractive('df-203d37e5-3b4c-4273-a4f0-2d9a437eabf7')\"\n",
              "              title=\"Convert this dataframe to an interactive table.\"\n",
              "              style=\"display:none;\">\n",
              "        \n",
              "  <svg xmlns=\"http://www.w3.org/2000/svg\" height=\"24px\"viewBox=\"0 0 24 24\"\n",
              "       width=\"24px\">\n",
              "    <path d=\"M0 0h24v24H0V0z\" fill=\"none\"/>\n",
              "    <path d=\"M18.56 5.44l.94 2.06.94-2.06 2.06-.94-2.06-.94-.94-2.06-.94 2.06-2.06.94zm-11 1L8.5 8.5l.94-2.06 2.06-.94-2.06-.94L8.5 2.5l-.94 2.06-2.06.94zm10 10l.94 2.06.94-2.06 2.06-.94-2.06-.94-.94-2.06-.94 2.06-2.06.94z\"/><path d=\"M17.41 7.96l-1.37-1.37c-.4-.4-.92-.59-1.43-.59-.52 0-1.04.2-1.43.59L10.3 9.45l-7.72 7.72c-.78.78-.78 2.05 0 2.83L4 21.41c.39.39.9.59 1.41.59.51 0 1.02-.2 1.41-.59l7.78-7.78 2.81-2.81c.8-.78.8-2.07 0-2.86zM5.41 20L4 18.59l7.72-7.72 1.47 1.35L5.41 20z\"/>\n",
              "  </svg>\n",
              "      </button>\n",
              "      \n",
              "  <style>\n",
              "    .colab-df-container {\n",
              "      display:flex;\n",
              "      flex-wrap:wrap;\n",
              "      gap: 12px;\n",
              "    }\n",
              "\n",
              "    .colab-df-convert {\n",
              "      background-color: #E8F0FE;\n",
              "      border: none;\n",
              "      border-radius: 50%;\n",
              "      cursor: pointer;\n",
              "      display: none;\n",
              "      fill: #1967D2;\n",
              "      height: 32px;\n",
              "      padding: 0 0 0 0;\n",
              "      width: 32px;\n",
              "    }\n",
              "\n",
              "    .colab-df-convert:hover {\n",
              "      background-color: #E2EBFA;\n",
              "      box-shadow: 0px 1px 2px rgba(60, 64, 67, 0.3), 0px 1px 3px 1px rgba(60, 64, 67, 0.15);\n",
              "      fill: #174EA6;\n",
              "    }\n",
              "\n",
              "    [theme=dark] .colab-df-convert {\n",
              "      background-color: #3B4455;\n",
              "      fill: #D2E3FC;\n",
              "    }\n",
              "\n",
              "    [theme=dark] .colab-df-convert:hover {\n",
              "      background-color: #434B5C;\n",
              "      box-shadow: 0px 1px 3px 1px rgba(0, 0, 0, 0.15);\n",
              "      filter: drop-shadow(0px 1px 2px rgba(0, 0, 0, 0.3));\n",
              "      fill: #FFFFFF;\n",
              "    }\n",
              "  </style>\n",
              "\n",
              "      <script>\n",
              "        const buttonEl =\n",
              "          document.querySelector('#df-203d37e5-3b4c-4273-a4f0-2d9a437eabf7 button.colab-df-convert');\n",
              "        buttonEl.style.display =\n",
              "          google.colab.kernel.accessAllowed ? 'block' : 'none';\n",
              "\n",
              "        async function convertToInteractive(key) {\n",
              "          const element = document.querySelector('#df-203d37e5-3b4c-4273-a4f0-2d9a437eabf7');\n",
              "          const dataTable =\n",
              "            await google.colab.kernel.invokeFunction('convertToInteractive',\n",
              "                                                     [key], {});\n",
              "          if (!dataTable) return;\n",
              "\n",
              "          const docLinkHtml = 'Like what you see? Visit the ' +\n",
              "            '<a target=\"_blank\" href=https://colab.research.google.com/notebooks/data_table.ipynb>data table notebook</a>'\n",
              "            + ' to learn more about interactive tables.';\n",
              "          element.innerHTML = '';\n",
              "          dataTable['output_type'] = 'display_data';\n",
              "          await google.colab.output.renderOutput(dataTable, element);\n",
              "          const docLink = document.createElement('div');\n",
              "          docLink.innerHTML = docLinkHtml;\n",
              "          element.appendChild(docLink);\n",
              "        }\n",
              "      </script>\n",
              "    </div>\n",
              "  </div>\n",
              "  "
            ],
            "text/plain": [
              "                                                    App  ...         Android Ver\n",
              "8215                                             Alipay  ...          4.3 and up\n",
              "6600                                  Holl & Co Barbers  ...          4.0 and up\n",
              "3187                               Community by C Space  ...          4.4 and up\n",
              "827                           Mindvalley U Tallinn 2018  ...          4.4 and up\n",
              "438           Free Dating & Flirt Chat - Choice of Love  ...  Varies with device\n",
              "5914                                         Bx-WiFi-GI  ...          4.1 and up\n",
              "1124  Period Tracker - Period Calendar Ovulation Tra...  ...  Varies with device\n",
              "8866                              No Pimple - Fun games  ...          2.3 and up\n",
              "4191                           Denis Brogniart - AH 2 !  ...          2.1 and up\n",
              "5380                               Baba Yaad Hai?(BK's)  ...          2.3 and up\n",
              "\n",
              "[10 rows x 13 columns]"
            ]
          },
          "metadata": {},
          "execution_count": 12
        }
      ]
    },
    {
      "cell_type": "markdown",
      "source": [
        "#**CORRECTING DATA TYPE**"
      ],
      "metadata": {
        "id": "V1amg0kB641C"
      }
    },
    {
      "cell_type": "code",
      "source": [
        "# Here we will replace null values with median in the rating column.\n",
        "median_val =round(play_store_df['Rating'].median(),2)\n",
        "\n",
        "#median_val\n",
        "play_store_df['Rating'].fillna(median_val,inplace=True)\n",
        "\n",
        "\n",
        "play_store_df['Current Ver'].fillna(play_store_df['Current Ver'].mode()[0],inplace=True)\n",
        "play_store_df['Android Ver'].fillna(play_store_df['Android Ver'].mode()[0],inplace=True)\n",
        "play_store_df['Content Rating'].fillna(play_store_df['Content Rating'].mode()[0],inplace = True)\n",
        "\n",
        "# Finding the mod values of column and replacing it null values.\n",
        "\n",
        "mode_val_type = play_store_df['Type'].mode()[0]\n",
        "mode_val_type"
      ],
      "metadata": {
        "colab": {
          "base_uri": "https://localhost:8080/",
          "height": 35
        },
        "id": "HQX0ELM6vxb8",
        "outputId": "75b65d62-6bfc-483d-eff4-4df49031336b"
      },
      "execution_count": 13,
      "outputs": [
        {
          "output_type": "execute_result",
          "data": {
            "application/vnd.google.colaboratory.intrinsic+json": {
              "type": "string"
            },
            "text/plain": [
              "'Free'"
            ]
          },
          "metadata": {},
          "execution_count": 13
        }
      ]
    },
    {
      "cell_type": "code",
      "source": [
        "play_store_df['Type'].fillna(mode_val_type,inplace=True)"
      ],
      "metadata": {
        "id": "mhWboylcws5N"
      },
      "execution_count": 14,
      "outputs": []
    },
    {
      "cell_type": "code",
      "source": [
        "play_store_df.isnull().sum()"
      ],
      "metadata": {
        "colab": {
          "base_uri": "https://localhost:8080/"
        },
        "id": "_jx5nrPpxBUp",
        "outputId": "c5f682b3-3675-4b6f-ff8a-379c8acb57d9"
      },
      "execution_count": 15,
      "outputs": [
        {
          "output_type": "execute_result",
          "data": {
            "text/plain": [
              "App               0\n",
              "Category          0\n",
              "Rating            0\n",
              "Reviews           0\n",
              "Size              0\n",
              "Installs          0\n",
              "Type              0\n",
              "Price             0\n",
              "Content Rating    0\n",
              "Genres            0\n",
              "Last Updated      0\n",
              "Current Ver       0\n",
              "Android Ver       0\n",
              "dtype: int64"
            ]
          },
          "metadata": {},
          "execution_count": 15
        }
      ]
    },
    {
      "cell_type": "code",
      "source": [
        "# Here you can notice the difference\n",
        "\n",
        "play_store_df.info()"
      ],
      "metadata": {
        "colab": {
          "base_uri": "https://localhost:8080/"
        },
        "id": "AoJbof28xHNd",
        "outputId": "a1dc680c-164f-4cdc-a536-ee2cfa6a28d2"
      },
      "execution_count": 16,
      "outputs": [
        {
          "output_type": "stream",
          "name": "stdout",
          "text": [
            "<class 'pandas.core.frame.DataFrame'>\n",
            "RangeIndex: 9660 entries, 0 to 9659\n",
            "Data columns (total 13 columns):\n",
            " #   Column          Non-Null Count  Dtype  \n",
            "---  ------          --------------  -----  \n",
            " 0   App             9660 non-null   object \n",
            " 1   Category        9660 non-null   object \n",
            " 2   Rating          9660 non-null   float64\n",
            " 3   Reviews         9660 non-null   object \n",
            " 4   Size            9660 non-null   object \n",
            " 5   Installs        9660 non-null   object \n",
            " 6   Type            9660 non-null   object \n",
            " 7   Price           9660 non-null   object \n",
            " 8   Content Rating  9660 non-null   object \n",
            " 9   Genres          9660 non-null   object \n",
            " 10  Last Updated    9660 non-null   object \n",
            " 11  Current Ver     9660 non-null   object \n",
            " 12  Android Ver     9660 non-null   object \n",
            "dtypes: float64(1), object(12)\n",
            "memory usage: 981.2+ KB\n"
          ]
        }
      ]
    },
    {
      "cell_type": "markdown",
      "source": [
        "**Checking outliers**"
      ],
      "metadata": {
        "id": "yITirQRuxO8P"
      }
    },
    {
      "cell_type": "code",
      "source": [
        "play_store_df[play_store_df.Rating<1]"
      ],
      "metadata": {
        "colab": {
          "base_uri": "https://localhost:8080/",
          "height": 49
        },
        "id": "mSeyxsOd44Mp",
        "outputId": "f8febda8-0538-446c-d71a-267851ee6039"
      },
      "execution_count": 23,
      "outputs": [
        {
          "output_type": "execute_result",
          "data": {
            "text/html": [
              "\n",
              "  <div id=\"df-6331ef7b-729d-460f-9ab7-96de63a9d2d0\">\n",
              "    <div class=\"colab-df-container\">\n",
              "      <div>\n",
              "<style scoped>\n",
              "    .dataframe tbody tr th:only-of-type {\n",
              "        vertical-align: middle;\n",
              "    }\n",
              "\n",
              "    .dataframe tbody tr th {\n",
              "        vertical-align: top;\n",
              "    }\n",
              "\n",
              "    .dataframe thead th {\n",
              "        text-align: right;\n",
              "    }\n",
              "</style>\n",
              "<table border=\"1\" class=\"dataframe\">\n",
              "  <thead>\n",
              "    <tr style=\"text-align: right;\">\n",
              "      <th></th>\n",
              "      <th>App</th>\n",
              "      <th>Category</th>\n",
              "      <th>Rating</th>\n",
              "      <th>Reviews</th>\n",
              "      <th>Size</th>\n",
              "      <th>Installs</th>\n",
              "      <th>Type</th>\n",
              "      <th>Price</th>\n",
              "      <th>Content_Rating</th>\n",
              "      <th>Genres</th>\n",
              "      <th>Last_Updated</th>\n",
              "      <th>Current_Ver</th>\n",
              "      <th>Android_Ver</th>\n",
              "    </tr>\n",
              "  </thead>\n",
              "  <tbody>\n",
              "  </tbody>\n",
              "</table>\n",
              "</div>\n",
              "      <button class=\"colab-df-convert\" onclick=\"convertToInteractive('df-6331ef7b-729d-460f-9ab7-96de63a9d2d0')\"\n",
              "              title=\"Convert this dataframe to an interactive table.\"\n",
              "              style=\"display:none;\">\n",
              "        \n",
              "  <svg xmlns=\"http://www.w3.org/2000/svg\" height=\"24px\"viewBox=\"0 0 24 24\"\n",
              "       width=\"24px\">\n",
              "    <path d=\"M0 0h24v24H0V0z\" fill=\"none\"/>\n",
              "    <path d=\"M18.56 5.44l.94 2.06.94-2.06 2.06-.94-2.06-.94-.94-2.06-.94 2.06-2.06.94zm-11 1L8.5 8.5l.94-2.06 2.06-.94-2.06-.94L8.5 2.5l-.94 2.06-2.06.94zm10 10l.94 2.06.94-2.06 2.06-.94-2.06-.94-.94-2.06-.94 2.06-2.06.94z\"/><path d=\"M17.41 7.96l-1.37-1.37c-.4-.4-.92-.59-1.43-.59-.52 0-1.04.2-1.43.59L10.3 9.45l-7.72 7.72c-.78.78-.78 2.05 0 2.83L4 21.41c.39.39.9.59 1.41.59.51 0 1.02-.2 1.41-.59l7.78-7.78 2.81-2.81c.8-.78.8-2.07 0-2.86zM5.41 20L4 18.59l7.72-7.72 1.47 1.35L5.41 20z\"/>\n",
              "  </svg>\n",
              "      </button>\n",
              "      \n",
              "  <style>\n",
              "    .colab-df-container {\n",
              "      display:flex;\n",
              "      flex-wrap:wrap;\n",
              "      gap: 12px;\n",
              "    }\n",
              "\n",
              "    .colab-df-convert {\n",
              "      background-color: #E8F0FE;\n",
              "      border: none;\n",
              "      border-radius: 50%;\n",
              "      cursor: pointer;\n",
              "      display: none;\n",
              "      fill: #1967D2;\n",
              "      height: 32px;\n",
              "      padding: 0 0 0 0;\n",
              "      width: 32px;\n",
              "    }\n",
              "\n",
              "    .colab-df-convert:hover {\n",
              "      background-color: #E2EBFA;\n",
              "      box-shadow: 0px 1px 2px rgba(60, 64, 67, 0.3), 0px 1px 3px 1px rgba(60, 64, 67, 0.15);\n",
              "      fill: #174EA6;\n",
              "    }\n",
              "\n",
              "    [theme=dark] .colab-df-convert {\n",
              "      background-color: #3B4455;\n",
              "      fill: #D2E3FC;\n",
              "    }\n",
              "\n",
              "    [theme=dark] .colab-df-convert:hover {\n",
              "      background-color: #434B5C;\n",
              "      box-shadow: 0px 1px 3px 1px rgba(0, 0, 0, 0.15);\n",
              "      filter: drop-shadow(0px 1px 2px rgba(0, 0, 0, 0.3));\n",
              "      fill: #FFFFFF;\n",
              "    }\n",
              "  </style>\n",
              "\n",
              "      <script>\n",
              "        const buttonEl =\n",
              "          document.querySelector('#df-6331ef7b-729d-460f-9ab7-96de63a9d2d0 button.colab-df-convert');\n",
              "        buttonEl.style.display =\n",
              "          google.colab.kernel.accessAllowed ? 'block' : 'none';\n",
              "\n",
              "        async function convertToInteractive(key) {\n",
              "          const element = document.querySelector('#df-6331ef7b-729d-460f-9ab7-96de63a9d2d0');\n",
              "          const dataTable =\n",
              "            await google.colab.kernel.invokeFunction('convertToInteractive',\n",
              "                                                     [key], {});\n",
              "          if (!dataTable) return;\n",
              "\n",
              "          const docLinkHtml = 'Like what you see? Visit the ' +\n",
              "            '<a target=\"_blank\" href=https://colab.research.google.com/notebooks/data_table.ipynb>data table notebook</a>'\n",
              "            + ' to learn more about interactive tables.';\n",
              "          element.innerHTML = '';\n",
              "          dataTable['output_type'] = 'display_data';\n",
              "          await google.colab.output.renderOutput(dataTable, element);\n",
              "          const docLink = document.createElement('div');\n",
              "          docLink.innerHTML = docLinkHtml;\n",
              "          element.appendChild(docLink);\n",
              "        }\n",
              "      </script>\n",
              "    </div>\n",
              "  </div>\n",
              "  "
            ],
            "text/plain": [
              "Empty DataFrame\n",
              "Columns: [App, Category, Rating, Reviews, Size, Installs, Type, Price, Content_Rating, Genres, Last_Updated, Current_Ver, Android_Ver]\n",
              "Index: []"
            ]
          },
          "metadata": {},
          "execution_count": 23
        }
      ]
    },
    {
      "cell_type": "code",
      "source": [
        "play_store_df[play_store_df['Rating']>5]"
      ],
      "metadata": {
        "colab": {
          "base_uri": "https://localhost:8080/",
          "height": 142
        },
        "id": "8fDF0Txf45Yd",
        "outputId": "14d59747-90d6-4f31-f14e-98cfb16dbf7a"
      },
      "execution_count": 24,
      "outputs": [
        {
          "output_type": "execute_result",
          "data": {
            "text/html": [
              "\n",
              "  <div id=\"df-13ac39f2-3d14-4437-a5bf-14a50b6c988d\">\n",
              "    <div class=\"colab-df-container\">\n",
              "      <div>\n",
              "<style scoped>\n",
              "    .dataframe tbody tr th:only-of-type {\n",
              "        vertical-align: middle;\n",
              "    }\n",
              "\n",
              "    .dataframe tbody tr th {\n",
              "        vertical-align: top;\n",
              "    }\n",
              "\n",
              "    .dataframe thead th {\n",
              "        text-align: right;\n",
              "    }\n",
              "</style>\n",
              "<table border=\"1\" class=\"dataframe\">\n",
              "  <thead>\n",
              "    <tr style=\"text-align: right;\">\n",
              "      <th></th>\n",
              "      <th>App</th>\n",
              "      <th>Category</th>\n",
              "      <th>Rating</th>\n",
              "      <th>Reviews</th>\n",
              "      <th>Size</th>\n",
              "      <th>Installs</th>\n",
              "      <th>Type</th>\n",
              "      <th>Price</th>\n",
              "      <th>Content_Rating</th>\n",
              "      <th>Genres</th>\n",
              "      <th>Last_Updated</th>\n",
              "      <th>Current_Ver</th>\n",
              "      <th>Android_Ver</th>\n",
              "    </tr>\n",
              "  </thead>\n",
              "  <tbody>\n",
              "    <tr>\n",
              "      <th>9300</th>\n",
              "      <td>Life Made WI-Fi Touchscreen Photo Frame</td>\n",
              "      <td>1.9</td>\n",
              "      <td>19.0</td>\n",
              "      <td>NaN</td>\n",
              "      <td>1,000+</td>\n",
              "      <td>Free</td>\n",
              "      <td>0</td>\n",
              "      <td>NaN</td>\n",
              "      <td>Everyone</td>\n",
              "      <td>February 11, 2018</td>\n",
              "      <td>1.0.19</td>\n",
              "      <td>4.0 and up</td>\n",
              "      <td>4.1 and up</td>\n",
              "    </tr>\n",
              "  </tbody>\n",
              "</table>\n",
              "</div>\n",
              "      <button class=\"colab-df-convert\" onclick=\"convertToInteractive('df-13ac39f2-3d14-4437-a5bf-14a50b6c988d')\"\n",
              "              title=\"Convert this dataframe to an interactive table.\"\n",
              "              style=\"display:none;\">\n",
              "        \n",
              "  <svg xmlns=\"http://www.w3.org/2000/svg\" height=\"24px\"viewBox=\"0 0 24 24\"\n",
              "       width=\"24px\">\n",
              "    <path d=\"M0 0h24v24H0V0z\" fill=\"none\"/>\n",
              "    <path d=\"M18.56 5.44l.94 2.06.94-2.06 2.06-.94-2.06-.94-.94-2.06-.94 2.06-2.06.94zm-11 1L8.5 8.5l.94-2.06 2.06-.94-2.06-.94L8.5 2.5l-.94 2.06-2.06.94zm10 10l.94 2.06.94-2.06 2.06-.94-2.06-.94-.94-2.06-.94 2.06-2.06.94z\"/><path d=\"M17.41 7.96l-1.37-1.37c-.4-.4-.92-.59-1.43-.59-.52 0-1.04.2-1.43.59L10.3 9.45l-7.72 7.72c-.78.78-.78 2.05 0 2.83L4 21.41c.39.39.9.59 1.41.59.51 0 1.02-.2 1.41-.59l7.78-7.78 2.81-2.81c.8-.78.8-2.07 0-2.86zM5.41 20L4 18.59l7.72-7.72 1.47 1.35L5.41 20z\"/>\n",
              "  </svg>\n",
              "      </button>\n",
              "      \n",
              "  <style>\n",
              "    .colab-df-container {\n",
              "      display:flex;\n",
              "      flex-wrap:wrap;\n",
              "      gap: 12px;\n",
              "    }\n",
              "\n",
              "    .colab-df-convert {\n",
              "      background-color: #E8F0FE;\n",
              "      border: none;\n",
              "      border-radius: 50%;\n",
              "      cursor: pointer;\n",
              "      display: none;\n",
              "      fill: #1967D2;\n",
              "      height: 32px;\n",
              "      padding: 0 0 0 0;\n",
              "      width: 32px;\n",
              "    }\n",
              "\n",
              "    .colab-df-convert:hover {\n",
              "      background-color: #E2EBFA;\n",
              "      box-shadow: 0px 1px 2px rgba(60, 64, 67, 0.3), 0px 1px 3px 1px rgba(60, 64, 67, 0.15);\n",
              "      fill: #174EA6;\n",
              "    }\n",
              "\n",
              "    [theme=dark] .colab-df-convert {\n",
              "      background-color: #3B4455;\n",
              "      fill: #D2E3FC;\n",
              "    }\n",
              "\n",
              "    [theme=dark] .colab-df-convert:hover {\n",
              "      background-color: #434B5C;\n",
              "      box-shadow: 0px 1px 3px 1px rgba(0, 0, 0, 0.15);\n",
              "      filter: drop-shadow(0px 1px 2px rgba(0, 0, 0, 0.3));\n",
              "      fill: #FFFFFF;\n",
              "    }\n",
              "  </style>\n",
              "\n",
              "      <script>\n",
              "        const buttonEl =\n",
              "          document.querySelector('#df-13ac39f2-3d14-4437-a5bf-14a50b6c988d button.colab-df-convert');\n",
              "        buttonEl.style.display =\n",
              "          google.colab.kernel.accessAllowed ? 'block' : 'none';\n",
              "\n",
              "        async function convertToInteractive(key) {\n",
              "          const element = document.querySelector('#df-13ac39f2-3d14-4437-a5bf-14a50b6c988d');\n",
              "          const dataTable =\n",
              "            await google.colab.kernel.invokeFunction('convertToInteractive',\n",
              "                                                     [key], {});\n",
              "          if (!dataTable) return;\n",
              "\n",
              "          const docLinkHtml = 'Like what you see? Visit the ' +\n",
              "            '<a target=\"_blank\" href=https://colab.research.google.com/notebooks/data_table.ipynb>data table notebook</a>'\n",
              "            + ' to learn more about interactive tables.';\n",
              "          element.innerHTML = '';\n",
              "          dataTable['output_type'] = 'display_data';\n",
              "          await google.colab.output.renderOutput(dataTable, element);\n",
              "          const docLink = document.createElement('div');\n",
              "          docLink.innerHTML = docLinkHtml;\n",
              "          element.appendChild(docLink);\n",
              "        }\n",
              "      </script>\n",
              "    </div>\n",
              "  </div>\n",
              "  "
            ],
            "text/plain": [
              "                                          App Category  ...  Current_Ver  Android_Ver\n",
              "9300  Life Made WI-Fi Touchscreen Photo Frame      1.9  ...   4.0 and up   4.1 and up\n",
              "\n",
              "[1 rows x 13 columns]"
            ]
          },
          "metadata": {},
          "execution_count": 24
        }
      ]
    },
    {
      "cell_type": "code",
      "source": [
        "# Here we will drop record rating >5\n",
        "play_store_df.drop([9300],inplace=True)  "
      ],
      "metadata": {
        "id": "n2UM4aeX5O__"
      },
      "execution_count": 25,
      "outputs": []
    },
    {
      "cell_type": "code",
      "source": [
        "play_store_df.boxplot(column='Rating')\n",
        "plt.grid(False)"
      ],
      "metadata": {
        "colab": {
          "base_uri": "https://localhost:8080/",
          "height": 265
        },
        "id": "l-ns6IYo-VFz",
        "outputId": "046b6e27-8a4f-46b7-9cf6-45edb661afac"
      },
      "execution_count": 26,
      "outputs": [
        {
          "output_type": "display_data",
          "data": {
            "image/png": "[encoded data removed]",
            "text/plain": [
              "<Figure size 432x288 with 1 Axes>"
            ]
          },
          "metadata": {
            "needs_background": "light"
          }
        }
      ]
    },
    {
      "cell_type": "markdown",
      "source": [
        "Here it is  showing there is no rating present below 1 and above 5"
      ],
      "metadata": {
        "id": "jAx6Sx3K5ihG"
      }
    },
    {
      "cell_type": "code",
      "source": [
        "play_store_df.columns=[each.replace(\" \",\"_\") for each in play_store_df.columns]"
      ],
      "metadata": {
        "id": "1ff8y8NC_ipz"
      },
      "execution_count": 34,
      "outputs": []
    },
    {
      "cell_type": "code",
      "source": [
        "play_store_df.columns"
      ],
      "metadata": {
        "colab": {
          "base_uri": "https://localhost:8080/"
        },
        "id": "Ll8oAoX63pVt",
        "outputId": "6b6b8746-0fee-4f94-eb8d-8dc3777038b6"
      },
      "execution_count": 35,
      "outputs": [
        {
          "output_type": "execute_result",
          "data": {
            "text/plain": [
              "Index(['App', 'Category', 'Rating', 'Reviews', 'Size', 'Installs', 'Type',\n",
              "       'Price', 'Content_Rating', 'Genres', 'Last_Updated', 'Current_Ver',\n",
              "       'Android_Ver'],\n",
              "      dtype='object')"
            ]
          },
          "metadata": {},
          "execution_count": 35
        }
      ]
    },
    {
      "cell_type": "code",
      "source": [
        "\n",
        "# remove '+' and ',' in Installs column\n",
        "\n",
        "play_store_df['Installs']=play_store_df['Installs'].apply(lambda x: x.replace('+','') if '+' in str(x) else x)\n",
        "play_store_df['Installs']=play_store_df['Installs'].apply(lambda x: x.replace(',','') if ',' in str(x) else x)\n",
        "\n",
        "play_store_df = play_store_df[~(play_store_df['Installs'] == \"Free\")].reset_index(drop=True)  #drop  Free from Installs column\n",
        "\n",
        "play_store_df['Installs']=play_store_df['Installs'].apply(lambda x: int(x)) # convert to int\n",
        "\n",
        "# Remove '$' from Price column and change to float type\n",
        "play_store_df['Price']=play_store_df['Price'].apply(lambda x: x.replace('$','') if '$' in str(x) else x)\n",
        "play_store_df['Price']=play_store_df['Price'].apply(lambda x: float(x))\n",
        "\n",
        "play_store_df = play_store_df[~(play_store_df['Price'] == \"Everyone\")].reset_index(drop=True)  #drop 'Everyone from Price column"
      ],
      "metadata": {
        "id": "IFMYXeQS38fe"
      },
      "execution_count": 40,
      "outputs": []
    },
    {
      "cell_type": "code",
      "source": [
        "play_store_df = play_store_df[~(play_store_df['Size'] == \"Varies with device\")].reset_index(drop=True)"
      ],
      "metadata": {
        "id": "ZRkZAJI44Lsc"
      },
      "execution_count": 41,
      "outputs": []
    },
    {
      "cell_type": "code",
      "source": [
        "play_store_df['Size']=play_store_df['Size'].apply(lambda x: str(x).replace('M','').replace('+','').replace(',','') if 'M' in str(x) else x)\n",
        "\n",
        "# Here we need to convert kb to Mb formula Mb=kb/1024\n",
        "\n",
        "play_store_df['Size']=play_store_df['Size'].apply(lambda x: float(str(x).replace('k',''))/1024 if 'k' in str(x) else x)\n",
        "\n",
        "# Now we will change datatype with respect to their data\n",
        "play_store_df['Size']=play_store_df['Size'].astype(float)\n",
        "play_store_df['Reviews']=play_store_df['Reviews'].astype(int)"
      ],
      "metadata": {
        "id": "iX7_rpoH4WgV"
      },
      "execution_count": 43,
      "outputs": []
    },
    {
      "cell_type": "code",
      "source": [
        "play_store_df.loc[play_store_df['Reviews']>play_store_df['Installs']]"
      ],
      "metadata": {
        "colab": {
          "base_uri": "https://localhost:8080/",
          "height": 528
        },
        "id": "eLU7KS-v-CvO",
        "outputId": "39573789-5d91-454c-f188-946384b2007e"
      },
      "execution_count": 46,
      "outputs": [
        {
          "output_type": "execute_result",
          "data": {
            "text/html": [
              "\n",
              "  <div id=\"df-f6195d84-3b78-4b27-bcac-220213bd8f5e\">\n",
              "    <div class=\"colab-df-container\">\n",
              "      <div>\n",
              "<style scoped>\n",
              "    .dataframe tbody tr th:only-of-type {\n",
              "        vertical-align: middle;\n",
              "    }\n",
              "\n",
              "    .dataframe tbody tr th {\n",
              "        vertical-align: top;\n",
              "    }\n",
              "\n",
              "    .dataframe thead th {\n",
              "        text-align: right;\n",
              "    }\n",
              "</style>\n",
              "<table border=\"1\" class=\"dataframe\">\n",
              "  <thead>\n",
              "    <tr style=\"text-align: right;\">\n",
              "      <th></th>\n",
              "      <th>App</th>\n",
              "      <th>Category</th>\n",
              "      <th>Rating</th>\n",
              "      <th>Reviews</th>\n",
              "      <th>Size</th>\n",
              "      <th>Installs</th>\n",
              "      <th>Type</th>\n",
              "      <th>Price</th>\n",
              "      <th>Content_Rating</th>\n",
              "      <th>Genres</th>\n",
              "      <th>Last_Updated</th>\n",
              "      <th>Current_Ver</th>\n",
              "      <th>Android_Ver</th>\n",
              "    </tr>\n",
              "  </thead>\n",
              "  <tbody>\n",
              "    <tr>\n",
              "      <th>1546</th>\n",
              "      <td>KBA-EZ Health Guide</td>\n",
              "      <td>MEDICAL</td>\n",
              "      <td>5.0</td>\n",
              "      <td>4</td>\n",
              "      <td>25.000000</td>\n",
              "      <td>1</td>\n",
              "      <td>Free</td>\n",
              "      <td>0.00</td>\n",
              "      <td>Everyone</td>\n",
              "      <td>Medical</td>\n",
              "      <td>August 2, 2018</td>\n",
              "      <td>1.0.72</td>\n",
              "      <td>4.0.3 and up</td>\n",
              "    </tr>\n",
              "    <tr>\n",
              "      <th>2836</th>\n",
              "      <td>RMEduS - 음성인식을 활용한 R 프로그래밍 실습 시스템</td>\n",
              "      <td>FAMILY</td>\n",
              "      <td>4.3</td>\n",
              "      <td>4</td>\n",
              "      <td>64.000000</td>\n",
              "      <td>1</td>\n",
              "      <td>Free</td>\n",
              "      <td>0.00</td>\n",
              "      <td>Everyone</td>\n",
              "      <td>Education</td>\n",
              "      <td>July 17, 2018</td>\n",
              "      <td>1.0.1</td>\n",
              "      <td>4.4 and up</td>\n",
              "    </tr>\n",
              "    <tr>\n",
              "      <th>3904</th>\n",
              "      <td>AX Watch for WatchMaker</td>\n",
              "      <td>PERSONALIZATION</td>\n",
              "      <td>4.3</td>\n",
              "      <td>2</td>\n",
              "      <td>0.232422</td>\n",
              "      <td>1</td>\n",
              "      <td>Paid</td>\n",
              "      <td>0.99</td>\n",
              "      <td>Everyone</td>\n",
              "      <td>Personalization</td>\n",
              "      <td>August 18, 2017</td>\n",
              "      <td>1.0</td>\n",
              "      <td>2.3 and up</td>\n",
              "    </tr>\n",
              "    <tr>\n",
              "      <th>3999</th>\n",
              "      <td>Ra Ga Ba</td>\n",
              "      <td>GAME</td>\n",
              "      <td>5.0</td>\n",
              "      <td>2</td>\n",
              "      <td>20.000000</td>\n",
              "      <td>1</td>\n",
              "      <td>Paid</td>\n",
              "      <td>1.49</td>\n",
              "      <td>Everyone</td>\n",
              "      <td>Arcade</td>\n",
              "      <td>February 8, 2017</td>\n",
              "      <td>1.0.4</td>\n",
              "      <td>2.3 and up</td>\n",
              "    </tr>\n",
              "    <tr>\n",
              "      <th>4530</th>\n",
              "      <td>Sam.BN Pro</td>\n",
              "      <td>TOOLS</td>\n",
              "      <td>4.3</td>\n",
              "      <td>11</td>\n",
              "      <td>2.000000</td>\n",
              "      <td>10</td>\n",
              "      <td>Paid</td>\n",
              "      <td>0.99</td>\n",
              "      <td>Everyone</td>\n",
              "      <td>Tools</td>\n",
              "      <td>March 27, 2015</td>\n",
              "      <td>1.0.0</td>\n",
              "      <td>4.0.3 and up</td>\n",
              "    </tr>\n",
              "    <tr>\n",
              "      <th>4692</th>\n",
              "      <td>Brick Breaker BR</td>\n",
              "      <td>GAME</td>\n",
              "      <td>5.0</td>\n",
              "      <td>7</td>\n",
              "      <td>19.000000</td>\n",
              "      <td>5</td>\n",
              "      <td>Free</td>\n",
              "      <td>0.00</td>\n",
              "      <td>Everyone</td>\n",
              "      <td>Arcade</td>\n",
              "      <td>July 23, 2018</td>\n",
              "      <td>1.0</td>\n",
              "      <td>4.1 and up</td>\n",
              "    </tr>\n",
              "    <tr>\n",
              "      <th>5337</th>\n",
              "      <td>Trovami se ci riesci</td>\n",
              "      <td>GAME</td>\n",
              "      <td>5.0</td>\n",
              "      <td>11</td>\n",
              "      <td>6.100000</td>\n",
              "      <td>10</td>\n",
              "      <td>Free</td>\n",
              "      <td>0.00</td>\n",
              "      <td>Everyone</td>\n",
              "      <td>Arcade</td>\n",
              "      <td>March 11, 2017</td>\n",
              "      <td>0.1</td>\n",
              "      <td>2.3 and up</td>\n",
              "    </tr>\n",
              "    <tr>\n",
              "      <th>6415</th>\n",
              "      <td>DN Blog</td>\n",
              "      <td>SOCIAL</td>\n",
              "      <td>5.0</td>\n",
              "      <td>20</td>\n",
              "      <td>4.200000</td>\n",
              "      <td>10</td>\n",
              "      <td>Free</td>\n",
              "      <td>0.00</td>\n",
              "      <td>Teen</td>\n",
              "      <td>Social</td>\n",
              "      <td>July 23, 2018</td>\n",
              "      <td>1.0</td>\n",
              "      <td>4.0 and up</td>\n",
              "    </tr>\n",
              "    <tr>\n",
              "      <th>6863</th>\n",
              "      <td>DZ Puzzle</td>\n",
              "      <td>FAMILY</td>\n",
              "      <td>4.3</td>\n",
              "      <td>14</td>\n",
              "      <td>47.000000</td>\n",
              "      <td>10</td>\n",
              "      <td>Paid</td>\n",
              "      <td>0.99</td>\n",
              "      <td>Everyone</td>\n",
              "      <td>Puzzle</td>\n",
              "      <td>April 22, 2017</td>\n",
              "      <td>1.2</td>\n",
              "      <td>2.3 and up</td>\n",
              "    </tr>\n",
              "    <tr>\n",
              "      <th>8300</th>\n",
              "      <td>Mu.F.O.</td>\n",
              "      <td>GAME</td>\n",
              "      <td>5.0</td>\n",
              "      <td>2</td>\n",
              "      <td>16.000000</td>\n",
              "      <td>1</td>\n",
              "      <td>Paid</td>\n",
              "      <td>0.99</td>\n",
              "      <td>Everyone</td>\n",
              "      <td>Arcade</td>\n",
              "      <td>March 3, 2017</td>\n",
              "      <td>1.0</td>\n",
              "      <td>2.3 and up</td>\n",
              "    </tr>\n",
              "  </tbody>\n",
              "</table>\n",
              "</div>\n",
              "      <button class=\"colab-df-convert\" onclick=\"convertToInteractive('df-f6195d84-3b78-4b27-bcac-220213bd8f5e')\"\n",
              "              title=\"Convert this dataframe to an interactive table.\"\n",
              "              style=\"display:none;\">\n",
              "        \n",
              "  <svg xmlns=\"http://www.w3.org/2000/svg\" height=\"24px\"viewBox=\"0 0 24 24\"\n",
              "       width=\"24px\">\n",
              "    <path d=\"M0 0h24v24H0V0z\" fill=\"none\"/>\n",
              "    <path d=\"M18.56 5.44l.94 2.06.94-2.06 2.06-.94-2.06-.94-.94-2.06-.94 2.06-2.06.94zm-11 1L8.5 8.5l.94-2.06 2.06-.94-2.06-.94L8.5 2.5l-.94 2.06-2.06.94zm10 10l.94 2.06.94-2.06 2.06-.94-2.06-.94-.94-2.06-.94 2.06-2.06.94z\"/><path d=\"M17.41 7.96l-1.37-1.37c-.4-.4-.92-.59-1.43-.59-.52 0-1.04.2-1.43.59L10.3 9.45l-7.72 7.72c-.78.78-.78 2.05 0 2.83L4 21.41c.39.39.9.59 1.41.59.51 0 1.02-.2 1.41-.59l7.78-7.78 2.81-2.81c.8-.78.8-2.07 0-2.86zM5.41 20L4 18.59l7.72-7.72 1.47 1.35L5.41 20z\"/>\n",
              "  </svg>\n",
              "      </button>\n",
              "      \n",
              "  <style>\n",
              "    .colab-df-container {\n",
              "      display:flex;\n",
              "      flex-wrap:wrap;\n",
              "      gap: 12px;\n",
              "    }\n",
              "\n",
              "    .colab-df-convert {\n",
              "      background-color: #E8F0FE;\n",
              "      border: none;\n",
              "      border-radius: 50%;\n",
              "      cursor: pointer;\n",
              "      display: none;\n",
              "      fill: #1967D2;\n",
              "      height: 32px;\n",
              "      padding: 0 0 0 0;\n",
              "      width: 32px;\n",
              "    }\n",
              "\n",
              "    .colab-df-convert:hover {\n",
              "      background-color: #E2EBFA;\n",
              "      box-shadow: 0px 1px 2px rgba(60, 64, 67, 0.3), 0px 1px 3px 1px rgba(60, 64, 67, 0.15);\n",
              "      fill: #174EA6;\n",
              "    }\n",
              "\n",
              "    [theme=dark] .colab-df-convert {\n",
              "      background-color: #3B4455;\n",
              "      fill: #D2E3FC;\n",
              "    }\n",
              "\n",
              "    [theme=dark] .colab-df-convert:hover {\n",
              "      background-color: #434B5C;\n",
              "      box-shadow: 0px 1px 3px 1px rgba(0, 0, 0, 0.15);\n",
              "      filter: drop-shadow(0px 1px 2px rgba(0, 0, 0, 0.3));\n",
              "      fill: #FFFFFF;\n",
              "    }\n",
              "  </style>\n",
              "\n",
              "      <script>\n",
              "        const buttonEl =\n",
              "          document.querySelector('#df-f6195d84-3b78-4b27-bcac-220213bd8f5e button.colab-df-convert');\n",
              "        buttonEl.style.display =\n",
              "          google.colab.kernel.accessAllowed ? 'block' : 'none';\n",
              "\n",
              "        async function convertToInteractive(key) {\n",
              "          const element = document.querySelector('#df-f6195d84-3b78-4b27-bcac-220213bd8f5e');\n",
              "          const dataTable =\n",
              "            await google.colab.kernel.invokeFunction('convertToInteractive',\n",
              "                                                     [key], {});\n",
              "          if (!dataTable) return;\n",
              "\n",
              "          const docLinkHtml = 'Like what you see? Visit the ' +\n",
              "            '<a target=\"_blank\" href=https://colab.research.google.com/notebooks/data_table.ipynb>data table notebook</a>'\n",
              "            + ' to learn more about interactive tables.';\n",
              "          element.innerHTML = '';\n",
              "          dataTable['output_type'] = 'display_data';\n",
              "          await google.colab.output.renderOutput(dataTable, element);\n",
              "          const docLink = document.createElement('div');\n",
              "          docLink.innerHTML = docLinkHtml;\n",
              "          element.appendChild(docLink);\n",
              "        }\n",
              "      </script>\n",
              "    </div>\n",
              "  </div>\n",
              "  "
            ],
            "text/plain": [
              "                                    App  ...   Android_Ver\n",
              "1546                KBA-EZ Health Guide  ...  4.0.3 and up\n",
              "2836  RMEduS - 음성인식을 활용한 R 프로그래밍 실습 시스템  ...    4.4 and up\n",
              "3904            AX Watch for WatchMaker  ...    2.3 and up\n",
              "3999                           Ra Ga Ba  ...    2.3 and up\n",
              "4530                         Sam.BN Pro  ...  4.0.3 and up\n",
              "4692                   Brick Breaker BR  ...    4.1 and up\n",
              "5337               Trovami se ci riesci  ...    2.3 and up\n",
              "6415                            DN Blog  ...    4.0 and up\n",
              "6863                          DZ Puzzle  ...    2.3 and up\n",
              "8300                            Mu.F.O.  ...    2.3 and up\n",
              "\n",
              "[10 rows x 13 columns]"
            ]
          },
          "metadata": {},
          "execution_count": 46
        }
      ]
    },
    {
      "cell_type": "code",
      "source": [
        "# Now we remove fake data firstly stored in temporary variable\n",
        "temp_= play_store_df.loc[play_store_df['Reviews']>play_store_df['Installs']].index\n",
        "play_store_df.drop(labels=temp_,inplace=True)"
      ],
      "metadata": {
        "id": "-Cs1EOT1-QmU"
      },
      "execution_count": 47,
      "outputs": []
    },
    {
      "cell_type": "code",
      "source": [
        "play_store_df.loc[play_store_df['Reviews']>play_store_df['Installs']]"
      ],
      "metadata": {
        "colab": {
          "base_uri": "https://localhost:8080/",
          "height": 49
        },
        "id": "SLpC4sgE-ZuI",
        "outputId": "946c4502-4395-48ea-9d7a-c1c04f815332"
      },
      "execution_count": 48,
      "outputs": [
        {
          "output_type": "execute_result",
          "data": {
            "text/html": [
              "\n",
              "  <div id=\"df-09b54051-d717-4872-82b9-b4f831ea4730\">\n",
              "    <div class=\"colab-df-container\">\n",
              "      <div>\n",
              "<style scoped>\n",
              "    .dataframe tbody tr th:only-of-type {\n",
              "        vertical-align: middle;\n",
              "    }\n",
              "\n",
              "    .dataframe tbody tr th {\n",
              "        vertical-align: top;\n",
              "    }\n",
              "\n",
              "    .dataframe thead th {\n",
              "        text-align: right;\n",
              "    }\n",
              "</style>\n",
              "<table border=\"1\" class=\"dataframe\">\n",
              "  <thead>\n",
              "    <tr style=\"text-align: right;\">\n",
              "      <th></th>\n",
              "      <th>App</th>\n",
              "      <th>Category</th>\n",
              "      <th>Rating</th>\n",
              "      <th>Reviews</th>\n",
              "      <th>Size</th>\n",
              "      <th>Installs</th>\n",
              "      <th>Type</th>\n",
              "      <th>Price</th>\n",
              "      <th>Content_Rating</th>\n",
              "      <th>Genres</th>\n",
              "      <th>Last_Updated</th>\n",
              "      <th>Current_Ver</th>\n",
              "      <th>Android_Ver</th>\n",
              "    </tr>\n",
              "  </thead>\n",
              "  <tbody>\n",
              "  </tbody>\n",
              "</table>\n",
              "</div>\n",
              "      <button class=\"colab-df-convert\" onclick=\"convertToInteractive('df-09b54051-d717-4872-82b9-b4f831ea4730')\"\n",
              "              title=\"Convert this dataframe to an interactive table.\"\n",
              "              style=\"display:none;\">\n",
              "        \n",
              "  <svg xmlns=\"http://www.w3.org/2000/svg\" height=\"24px\"viewBox=\"0 0 24 24\"\n",
              "       width=\"24px\">\n",
              "    <path d=\"M0 0h24v24H0V0z\" fill=\"none\"/>\n",
              "    <path d=\"M18.56 5.44l.94 2.06.94-2.06 2.06-.94-2.06-.94-.94-2.06-.94 2.06-2.06.94zm-11 1L8.5 8.5l.94-2.06 2.06-.94-2.06-.94L8.5 2.5l-.94 2.06-2.06.94zm10 10l.94 2.06.94-2.06 2.06-.94-2.06-.94-.94-2.06-.94 2.06-2.06.94z\"/><path d=\"M17.41 7.96l-1.37-1.37c-.4-.4-.92-.59-1.43-.59-.52 0-1.04.2-1.43.59L10.3 9.45l-7.72 7.72c-.78.78-.78 2.05 0 2.83L4 21.41c.39.39.9.59 1.41.59.51 0 1.02-.2 1.41-.59l7.78-7.78 2.81-2.81c.8-.78.8-2.07 0-2.86zM5.41 20L4 18.59l7.72-7.72 1.47 1.35L5.41 20z\"/>\n",
              "  </svg>\n",
              "      </button>\n",
              "      \n",
              "  <style>\n",
              "    .colab-df-container {\n",
              "      display:flex;\n",
              "      flex-wrap:wrap;\n",
              "      gap: 12px;\n",
              "    }\n",
              "\n",
              "    .colab-df-convert {\n",
              "      background-color: #E8F0FE;\n",
              "      border: none;\n",
              "      border-radius: 50%;\n",
              "      cursor: pointer;\n",
              "      display: none;\n",
              "      fill: #1967D2;\n",
              "      height: 32px;\n",
              "      padding: 0 0 0 0;\n",
              "      width: 32px;\n",
              "    }\n",
              "\n",
              "    .colab-df-convert:hover {\n",
              "      background-color: #E2EBFA;\n",
              "      box-shadow: 0px 1px 2px rgba(60, 64, 67, 0.3), 0px 1px 3px 1px rgba(60, 64, 67, 0.15);\n",
              "      fill: #174EA6;\n",
              "    }\n",
              "\n",
              "    [theme=dark] .colab-df-convert {\n",
              "      background-color: #3B4455;\n",
              "      fill: #D2E3FC;\n",
              "    }\n",
              "\n",
              "    [theme=dark] .colab-df-convert:hover {\n",
              "      background-color: #434B5C;\n",
              "      box-shadow: 0px 1px 3px 1px rgba(0, 0, 0, 0.15);\n",
              "      filter: drop-shadow(0px 1px 2px rgba(0, 0, 0, 0.3));\n",
              "      fill: #FFFFFF;\n",
              "    }\n",
              "  </style>\n",
              "\n",
              "      <script>\n",
              "        const buttonEl =\n",
              "          document.querySelector('#df-09b54051-d717-4872-82b9-b4f831ea4730 button.colab-df-convert');\n",
              "        buttonEl.style.display =\n",
              "          google.colab.kernel.accessAllowed ? 'block' : 'none';\n",
              "\n",
              "        async function convertToInteractive(key) {\n",
              "          const element = document.querySelector('#df-09b54051-d717-4872-82b9-b4f831ea4730');\n",
              "          const dataTable =\n",
              "            await google.colab.kernel.invokeFunction('convertToInteractive',\n",
              "                                                     [key], {});\n",
              "          if (!dataTable) return;\n",
              "\n",
              "          const docLinkHtml = 'Like what you see? Visit the ' +\n",
              "            '<a target=\"_blank\" href=https://colab.research.google.com/notebooks/data_table.ipynb>data table notebook</a>'\n",
              "            + ' to learn more about interactive tables.';\n",
              "          element.innerHTML = '';\n",
              "          dataTable['output_type'] = 'display_data';\n",
              "          await google.colab.output.renderOutput(dataTable, element);\n",
              "          const docLink = document.createElement('div');\n",
              "          docLink.innerHTML = docLinkHtml;\n",
              "          element.appendChild(docLink);\n",
              "        }\n",
              "      </script>\n",
              "    </div>\n",
              "  </div>\n",
              "  "
            ],
            "text/plain": [
              "Empty DataFrame\n",
              "Columns: [App, Category, Rating, Reviews, Size, Installs, Type, Price, Content_Rating, Genres, Last_Updated, Current_Ver, Android_Ver]\n",
              "Index: []"
            ]
          },
          "metadata": {},
          "execution_count": 48
        }
      ]
    },
    {
      "cell_type": "markdown",
      "source": [
        "# Missing value procedure done"
      ],
      "metadata": {
        "id": "m8fUwLIQ-mW0"
      }
    },
    {
      "cell_type": "code",
      "source": [
        "play_store_df.isnull().sum()"
      ],
      "metadata": {
        "colab": {
          "base_uri": "https://localhost:8080/"
        },
        "id": "HZxrHAoN-dW_",
        "outputId": "47c4465b-6576-45c7-beb2-9691500f829a"
      },
      "execution_count": 50,
      "outputs": [
        {
          "output_type": "execute_result",
          "data": {
            "text/plain": [
              "App               0\n",
              "Category          0\n",
              "Rating            0\n",
              "Reviews           0\n",
              "Size              0\n",
              "Installs          0\n",
              "Type              0\n",
              "Price             0\n",
              "Content_Rating    0\n",
              "Genres            0\n",
              "Last_Updated      0\n",
              "Current_Ver       0\n",
              "Android_Ver       0\n",
              "dtype: int64"
            ]
          },
          "metadata": {},
          "execution_count": 50
        }
      ]
    },
    {
      "cell_type": "markdown",
      "source": [
        "#**Correct Data Type**"
      ],
      "metadata": {
        "id": "1KIPzrN1Csm8"
      }
    },
    {
      "cell_type": "code",
      "metadata": {
        "colab": {
          "base_uri": "https://localhost:8080/"
        },
        "id": "gDzwV2YjFUYB",
        "outputId": "24855410-460c-4daa-e2c6-e1534903d1a4"
      },
      "source": [
        "play_store_df.info()"
      ],
      "execution_count": 52,
      "outputs": [
        {
          "output_type": "stream",
          "name": "stdout",
          "text": [
            "<class 'pandas.core.frame.DataFrame'>\n",
            "Int64Index: 8422 entries, 0 to 8431\n",
            "Data columns (total 13 columns):\n",
            " #   Column          Non-Null Count  Dtype  \n",
            "---  ------          --------------  -----  \n",
            " 0   App             8422 non-null   object \n",
            " 1   Category        8422 non-null   object \n",
            " 2   Rating          8422 non-null   float64\n",
            " 3   Reviews         8422 non-null   int64  \n",
            " 4   Size            8422 non-null   float64\n",
            " 5   Installs        8422 non-null   int64  \n",
            " 6   Type            8422 non-null   object \n",
            " 7   Price           8422 non-null   float64\n",
            " 8   Content_Rating  8422 non-null   object \n",
            " 9   Genres          8422 non-null   object \n",
            " 10  Last_Updated    8422 non-null   object \n",
            " 11  Current_Ver     8422 non-null   object \n",
            " 12  Android_Ver     8422 non-null   object \n",
            "dtypes: float64(3), int64(2), object(8)\n",
            "memory usage: 921.2+ KB\n"
          ]
        }
      ]
    }
  ]
}